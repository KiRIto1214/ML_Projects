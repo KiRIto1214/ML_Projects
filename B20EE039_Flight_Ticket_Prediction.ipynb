{
  "nbformat": 4,
  "nbformat_minor": 0,
  "metadata": {
    "colab": {
      "name": "B20EE039_Flight_Ticket_Prediction.ipynb",
      "provenance": [],
      "authorship_tag": "ABX9TyM30dO/j3007CCqW1mlbpx+",
      "include_colab_link": true
    },
    "kernelspec": {
      "name": "python3",
      "display_name": "Python 3"
    },
    "language_info": {
      "name": "python"
    }
  },
  "cells": [
    {
      "cell_type": "markdown",
      "metadata": {
        "id": "view-in-github",
        "colab_type": "text"
      },
      "source": [
        "<a href=\"https://colab.research.google.com/github/KiRIto1214/ML_Projects/blob/main/B20EE039_Flight_Ticket_Prediction.ipynb\" target=\"_parent\"><img src=\"https://colab.research.google.com/assets/colab-badge.svg\" alt=\"Open In Colab\"/></a>"
      ]
    },
    {
      "cell_type": "code",
      "execution_count": null,
      "metadata": {
        "colab": {
          "base_uri": "https://localhost:8080/"
        },
        "id": "iFrNCt65HOjM",
        "outputId": "55681f6b-b77b-4dfa-d6e4-855876084293"
      },
      "outputs": [
        {
          "output_type": "stream",
          "name": "stdout",
          "text": [
            "Mounted at /content/drive\n"
          ]
        }
      ],
      "source": [
        "from google.colab import drive\n",
        "drive.mount('/content/drive')"
      ]
    },
    {
      "cell_type": "markdown",
      "source": [
        "DataSet - https://docs.google.com/spreadsheets/d/1duJy_VZoxnF_1jydxndbFDo1ubc-sX6W/edit#gid=1005231314\n"
      ],
      "metadata": {
        "id": "WEMUjN16IsEl"
      }
    },
    {
      "cell_type": "code",
      "source": [
        "import pandas as pd\n",
        "import numpy as np\n",
        "import csv\n",
        "import matplotlib.pyplot as plt\n",
        "import pandas as pd\n",
        "import sklearn\n",
        "import seaborn as sns\n",
        "from sklearn import metrics\n",
        "from sklearn import preprocessing\n",
        "from sklearn.preprocessing import StandardScaler\n",
        "from sklearn.model_selection import train_test_split\n",
        "\n",
        "from sklearn.naive_bayes import GaussianNB\n",
        "\n",
        "from sklearn.metrics import accuracy_score , classification_report\n",
        "\n",
        "data = pd.read_csv(\"/content/drive/MyDrive/Colab Notebooks/Airline_data_project.csv.csv\")\n",
        "\n",
        "data.head()"
      ],
      "metadata": {
        "colab": {
          "base_uri": "https://localhost:8080/",
          "height": 206
        },
        "id": "iNXynyJFH4Hy",
        "outputId": "38f1d85f-28f0-46c1-b86d-8836703838e7"
      },
      "execution_count": null,
      "outputs": [
        {
          "output_type": "execute_result",
          "data": {
            "text/plain": [
              "       Airline Date_of_Journey    Source Destination                  Route  \\\n",
              "0       IndiGo      24/03/2019  Banglore   New Delhi              BLR → DEL   \n",
              "1    Air India       1/05/2019   Kolkata    Banglore  CCU → IXR → BBI → BLR   \n",
              "2  Jet Airways       9/06/2019     Delhi      Cochin  DEL → LKO → BOM → COK   \n",
              "3       IndiGo      12/05/2019   Kolkata    Banglore        CCU → NAG → BLR   \n",
              "4       IndiGo      01/03/2019  Banglore   New Delhi        BLR → NAG → DEL   \n",
              "\n",
              "  Dep_Time  Arrival_Time Duration Total_Stops Additional_Info  Price  \n",
              "0    22:20  01:10 22 Mar   2h 50m    non-stop         No info   3897  \n",
              "1    05:50         13:15   7h 25m     2 stops         No info   7662  \n",
              "2    09:25  04:25 10 Jun      19h     2 stops         No info  13882  \n",
              "3    18:05         23:30   5h 25m      1 stop         No info   6218  \n",
              "4    16:50         21:35   4h 45m      1 stop         No info  13302  "
            ],
            "text/html": [
              "\n",
              "  <div id=\"df-e2da56a1-30c5-47ac-a0f1-5ab397e22573\">\n",
              "    <div class=\"colab-df-container\">\n",
              "      <div>\n",
              "<style scoped>\n",
              "    .dataframe tbody tr th:only-of-type {\n",
              "        vertical-align: middle;\n",
              "    }\n",
              "\n",
              "    .dataframe tbody tr th {\n",
              "        vertical-align: top;\n",
              "    }\n",
              "\n",
              "    .dataframe thead th {\n",
              "        text-align: right;\n",
              "    }\n",
              "</style>\n",
              "<table border=\"1\" class=\"dataframe\">\n",
              "  <thead>\n",
              "    <tr style=\"text-align: right;\">\n",
              "      <th></th>\n",
              "      <th>Airline</th>\n",
              "      <th>Date_of_Journey</th>\n",
              "      <th>Source</th>\n",
              "      <th>Destination</th>\n",
              "      <th>Route</th>\n",
              "      <th>Dep_Time</th>\n",
              "      <th>Arrival_Time</th>\n",
              "      <th>Duration</th>\n",
              "      <th>Total_Stops</th>\n",
              "      <th>Additional_Info</th>\n",
              "      <th>Price</th>\n",
              "    </tr>\n",
              "  </thead>\n",
              "  <tbody>\n",
              "    <tr>\n",
              "      <th>0</th>\n",
              "      <td>IndiGo</td>\n",
              "      <td>24/03/2019</td>\n",
              "      <td>Banglore</td>\n",
              "      <td>New Delhi</td>\n",
              "      <td>BLR → DEL</td>\n",
              "      <td>22:20</td>\n",
              "      <td>01:10 22 Mar</td>\n",
              "      <td>2h 50m</td>\n",
              "      <td>non-stop</td>\n",
              "      <td>No info</td>\n",
              "      <td>3897</td>\n",
              "    </tr>\n",
              "    <tr>\n",
              "      <th>1</th>\n",
              "      <td>Air India</td>\n",
              "      <td>1/05/2019</td>\n",
              "      <td>Kolkata</td>\n",
              "      <td>Banglore</td>\n",
              "      <td>CCU → IXR → BBI → BLR</td>\n",
              "      <td>05:50</td>\n",
              "      <td>13:15</td>\n",
              "      <td>7h 25m</td>\n",
              "      <td>2 stops</td>\n",
              "      <td>No info</td>\n",
              "      <td>7662</td>\n",
              "    </tr>\n",
              "    <tr>\n",
              "      <th>2</th>\n",
              "      <td>Jet Airways</td>\n",
              "      <td>9/06/2019</td>\n",
              "      <td>Delhi</td>\n",
              "      <td>Cochin</td>\n",
              "      <td>DEL → LKO → BOM → COK</td>\n",
              "      <td>09:25</td>\n",
              "      <td>04:25 10 Jun</td>\n",
              "      <td>19h</td>\n",
              "      <td>2 stops</td>\n",
              "      <td>No info</td>\n",
              "      <td>13882</td>\n",
              "    </tr>\n",
              "    <tr>\n",
              "      <th>3</th>\n",
              "      <td>IndiGo</td>\n",
              "      <td>12/05/2019</td>\n",
              "      <td>Kolkata</td>\n",
              "      <td>Banglore</td>\n",
              "      <td>CCU → NAG → BLR</td>\n",
              "      <td>18:05</td>\n",
              "      <td>23:30</td>\n",
              "      <td>5h 25m</td>\n",
              "      <td>1 stop</td>\n",
              "      <td>No info</td>\n",
              "      <td>6218</td>\n",
              "    </tr>\n",
              "    <tr>\n",
              "      <th>4</th>\n",
              "      <td>IndiGo</td>\n",
              "      <td>01/03/2019</td>\n",
              "      <td>Banglore</td>\n",
              "      <td>New Delhi</td>\n",
              "      <td>BLR → NAG → DEL</td>\n",
              "      <td>16:50</td>\n",
              "      <td>21:35</td>\n",
              "      <td>4h 45m</td>\n",
              "      <td>1 stop</td>\n",
              "      <td>No info</td>\n",
              "      <td>13302</td>\n",
              "    </tr>\n",
              "  </tbody>\n",
              "</table>\n",
              "</div>\n",
              "      <button class=\"colab-df-convert\" onclick=\"convertToInteractive('df-e2da56a1-30c5-47ac-a0f1-5ab397e22573')\"\n",
              "              title=\"Convert this dataframe to an interactive table.\"\n",
              "              style=\"display:none;\">\n",
              "        \n",
              "  <svg xmlns=\"http://www.w3.org/2000/svg\" height=\"24px\"viewBox=\"0 0 24 24\"\n",
              "       width=\"24px\">\n",
              "    <path d=\"M0 0h24v24H0V0z\" fill=\"none\"/>\n",
              "    <path d=\"M18.56 5.44l.94 2.06.94-2.06 2.06-.94-2.06-.94-.94-2.06-.94 2.06-2.06.94zm-11 1L8.5 8.5l.94-2.06 2.06-.94-2.06-.94L8.5 2.5l-.94 2.06-2.06.94zm10 10l.94 2.06.94-2.06 2.06-.94-2.06-.94-.94-2.06-.94 2.06-2.06.94z\"/><path d=\"M17.41 7.96l-1.37-1.37c-.4-.4-.92-.59-1.43-.59-.52 0-1.04.2-1.43.59L10.3 9.45l-7.72 7.72c-.78.78-.78 2.05 0 2.83L4 21.41c.39.39.9.59 1.41.59.51 0 1.02-.2 1.41-.59l7.78-7.78 2.81-2.81c.8-.78.8-2.07 0-2.86zM5.41 20L4 18.59l7.72-7.72 1.47 1.35L5.41 20z\"/>\n",
              "  </svg>\n",
              "      </button>\n",
              "      \n",
              "  <style>\n",
              "    .colab-df-container {\n",
              "      display:flex;\n",
              "      flex-wrap:wrap;\n",
              "      gap: 12px;\n",
              "    }\n",
              "\n",
              "    .colab-df-convert {\n",
              "      background-color: #E8F0FE;\n",
              "      border: none;\n",
              "      border-radius: 50%;\n",
              "      cursor: pointer;\n",
              "      display: none;\n",
              "      fill: #1967D2;\n",
              "      height: 32px;\n",
              "      padding: 0 0 0 0;\n",
              "      width: 32px;\n",
              "    }\n",
              "\n",
              "    .colab-df-convert:hover {\n",
              "      background-color: #E2EBFA;\n",
              "      box-shadow: 0px 1px 2px rgba(60, 64, 67, 0.3), 0px 1px 3px 1px rgba(60, 64, 67, 0.15);\n",
              "      fill: #174EA6;\n",
              "    }\n",
              "\n",
              "    [theme=dark] .colab-df-convert {\n",
              "      background-color: #3B4455;\n",
              "      fill: #D2E3FC;\n",
              "    }\n",
              "\n",
              "    [theme=dark] .colab-df-convert:hover {\n",
              "      background-color: #434B5C;\n",
              "      box-shadow: 0px 1px 3px 1px rgba(0, 0, 0, 0.15);\n",
              "      filter: drop-shadow(0px 1px 2px rgba(0, 0, 0, 0.3));\n",
              "      fill: #FFFFFF;\n",
              "    }\n",
              "  </style>\n",
              "\n",
              "      <script>\n",
              "        const buttonEl =\n",
              "          document.querySelector('#df-e2da56a1-30c5-47ac-a0f1-5ab397e22573 button.colab-df-convert');\n",
              "        buttonEl.style.display =\n",
              "          google.colab.kernel.accessAllowed ? 'block' : 'none';\n",
              "\n",
              "        async function convertToInteractive(key) {\n",
              "          const element = document.querySelector('#df-e2da56a1-30c5-47ac-a0f1-5ab397e22573');\n",
              "          const dataTable =\n",
              "            await google.colab.kernel.invokeFunction('convertToInteractive',\n",
              "                                                     [key], {});\n",
              "          if (!dataTable) return;\n",
              "\n",
              "          const docLinkHtml = 'Like what you see? Visit the ' +\n",
              "            '<a target=\"_blank\" href=https://colab.research.google.com/notebooks/data_table.ipynb>data table notebook</a>'\n",
              "            + ' to learn more about interactive tables.';\n",
              "          element.innerHTML = '';\n",
              "          dataTable['output_type'] = 'display_data';\n",
              "          await google.colab.output.renderOutput(dataTable, element);\n",
              "          const docLink = document.createElement('div');\n",
              "          docLink.innerHTML = docLinkHtml;\n",
              "          element.appendChild(docLink);\n",
              "        }\n",
              "      </script>\n",
              "    </div>\n",
              "  </div>\n",
              "  "
            ]
          },
          "metadata": {},
          "execution_count": 3
        }
      ]
    },
    {
      "cell_type": "markdown",
      "source": [
        "EDA"
      ],
      "metadata": {
        "id": "Xpph3v1tPK02"
      }
    },
    {
      "cell_type": "code",
      "source": [
        "data = data.dropna()"
      ],
      "metadata": {
        "id": "wvLaRiviIymd"
      },
      "execution_count": null,
      "outputs": []
    },
    {
      "cell_type": "code",
      "source": [
        "data.info()"
      ],
      "metadata": {
        "colab": {
          "base_uri": "https://localhost:8080/"
        },
        "id": "3QkAYdj4JN9m",
        "outputId": "ae6e0c06-3235-48ab-dd3d-aef98d1a8bc5"
      },
      "execution_count": null,
      "outputs": [
        {
          "output_type": "stream",
          "name": "stdout",
          "text": [
            "<class 'pandas.core.frame.DataFrame'>\n",
            "Int64Index: 10682 entries, 0 to 10682\n",
            "Data columns (total 11 columns):\n",
            " #   Column           Non-Null Count  Dtype \n",
            "---  ------           --------------  ----- \n",
            " 0   Airline          10682 non-null  object\n",
            " 1   Date_of_Journey  10682 non-null  object\n",
            " 2   Source           10682 non-null  object\n",
            " 3   Destination      10682 non-null  object\n",
            " 4   Route            10682 non-null  object\n",
            " 5   Dep_Time         10682 non-null  object\n",
            " 6   Arrival_Time     10682 non-null  object\n",
            " 7   Duration         10682 non-null  object\n",
            " 8   Total_Stops      10682 non-null  object\n",
            " 9   Additional_Info  10682 non-null  object\n",
            " 10  Price            10682 non-null  int64 \n",
            "dtypes: int64(1), object(10)\n",
            "memory usage: 1001.4+ KB\n"
          ]
        }
      ]
    },
    {
      "cell_type": "code",
      "source": [
        "data.shape"
      ],
      "metadata": {
        "colab": {
          "base_uri": "https://localhost:8080/"
        },
        "id": "G-j3zcKE61jq",
        "outputId": "fe7ac0af-b790-4ad0-df0d-22a3e7cd8686"
      },
      "execution_count": null,
      "outputs": [
        {
          "output_type": "execute_result",
          "data": {
            "text/plain": [
              "(10682, 13)"
            ]
          },
          "metadata": {},
          "execution_count": 69
        }
      ]
    },
    {
      "cell_type": "code",
      "source": [
        "import seaborn as sns\n",
        "sns.set()\n",
        "sns.catplot(y = \"Price\", x = \"Airline\", data = data.sort_values(\"Price\", ascending = False), kind=\"boxen\", height = 6, aspect = 5)\n",
        "plt.show()"
      ],
      "metadata": {
        "colab": {
          "base_uri": "https://localhost:8080/",
          "height": 294
        },
        "id": "zrohTS73hib-",
        "outputId": "011d2c47-138f-406e-e810-f445ab37cf97"
      },
      "execution_count": null,
      "outputs": [
        {
          "output_type": "display_data",
          "data": {
            "text/plain": [
              "<Figure size 2160x432 with 1 Axes>"
            ],
            "image/png": "[encoded data removed]"
          },
          "metadata": {}
        }
      ]
    },
    {
      "cell_type": "code",
      "source": [
        "sns.catplot(y = \"Price\", x = \"Source\", data = data.sort_values(\"Price\", ascending = False), kind=\"boxen\", height = 4, aspect = 3)\n",
        "plt.show()"
      ],
      "metadata": {
        "colab": {
          "base_uri": "https://localhost:8080/",
          "height": 293
        },
        "id": "6onZw2CwiYPP",
        "outputId": "6981c976-2594-4d41-96b8-ed91d0d87b39"
      },
      "execution_count": null,
      "outputs": [
        {
          "output_type": "display_data",
          "data": {
            "text/plain": [
              "<Figure size 864x288 with 1 Axes>"
            ],
            "image/png": "[encoded data removed]"
          },
          "metadata": {}
        }
      ]
    },
    {
      "cell_type": "code",
      "source": [
        "data[\"Journey_day\"] = pd.to_datetime(data['Date_of_Journey'], format=\"%d/%m/%Y\").dt.day\n",
        "data[\"Journey_month\"] = pd.to_datetime(data[\"Date_of_Journey\"], format = \"%d/%m/%Y\").dt.month\n",
        "data[\"Dep_hour\"] = pd.to_datetime(data[\"Dep_Time\"]).dt.hour\n",
        "data[\"Dep_min\"] = pd.to_datetime(data[\"Dep_Time\"]).dt.minute"
      ],
      "metadata": {
        "id": "satH2rhZJ1DU"
      },
      "execution_count": null,
      "outputs": []
    },
    {
      "cell_type": "code",
      "source": [
        "data = data.drop(['Date_of_Journey','Dep_Time'],axis=1)\n",
        "\n",
        "data.head()"
      ],
      "metadata": {
        "colab": {
          "base_uri": "https://localhost:8080/",
          "height": 206
        },
        "id": "eArTnPJOJ-Fi",
        "outputId": "c5e252f5-8b5e-4f67-c463-b9e68392b957"
      },
      "execution_count": null,
      "outputs": [
        {
          "output_type": "execute_result",
          "data": {
            "text/plain": [
              "       Airline    Source Destination                  Route  Arrival_Time  \\\n",
              "0       IndiGo  Banglore   New Delhi              BLR → DEL  01:10 22 Mar   \n",
              "1    Air India   Kolkata    Banglore  CCU → IXR → BBI → BLR         13:15   \n",
              "2  Jet Airways     Delhi      Cochin  DEL → LKO → BOM → COK  04:25 10 Jun   \n",
              "3       IndiGo   Kolkata    Banglore        CCU → NAG → BLR         23:30   \n",
              "4       IndiGo  Banglore   New Delhi        BLR → NAG → DEL         21:35   \n",
              "\n",
              "  Duration Total_Stops Additional_Info  Price  Journey_day  Journey_month  \\\n",
              "0   2h 50m    non-stop         No info   3897           24              3   \n",
              "1   7h 25m     2 stops         No info   7662            1              5   \n",
              "2      19h     2 stops         No info  13882            9              6   \n",
              "3   5h 25m      1 stop         No info   6218           12              5   \n",
              "4   4h 45m      1 stop         No info  13302            1              3   \n",
              "\n",
              "   Dep_hour  Dep_min  \n",
              "0        22       20  \n",
              "1         5       50  \n",
              "2         9       25  \n",
              "3        18        5  \n",
              "4        16       50  "
            ],
            "text/html": [
              "\n",
              "  <div id=\"df-b846a8a0-9628-4892-80e1-c057b07c2646\">\n",
              "    <div class=\"colab-df-container\">\n",
              "      <div>\n",
              "<style scoped>\n",
              "    .dataframe tbody tr th:only-of-type {\n",
              "        vertical-align: middle;\n",
              "    }\n",
              "\n",
              "    .dataframe tbody tr th {\n",
              "        vertical-align: top;\n",
              "    }\n",
              "\n",
              "    .dataframe thead th {\n",
              "        text-align: right;\n",
              "    }\n",
              "</style>\n",
              "<table border=\"1\" class=\"dataframe\">\n",
              "  <thead>\n",
              "    <tr style=\"text-align: right;\">\n",
              "      <th></th>\n",
              "      <th>Airline</th>\n",
              "      <th>Source</th>\n",
              "      <th>Destination</th>\n",
              "      <th>Route</th>\n",
              "      <th>Arrival_Time</th>\n",
              "      <th>Duration</th>\n",
              "      <th>Total_Stops</th>\n",
              "      <th>Additional_Info</th>\n",
              "      <th>Price</th>\n",
              "      <th>Journey_day</th>\n",
              "      <th>Journey_month</th>\n",
              "      <th>Dep_hour</th>\n",
              "      <th>Dep_min</th>\n",
              "    </tr>\n",
              "  </thead>\n",
              "  <tbody>\n",
              "    <tr>\n",
              "      <th>0</th>\n",
              "      <td>IndiGo</td>\n",
              "      <td>Banglore</td>\n",
              "      <td>New Delhi</td>\n",
              "      <td>BLR → DEL</td>\n",
              "      <td>01:10 22 Mar</td>\n",
              "      <td>2h 50m</td>\n",
              "      <td>non-stop</td>\n",
              "      <td>No info</td>\n",
              "      <td>3897</td>\n",
              "      <td>24</td>\n",
              "      <td>3</td>\n",
              "      <td>22</td>\n",
              "      <td>20</td>\n",
              "    </tr>\n",
              "    <tr>\n",
              "      <th>1</th>\n",
              "      <td>Air India</td>\n",
              "      <td>Kolkata</td>\n",
              "      <td>Banglore</td>\n",
              "      <td>CCU → IXR → BBI → BLR</td>\n",
              "      <td>13:15</td>\n",
              "      <td>7h 25m</td>\n",
              "      <td>2 stops</td>\n",
              "      <td>No info</td>\n",
              "      <td>7662</td>\n",
              "      <td>1</td>\n",
              "      <td>5</td>\n",
              "      <td>5</td>\n",
              "      <td>50</td>\n",
              "    </tr>\n",
              "    <tr>\n",
              "      <th>2</th>\n",
              "      <td>Jet Airways</td>\n",
              "      <td>Delhi</td>\n",
              "      <td>Cochin</td>\n",
              "      <td>DEL → LKO → BOM → COK</td>\n",
              "      <td>04:25 10 Jun</td>\n",
              "      <td>19h</td>\n",
              "      <td>2 stops</td>\n",
              "      <td>No info</td>\n",
              "      <td>13882</td>\n",
              "      <td>9</td>\n",
              "      <td>6</td>\n",
              "      <td>9</td>\n",
              "      <td>25</td>\n",
              "    </tr>\n",
              "    <tr>\n",
              "      <th>3</th>\n",
              "      <td>IndiGo</td>\n",
              "      <td>Kolkata</td>\n",
              "      <td>Banglore</td>\n",
              "      <td>CCU → NAG → BLR</td>\n",
              "      <td>23:30</td>\n",
              "      <td>5h 25m</td>\n",
              "      <td>1 stop</td>\n",
              "      <td>No info</td>\n",
              "      <td>6218</td>\n",
              "      <td>12</td>\n",
              "      <td>5</td>\n",
              "      <td>18</td>\n",
              "      <td>5</td>\n",
              "    </tr>\n",
              "    <tr>\n",
              "      <th>4</th>\n",
              "      <td>IndiGo</td>\n",
              "      <td>Banglore</td>\n",
              "      <td>New Delhi</td>\n",
              "      <td>BLR → NAG → DEL</td>\n",
              "      <td>21:35</td>\n",
              "      <td>4h 45m</td>\n",
              "      <td>1 stop</td>\n",
              "      <td>No info</td>\n",
              "      <td>13302</td>\n",
              "      <td>1</td>\n",
              "      <td>3</td>\n",
              "      <td>16</td>\n",
              "      <td>50</td>\n",
              "    </tr>\n",
              "  </tbody>\n",
              "</table>\n",
              "</div>\n",
              "      <button class=\"colab-df-convert\" onclick=\"convertToInteractive('df-b846a8a0-9628-4892-80e1-c057b07c2646')\"\n",
              "              title=\"Convert this dataframe to an interactive table.\"\n",
              "              style=\"display:none;\">\n",
              "        \n",
              "  <svg xmlns=\"http://www.w3.org/2000/svg\" height=\"24px\"viewBox=\"0 0 24 24\"\n",
              "       width=\"24px\">\n",
              "    <path d=\"M0 0h24v24H0V0z\" fill=\"none\"/>\n",
              "    <path d=\"M18.56 5.44l.94 2.06.94-2.06 2.06-.94-2.06-.94-.94-2.06-.94 2.06-2.06.94zm-11 1L8.5 8.5l.94-2.06 2.06-.94-2.06-.94L8.5 2.5l-.94 2.06-2.06.94zm10 10l.94 2.06.94-2.06 2.06-.94-2.06-.94-.94-2.06-.94 2.06-2.06.94z\"/><path d=\"M17.41 7.96l-1.37-1.37c-.4-.4-.92-.59-1.43-.59-.52 0-1.04.2-1.43.59L10.3 9.45l-7.72 7.72c-.78.78-.78 2.05 0 2.83L4 21.41c.39.39.9.59 1.41.59.51 0 1.02-.2 1.41-.59l7.78-7.78 2.81-2.81c.8-.78.8-2.07 0-2.86zM5.41 20L4 18.59l7.72-7.72 1.47 1.35L5.41 20z\"/>\n",
              "  </svg>\n",
              "      </button>\n",
              "      \n",
              "  <style>\n",
              "    .colab-df-container {\n",
              "      display:flex;\n",
              "      flex-wrap:wrap;\n",
              "      gap: 12px;\n",
              "    }\n",
              "\n",
              "    .colab-df-convert {\n",
              "      background-color: #E8F0FE;\n",
              "      border: none;\n",
              "      border-radius: 50%;\n",
              "      cursor: pointer;\n",
              "      display: none;\n",
              "      fill: #1967D2;\n",
              "      height: 32px;\n",
              "      padding: 0 0 0 0;\n",
              "      width: 32px;\n",
              "    }\n",
              "\n",
              "    .colab-df-convert:hover {\n",
              "      background-color: #E2EBFA;\n",
              "      box-shadow: 0px 1px 2px rgba(60, 64, 67, 0.3), 0px 1px 3px 1px rgba(60, 64, 67, 0.15);\n",
              "      fill: #174EA6;\n",
              "    }\n",
              "\n",
              "    [theme=dark] .colab-df-convert {\n",
              "      background-color: #3B4455;\n",
              "      fill: #D2E3FC;\n",
              "    }\n",
              "\n",
              "    [theme=dark] .colab-df-convert:hover {\n",
              "      background-color: #434B5C;\n",
              "      box-shadow: 0px 1px 3px 1px rgba(0, 0, 0, 0.15);\n",
              "      filter: drop-shadow(0px 1px 2px rgba(0, 0, 0, 0.3));\n",
              "      fill: #FFFFFF;\n",
              "    }\n",
              "  </style>\n",
              "\n",
              "      <script>\n",
              "        const buttonEl =\n",
              "          document.querySelector('#df-b846a8a0-9628-4892-80e1-c057b07c2646 button.colab-df-convert');\n",
              "        buttonEl.style.display =\n",
              "          google.colab.kernel.accessAllowed ? 'block' : 'none';\n",
              "\n",
              "        async function convertToInteractive(key) {\n",
              "          const element = document.querySelector('#df-b846a8a0-9628-4892-80e1-c057b07c2646');\n",
              "          const dataTable =\n",
              "            await google.colab.kernel.invokeFunction('convertToInteractive',\n",
              "                                                     [key], {});\n",
              "          if (!dataTable) return;\n",
              "\n",
              "          const docLinkHtml = 'Like what you see? Visit the ' +\n",
              "            '<a target=\"_blank\" href=https://colab.research.google.com/notebooks/data_table.ipynb>data table notebook</a>'\n",
              "            + ' to learn more about interactive tables.';\n",
              "          element.innerHTML = '';\n",
              "          dataTable['output_type'] = 'display_data';\n",
              "          await google.colab.output.renderOutput(dataTable, element);\n",
              "          const docLink = document.createElement('div');\n",
              "          docLink.innerHTML = docLinkHtml;\n",
              "          element.appendChild(docLink);\n",
              "        }\n",
              "      </script>\n",
              "    </div>\n",
              "  </div>\n",
              "  "
            ]
          },
          "metadata": {},
          "execution_count": 9
        }
      ]
    },
    {
      "cell_type": "code",
      "source": [
        "data[\"Arrival_hour\"] = pd.to_datetime(data['Arrival_Time']).dt.hour\n",
        "\n",
        "\n",
        "data[\"Arrival_min\"] = pd.to_datetime(data['Arrival_Time']).dt.minute\n",
        "\n",
        "data = data.drop(['Arrival_Time'],axis=1)"
      ],
      "metadata": {
        "id": "YDM_ZdyxKHwl"
      },
      "execution_count": null,
      "outputs": []
    },
    {
      "cell_type": "code",
      "source": [
        "data = data.drop(['Route','Additional_Info'],axis=1)\n",
        "data = data.replace({\"non-stop\": 0, \"1 stop\": 1, \"2 stops\": 2, \"3 stops\": 3, \"4 stops\": 4})\n",
        "data.head()"
      ],
      "metadata": {
        "colab": {
          "base_uri": "https://localhost:8080/",
          "height": 206
        },
        "id": "5DThp4xIKdTY",
        "outputId": "7ad67dd9-2dc2-43ad-db4c-4641439a3637"
      },
      "execution_count": null,
      "outputs": [
        {
          "output_type": "execute_result",
          "data": {
            "text/plain": [
              "       Airline    Source Destination Duration  Total_Stops  Price  \\\n",
              "0       IndiGo  Banglore   New Delhi   2h 50m            0   3897   \n",
              "1    Air India   Kolkata    Banglore   7h 25m            2   7662   \n",
              "2  Jet Airways     Delhi      Cochin      19h            2  13882   \n",
              "3       IndiGo   Kolkata    Banglore   5h 25m            1   6218   \n",
              "4       IndiGo  Banglore   New Delhi   4h 45m            1  13302   \n",
              "\n",
              "   Journey_day  Journey_month  Dep_hour  Dep_min  Arrival_hour  Arrival_min  \n",
              "0           24              3        22       20             1           10  \n",
              "1            1              5         5       50            13           15  \n",
              "2            9              6         9       25             4           25  \n",
              "3           12              5        18        5            23           30  \n",
              "4            1              3        16       50            21           35  "
            ],
            "text/html": [
              "\n",
              "  <div id=\"df-ecb1b3e3-c68c-4137-a2f6-28c20fb51206\">\n",
              "    <div class=\"colab-df-container\">\n",
              "      <div>\n",
              "<style scoped>\n",
              "    .dataframe tbody tr th:only-of-type {\n",
              "        vertical-align: middle;\n",
              "    }\n",
              "\n",
              "    .dataframe tbody tr th {\n",
              "        vertical-align: top;\n",
              "    }\n",
              "\n",
              "    .dataframe thead th {\n",
              "        text-align: right;\n",
              "    }\n",
              "</style>\n",
              "<table border=\"1\" class=\"dataframe\">\n",
              "  <thead>\n",
              "    <tr style=\"text-align: right;\">\n",
              "      <th></th>\n",
              "      <th>Airline</th>\n",
              "      <th>Source</th>\n",
              "      <th>Destination</th>\n",
              "      <th>Duration</th>\n",
              "      <th>Total_Stops</th>\n",
              "      <th>Price</th>\n",
              "      <th>Journey_day</th>\n",
              "      <th>Journey_month</th>\n",
              "      <th>Dep_hour</th>\n",
              "      <th>Dep_min</th>\n",
              "      <th>Arrival_hour</th>\n",
              "      <th>Arrival_min</th>\n",
              "    </tr>\n",
              "  </thead>\n",
              "  <tbody>\n",
              "    <tr>\n",
              "      <th>0</th>\n",
              "      <td>IndiGo</td>\n",
              "      <td>Banglore</td>\n",
              "      <td>New Delhi</td>\n",
              "      <td>2h 50m</td>\n",
              "      <td>0</td>\n",
              "      <td>3897</td>\n",
              "      <td>24</td>\n",
              "      <td>3</td>\n",
              "      <td>22</td>\n",
              "      <td>20</td>\n",
              "      <td>1</td>\n",
              "      <td>10</td>\n",
              "    </tr>\n",
              "    <tr>\n",
              "      <th>1</th>\n",
              "      <td>Air India</td>\n",
              "      <td>Kolkata</td>\n",
              "      <td>Banglore</td>\n",
              "      <td>7h 25m</td>\n",
              "      <td>2</td>\n",
              "      <td>7662</td>\n",
              "      <td>1</td>\n",
              "      <td>5</td>\n",
              "      <td>5</td>\n",
              "      <td>50</td>\n",
              "      <td>13</td>\n",
              "      <td>15</td>\n",
              "    </tr>\n",
              "    <tr>\n",
              "      <th>2</th>\n",
              "      <td>Jet Airways</td>\n",
              "      <td>Delhi</td>\n",
              "      <td>Cochin</td>\n",
              "      <td>19h</td>\n",
              "      <td>2</td>\n",
              "      <td>13882</td>\n",
              "      <td>9</td>\n",
              "      <td>6</td>\n",
              "      <td>9</td>\n",
              "      <td>25</td>\n",
              "      <td>4</td>\n",
              "      <td>25</td>\n",
              "    </tr>\n",
              "    <tr>\n",
              "      <th>3</th>\n",
              "      <td>IndiGo</td>\n",
              "      <td>Kolkata</td>\n",
              "      <td>Banglore</td>\n",
              "      <td>5h 25m</td>\n",
              "      <td>1</td>\n",
              "      <td>6218</td>\n",
              "      <td>12</td>\n",
              "      <td>5</td>\n",
              "      <td>18</td>\n",
              "      <td>5</td>\n",
              "      <td>23</td>\n",
              "      <td>30</td>\n",
              "    </tr>\n",
              "    <tr>\n",
              "      <th>4</th>\n",
              "      <td>IndiGo</td>\n",
              "      <td>Banglore</td>\n",
              "      <td>New Delhi</td>\n",
              "      <td>4h 45m</td>\n",
              "      <td>1</td>\n",
              "      <td>13302</td>\n",
              "      <td>1</td>\n",
              "      <td>3</td>\n",
              "      <td>16</td>\n",
              "      <td>50</td>\n",
              "      <td>21</td>\n",
              "      <td>35</td>\n",
              "    </tr>\n",
              "  </tbody>\n",
              "</table>\n",
              "</div>\n",
              "      <button class=\"colab-df-convert\" onclick=\"convertToInteractive('df-ecb1b3e3-c68c-4137-a2f6-28c20fb51206')\"\n",
              "              title=\"Convert this dataframe to an interactive table.\"\n",
              "              style=\"display:none;\">\n",
              "        \n",
              "  <svg xmlns=\"http://www.w3.org/2000/svg\" height=\"24px\"viewBox=\"0 0 24 24\"\n",
              "       width=\"24px\">\n",
              "    <path d=\"M0 0h24v24H0V0z\" fill=\"none\"/>\n",
              "    <path d=\"M18.56 5.44l.94 2.06.94-2.06 2.06-.94-2.06-.94-.94-2.06-.94 2.06-2.06.94zm-11 1L8.5 8.5l.94-2.06 2.06-.94-2.06-.94L8.5 2.5l-.94 2.06-2.06.94zm10 10l.94 2.06.94-2.06 2.06-.94-2.06-.94-.94-2.06-.94 2.06-2.06.94z\"/><path d=\"M17.41 7.96l-1.37-1.37c-.4-.4-.92-.59-1.43-.59-.52 0-1.04.2-1.43.59L10.3 9.45l-7.72 7.72c-.78.78-.78 2.05 0 2.83L4 21.41c.39.39.9.59 1.41.59.51 0 1.02-.2 1.41-.59l7.78-7.78 2.81-2.81c.8-.78.8-2.07 0-2.86zM5.41 20L4 18.59l7.72-7.72 1.47 1.35L5.41 20z\"/>\n",
              "  </svg>\n",
              "      </button>\n",
              "      \n",
              "  <style>\n",
              "    .colab-df-container {\n",
              "      display:flex;\n",
              "      flex-wrap:wrap;\n",
              "      gap: 12px;\n",
              "    }\n",
              "\n",
              "    .colab-df-convert {\n",
              "      background-color: #E8F0FE;\n",
              "      border: none;\n",
              "      border-radius: 50%;\n",
              "      cursor: pointer;\n",
              "      display: none;\n",
              "      fill: #1967D2;\n",
              "      height: 32px;\n",
              "      padding: 0 0 0 0;\n",
              "      width: 32px;\n",
              "    }\n",
              "\n",
              "    .colab-df-convert:hover {\n",
              "      background-color: #E2EBFA;\n",
              "      box-shadow: 0px 1px 2px rgba(60, 64, 67, 0.3), 0px 1px 3px 1px rgba(60, 64, 67, 0.15);\n",
              "      fill: #174EA6;\n",
              "    }\n",
              "\n",
              "    [theme=dark] .colab-df-convert {\n",
              "      background-color: #3B4455;\n",
              "      fill: #D2E3FC;\n",
              "    }\n",
              "\n",
              "    [theme=dark] .colab-df-convert:hover {\n",
              "      background-color: #434B5C;\n",
              "      box-shadow: 0px 1px 3px 1px rgba(0, 0, 0, 0.15);\n",
              "      filter: drop-shadow(0px 1px 2px rgba(0, 0, 0, 0.3));\n",
              "      fill: #FFFFFF;\n",
              "    }\n",
              "  </style>\n",
              "\n",
              "      <script>\n",
              "        const buttonEl =\n",
              "          document.querySelector('#df-ecb1b3e3-c68c-4137-a2f6-28c20fb51206 button.colab-df-convert');\n",
              "        buttonEl.style.display =\n",
              "          google.colab.kernel.accessAllowed ? 'block' : 'none';\n",
              "\n",
              "        async function convertToInteractive(key) {\n",
              "          const element = document.querySelector('#df-ecb1b3e3-c68c-4137-a2f6-28c20fb51206');\n",
              "          const dataTable =\n",
              "            await google.colab.kernel.invokeFunction('convertToInteractive',\n",
              "                                                     [key], {});\n",
              "          if (!dataTable) return;\n",
              "\n",
              "          const docLinkHtml = 'Like what you see? Visit the ' +\n",
              "            '<a target=\"_blank\" href=https://colab.research.google.com/notebooks/data_table.ipynb>data table notebook</a>'\n",
              "            + ' to learn more about interactive tables.';\n",
              "          element.innerHTML = '';\n",
              "          dataTable['output_type'] = 'display_data';\n",
              "          await google.colab.output.renderOutput(dataTable, element);\n",
              "          const docLink = document.createElement('div');\n",
              "          docLink.innerHTML = docLinkHtml;\n",
              "          element.appendChild(docLink);\n",
              "        }\n",
              "      </script>\n",
              "    </div>\n",
              "  </div>\n",
              "  "
            ]
          },
          "metadata": {},
          "execution_count": 11
        }
      ]
    },
    {
      "cell_type": "code",
      "source": [
        "duration = list(data[\"Duration\"])\n",
        "\n",
        "for i in range(len(duration)):\n",
        "    if len(duration[i].split()) != 2:   \n",
        "        if \"h\" in duration[i]:\n",
        "            duration[i] = duration[i].strip() + \" 0m\"   \n",
        "        else:\n",
        "            duration[i] = \"0h \" + duration[i]           \n",
        "\n",
        "duration_hours = []\n",
        "duration_mins = []\n",
        "for i in range(len(duration)):\n",
        "    duration_hours.append(int(duration[i].split(sep = \"h\")[0]))    \n",
        "    duration_mins.append(int(duration[i].split(sep = \"m\")[0].split()[-1]))\n",
        "\n",
        "data[\"Duration_hours\"] = duration_hours\n",
        "data[\"Duration_mins\"] = duration_mins\n",
        "\n",
        "data.head()"
      ],
      "metadata": {
        "colab": {
          "base_uri": "https://localhost:8080/",
          "height": 206
        },
        "id": "5-eYNaefNrlV",
        "outputId": "a548eae6-ad99-412b-d463-77d743933a53"
      },
      "execution_count": null,
      "outputs": [
        {
          "output_type": "execute_result",
          "data": {
            "text/plain": [
              "       Airline    Source Destination Duration  Total_Stops  Price  \\\n",
              "0       IndiGo  Banglore   New Delhi   2h 50m            0   3897   \n",
              "1    Air India   Kolkata    Banglore   7h 25m            2   7662   \n",
              "2  Jet Airways     Delhi      Cochin      19h            2  13882   \n",
              "3       IndiGo   Kolkata    Banglore   5h 25m            1   6218   \n",
              "4       IndiGo  Banglore   New Delhi   4h 45m            1  13302   \n",
              "\n",
              "   Journey_day  Journey_month  Dep_hour  Dep_min  Arrival_hour  Arrival_min  \\\n",
              "0           24              3        22       20             1           10   \n",
              "1            1              5         5       50            13           15   \n",
              "2            9              6         9       25             4           25   \n",
              "3           12              5        18        5            23           30   \n",
              "4            1              3        16       50            21           35   \n",
              "\n",
              "   Duration_hours  Duration_mins  \n",
              "0               2             50  \n",
              "1               7             25  \n",
              "2              19              0  \n",
              "3               5             25  \n",
              "4               4             45  "
            ],
            "text/html": [
              "\n",
              "  <div id=\"df-f7f274b0-ff68-4ac1-b070-d956b3c008d7\">\n",
              "    <div class=\"colab-df-container\">\n",
              "      <div>\n",
              "<style scoped>\n",
              "    .dataframe tbody tr th:only-of-type {\n",
              "        vertical-align: middle;\n",
              "    }\n",
              "\n",
              "    .dataframe tbody tr th {\n",
              "        vertical-align: top;\n",
              "    }\n",
              "\n",
              "    .dataframe thead th {\n",
              "        text-align: right;\n",
              "    }\n",
              "</style>\n",
              "<table border=\"1\" class=\"dataframe\">\n",
              "  <thead>\n",
              "    <tr style=\"text-align: right;\">\n",
              "      <th></th>\n",
              "      <th>Airline</th>\n",
              "      <th>Source</th>\n",
              "      <th>Destination</th>\n",
              "      <th>Duration</th>\n",
              "      <th>Total_Stops</th>\n",
              "      <th>Price</th>\n",
              "      <th>Journey_day</th>\n",
              "      <th>Journey_month</th>\n",
              "      <th>Dep_hour</th>\n",
              "      <th>Dep_min</th>\n",
              "      <th>Arrival_hour</th>\n",
              "      <th>Arrival_min</th>\n",
              "      <th>Duration_hours</th>\n",
              "      <th>Duration_mins</th>\n",
              "    </tr>\n",
              "  </thead>\n",
              "  <tbody>\n",
              "    <tr>\n",
              "      <th>0</th>\n",
              "      <td>IndiGo</td>\n",
              "      <td>Banglore</td>\n",
              "      <td>New Delhi</td>\n",
              "      <td>2h 50m</td>\n",
              "      <td>0</td>\n",
              "      <td>3897</td>\n",
              "      <td>24</td>\n",
              "      <td>3</td>\n",
              "      <td>22</td>\n",
              "      <td>20</td>\n",
              "      <td>1</td>\n",
              "      <td>10</td>\n",
              "      <td>2</td>\n",
              "      <td>50</td>\n",
              "    </tr>\n",
              "    <tr>\n",
              "      <th>1</th>\n",
              "      <td>Air India</td>\n",
              "      <td>Kolkata</td>\n",
              "      <td>Banglore</td>\n",
              "      <td>7h 25m</td>\n",
              "      <td>2</td>\n",
              "      <td>7662</td>\n",
              "      <td>1</td>\n",
              "      <td>5</td>\n",
              "      <td>5</td>\n",
              "      <td>50</td>\n",
              "      <td>13</td>\n",
              "      <td>15</td>\n",
              "      <td>7</td>\n",
              "      <td>25</td>\n",
              "    </tr>\n",
              "    <tr>\n",
              "      <th>2</th>\n",
              "      <td>Jet Airways</td>\n",
              "      <td>Delhi</td>\n",
              "      <td>Cochin</td>\n",
              "      <td>19h</td>\n",
              "      <td>2</td>\n",
              "      <td>13882</td>\n",
              "      <td>9</td>\n",
              "      <td>6</td>\n",
              "      <td>9</td>\n",
              "      <td>25</td>\n",
              "      <td>4</td>\n",
              "      <td>25</td>\n",
              "      <td>19</td>\n",
              "      <td>0</td>\n",
              "    </tr>\n",
              "    <tr>\n",
              "      <th>3</th>\n",
              "      <td>IndiGo</td>\n",
              "      <td>Kolkata</td>\n",
              "      <td>Banglore</td>\n",
              "      <td>5h 25m</td>\n",
              "      <td>1</td>\n",
              "      <td>6218</td>\n",
              "      <td>12</td>\n",
              "      <td>5</td>\n",
              "      <td>18</td>\n",
              "      <td>5</td>\n",
              "      <td>23</td>\n",
              "      <td>30</td>\n",
              "      <td>5</td>\n",
              "      <td>25</td>\n",
              "    </tr>\n",
              "    <tr>\n",
              "      <th>4</th>\n",
              "      <td>IndiGo</td>\n",
              "      <td>Banglore</td>\n",
              "      <td>New Delhi</td>\n",
              "      <td>4h 45m</td>\n",
              "      <td>1</td>\n",
              "      <td>13302</td>\n",
              "      <td>1</td>\n",
              "      <td>3</td>\n",
              "      <td>16</td>\n",
              "      <td>50</td>\n",
              "      <td>21</td>\n",
              "      <td>35</td>\n",
              "      <td>4</td>\n",
              "      <td>45</td>\n",
              "    </tr>\n",
              "  </tbody>\n",
              "</table>\n",
              "</div>\n",
              "      <button class=\"colab-df-convert\" onclick=\"convertToInteractive('df-f7f274b0-ff68-4ac1-b070-d956b3c008d7')\"\n",
              "              title=\"Convert this dataframe to an interactive table.\"\n",
              "              style=\"display:none;\">\n",
              "        \n",
              "  <svg xmlns=\"http://www.w3.org/2000/svg\" height=\"24px\"viewBox=\"0 0 24 24\"\n",
              "       width=\"24px\">\n",
              "    <path d=\"M0 0h24v24H0V0z\" fill=\"none\"/>\n",
              "    <path d=\"M18.56 5.44l.94 2.06.94-2.06 2.06-.94-2.06-.94-.94-2.06-.94 2.06-2.06.94zm-11 1L8.5 8.5l.94-2.06 2.06-.94-2.06-.94L8.5 2.5l-.94 2.06-2.06.94zm10 10l.94 2.06.94-2.06 2.06-.94-2.06-.94-.94-2.06-.94 2.06-2.06.94z\"/><path d=\"M17.41 7.96l-1.37-1.37c-.4-.4-.92-.59-1.43-.59-.52 0-1.04.2-1.43.59L10.3 9.45l-7.72 7.72c-.78.78-.78 2.05 0 2.83L4 21.41c.39.39.9.59 1.41.59.51 0 1.02-.2 1.41-.59l7.78-7.78 2.81-2.81c.8-.78.8-2.07 0-2.86zM5.41 20L4 18.59l7.72-7.72 1.47 1.35L5.41 20z\"/>\n",
              "  </svg>\n",
              "      </button>\n",
              "      \n",
              "  <style>\n",
              "    .colab-df-container {\n",
              "      display:flex;\n",
              "      flex-wrap:wrap;\n",
              "      gap: 12px;\n",
              "    }\n",
              "\n",
              "    .colab-df-convert {\n",
              "      background-color: #E8F0FE;\n",
              "      border: none;\n",
              "      border-radius: 50%;\n",
              "      cursor: pointer;\n",
              "      display: none;\n",
              "      fill: #1967D2;\n",
              "      height: 32px;\n",
              "      padding: 0 0 0 0;\n",
              "      width: 32px;\n",
              "    }\n",
              "\n",
              "    .colab-df-convert:hover {\n",
              "      background-color: #E2EBFA;\n",
              "      box-shadow: 0px 1px 2px rgba(60, 64, 67, 0.3), 0px 1px 3px 1px rgba(60, 64, 67, 0.15);\n",
              "      fill: #174EA6;\n",
              "    }\n",
              "\n",
              "    [theme=dark] .colab-df-convert {\n",
              "      background-color: #3B4455;\n",
              "      fill: #D2E3FC;\n",
              "    }\n",
              "\n",
              "    [theme=dark] .colab-df-convert:hover {\n",
              "      background-color: #434B5C;\n",
              "      box-shadow: 0px 1px 3px 1px rgba(0, 0, 0, 0.15);\n",
              "      filter: drop-shadow(0px 1px 2px rgba(0, 0, 0, 0.3));\n",
              "      fill: #FFFFFF;\n",
              "    }\n",
              "  </style>\n",
              "\n",
              "      <script>\n",
              "        const buttonEl =\n",
              "          document.querySelector('#df-f7f274b0-ff68-4ac1-b070-d956b3c008d7 button.colab-df-convert');\n",
              "        buttonEl.style.display =\n",
              "          google.colab.kernel.accessAllowed ? 'block' : 'none';\n",
              "\n",
              "        async function convertToInteractive(key) {\n",
              "          const element = document.querySelector('#df-f7f274b0-ff68-4ac1-b070-d956b3c008d7');\n",
              "          const dataTable =\n",
              "            await google.colab.kernel.invokeFunction('convertToInteractive',\n",
              "                                                     [key], {});\n",
              "          if (!dataTable) return;\n",
              "\n",
              "          const docLinkHtml = 'Like what you see? Visit the ' +\n",
              "            '<a target=\"_blank\" href=https://colab.research.google.com/notebooks/data_table.ipynb>data table notebook</a>'\n",
              "            + ' to learn more about interactive tables.';\n",
              "          element.innerHTML = '';\n",
              "          dataTable['output_type'] = 'display_data';\n",
              "          await google.colab.output.renderOutput(dataTable, element);\n",
              "          const docLink = document.createElement('div');\n",
              "          docLink.innerHTML = docLinkHtml;\n",
              "          element.appendChild(docLink);\n",
              "        }\n",
              "      </script>\n",
              "    </div>\n",
              "  </div>\n",
              "  "
            ]
          },
          "metadata": {},
          "execution_count": 12
        }
      ]
    },
    {
      "cell_type": "code",
      "source": [
        "data = data.drop(['Duration'],axis=1)"
      ],
      "metadata": {
        "id": "Wrv3mWdrPC6X"
      },
      "execution_count": null,
      "outputs": []
    },
    {
      "cell_type": "code",
      "source": [
        "#Data are not in any order So, we use one hot encoder\n",
        "\n",
        "one_hot_encoded_data = pd.get_dummies(data, columns = ['Airline', 'Source','Destination'])\n"
      ],
      "metadata": {
        "id": "IZ9dfETJLrtG"
      },
      "execution_count": null,
      "outputs": []
    },
    {
      "cell_type": "code",
      "source": [
        "one_hot_encoded_data.head()"
      ],
      "metadata": {
        "colab": {
          "base_uri": "https://localhost:8080/",
          "height": 317
        },
        "id": "Dq3n7sZ3NZHD",
        "outputId": "2b3a7817-3228-4af7-f68d-892ea02f2728"
      },
      "execution_count": null,
      "outputs": [
        {
          "output_type": "execute_result",
          "data": {
            "text/plain": [
              "   Total_Stops  Price  Journey_day  Journey_month  Dep_hour  Dep_min  \\\n",
              "0            0   3897           24              3        22       20   \n",
              "1            2   7662            1              5         5       50   \n",
              "2            2  13882            9              6         9       25   \n",
              "3            1   6218           12              5        18        5   \n",
              "4            1  13302            1              3        16       50   \n",
              "\n",
              "   Arrival_hour  Arrival_min  Duration_hours  Duration_mins  ...  \\\n",
              "0             1           10               2             50  ...   \n",
              "1            13           15               7             25  ...   \n",
              "2             4           25              19              0  ...   \n",
              "3            23           30               5             25  ...   \n",
              "4            21           35               4             45  ...   \n",
              "\n",
              "   Source_Chennai  Source_Delhi  Source_Kolkata  Source_Mumbai  \\\n",
              "0               0             0               0              0   \n",
              "1               0             0               1              0   \n",
              "2               0             1               0              0   \n",
              "3               0             0               1              0   \n",
              "4               0             0               0              0   \n",
              "\n",
              "   Destination_Banglore  Destination_Cochin  Destination_Delhi  \\\n",
              "0                     0                   0                  0   \n",
              "1                     1                   0                  0   \n",
              "2                     0                   1                  0   \n",
              "3                     1                   0                  0   \n",
              "4                     0                   0                  0   \n",
              "\n",
              "   Destination_Hyderabad  Destination_Kolkata  Destination_New Delhi  \n",
              "0                      0                    0                      1  \n",
              "1                      0                    0                      0  \n",
              "2                      0                    0                      0  \n",
              "3                      0                    0                      0  \n",
              "4                      0                    0                      1  \n",
              "\n",
              "[5 rows x 33 columns]"
            ],
            "text/html": [
              "\n",
              "  <div id=\"df-56590798-9020-408c-a2e2-43062074406e\">\n",
              "    <div class=\"colab-df-container\">\n",
              "      <div>\n",
              "<style scoped>\n",
              "    .dataframe tbody tr th:only-of-type {\n",
              "        vertical-align: middle;\n",
              "    }\n",
              "\n",
              "    .dataframe tbody tr th {\n",
              "        vertical-align: top;\n",
              "    }\n",
              "\n",
              "    .dataframe thead th {\n",
              "        text-align: right;\n",
              "    }\n",
              "</style>\n",
              "<table border=\"1\" class=\"dataframe\">\n",
              "  <thead>\n",
              "    <tr style=\"text-align: right;\">\n",
              "      <th></th>\n",
              "      <th>Total_Stops</th>\n",
              "      <th>Price</th>\n",
              "      <th>Journey_day</th>\n",
              "      <th>Journey_month</th>\n",
              "      <th>Dep_hour</th>\n",
              "      <th>Dep_min</th>\n",
              "      <th>Arrival_hour</th>\n",
              "      <th>Arrival_min</th>\n",
              "      <th>Duration_hours</th>\n",
              "      <th>Duration_mins</th>\n",
              "      <th>...</th>\n",
              "      <th>Source_Chennai</th>\n",
              "      <th>Source_Delhi</th>\n",
              "      <th>Source_Kolkata</th>\n",
              "      <th>Source_Mumbai</th>\n",
              "      <th>Destination_Banglore</th>\n",
              "      <th>Destination_Cochin</th>\n",
              "      <th>Destination_Delhi</th>\n",
              "      <th>Destination_Hyderabad</th>\n",
              "      <th>Destination_Kolkata</th>\n",
              "      <th>Destination_New Delhi</th>\n",
              "    </tr>\n",
              "  </thead>\n",
              "  <tbody>\n",
              "    <tr>\n",
              "      <th>0</th>\n",
              "      <td>0</td>\n",
              "      <td>3897</td>\n",
              "      <td>24</td>\n",
              "      <td>3</td>\n",
              "      <td>22</td>\n",
              "      <td>20</td>\n",
              "      <td>1</td>\n",
              "      <td>10</td>\n",
              "      <td>2</td>\n",
              "      <td>50</td>\n",
              "      <td>...</td>\n",
              "      <td>0</td>\n",
              "      <td>0</td>\n",
              "      <td>0</td>\n",
              "      <td>0</td>\n",
              "      <td>0</td>\n",
              "      <td>0</td>\n",
              "      <td>0</td>\n",
              "      <td>0</td>\n",
              "      <td>0</td>\n",
              "      <td>1</td>\n",
              "    </tr>\n",
              "    <tr>\n",
              "      <th>1</th>\n",
              "      <td>2</td>\n",
              "      <td>7662</td>\n",
              "      <td>1</td>\n",
              "      <td>5</td>\n",
              "      <td>5</td>\n",
              "      <td>50</td>\n",
              "      <td>13</td>\n",
              "      <td>15</td>\n",
              "      <td>7</td>\n",
              "      <td>25</td>\n",
              "      <td>...</td>\n",
              "      <td>0</td>\n",
              "      <td>0</td>\n",
              "      <td>1</td>\n",
              "      <td>0</td>\n",
              "      <td>1</td>\n",
              "      <td>0</td>\n",
              "      <td>0</td>\n",
              "      <td>0</td>\n",
              "      <td>0</td>\n",
              "      <td>0</td>\n",
              "    </tr>\n",
              "    <tr>\n",
              "      <th>2</th>\n",
              "      <td>2</td>\n",
              "      <td>13882</td>\n",
              "      <td>9</td>\n",
              "      <td>6</td>\n",
              "      <td>9</td>\n",
              "      <td>25</td>\n",
              "      <td>4</td>\n",
              "      <td>25</td>\n",
              "      <td>19</td>\n",
              "      <td>0</td>\n",
              "      <td>...</td>\n",
              "      <td>0</td>\n",
              "      <td>1</td>\n",
              "      <td>0</td>\n",
              "      <td>0</td>\n",
              "      <td>0</td>\n",
              "      <td>1</td>\n",
              "      <td>0</td>\n",
              "      <td>0</td>\n",
              "      <td>0</td>\n",
              "      <td>0</td>\n",
              "    </tr>\n",
              "    <tr>\n",
              "      <th>3</th>\n",
              "      <td>1</td>\n",
              "      <td>6218</td>\n",
              "      <td>12</td>\n",
              "      <td>5</td>\n",
              "      <td>18</td>\n",
              "      <td>5</td>\n",
              "      <td>23</td>\n",
              "      <td>30</td>\n",
              "      <td>5</td>\n",
              "      <td>25</td>\n",
              "      <td>...</td>\n",
              "      <td>0</td>\n",
              "      <td>0</td>\n",
              "      <td>1</td>\n",
              "      <td>0</td>\n",
              "      <td>1</td>\n",
              "      <td>0</td>\n",
              "      <td>0</td>\n",
              "      <td>0</td>\n",
              "      <td>0</td>\n",
              "      <td>0</td>\n",
              "    </tr>\n",
              "    <tr>\n",
              "      <th>4</th>\n",
              "      <td>1</td>\n",
              "      <td>13302</td>\n",
              "      <td>1</td>\n",
              "      <td>3</td>\n",
              "      <td>16</td>\n",
              "      <td>50</td>\n",
              "      <td>21</td>\n",
              "      <td>35</td>\n",
              "      <td>4</td>\n",
              "      <td>45</td>\n",
              "      <td>...</td>\n",
              "      <td>0</td>\n",
              "      <td>0</td>\n",
              "      <td>0</td>\n",
              "      <td>0</td>\n",
              "      <td>0</td>\n",
              "      <td>0</td>\n",
              "      <td>0</td>\n",
              "      <td>0</td>\n",
              "      <td>0</td>\n",
              "      <td>1</td>\n",
              "    </tr>\n",
              "  </tbody>\n",
              "</table>\n",
              "<p>5 rows × 33 columns</p>\n",
              "</div>\n",
              "      <button class=\"colab-df-convert\" onclick=\"convertToInteractive('df-56590798-9020-408c-a2e2-43062074406e')\"\n",
              "              title=\"Convert this dataframe to an interactive table.\"\n",
              "              style=\"display:none;\">\n",
              "        \n",
              "  <svg xmlns=\"http://www.w3.org/2000/svg\" height=\"24px\"viewBox=\"0 0 24 24\"\n",
              "       width=\"24px\">\n",
              "    <path d=\"M0 0h24v24H0V0z\" fill=\"none\"/>\n",
              "    <path d=\"M18.56 5.44l.94 2.06.94-2.06 2.06-.94-2.06-.94-.94-2.06-.94 2.06-2.06.94zm-11 1L8.5 8.5l.94-2.06 2.06-.94-2.06-.94L8.5 2.5l-.94 2.06-2.06.94zm10 10l.94 2.06.94-2.06 2.06-.94-2.06-.94-.94-2.06-.94 2.06-2.06.94z\"/><path d=\"M17.41 7.96l-1.37-1.37c-.4-.4-.92-.59-1.43-.59-.52 0-1.04.2-1.43.59L10.3 9.45l-7.72 7.72c-.78.78-.78 2.05 0 2.83L4 21.41c.39.39.9.59 1.41.59.51 0 1.02-.2 1.41-.59l7.78-7.78 2.81-2.81c.8-.78.8-2.07 0-2.86zM5.41 20L4 18.59l7.72-7.72 1.47 1.35L5.41 20z\"/>\n",
              "  </svg>\n",
              "      </button>\n",
              "      \n",
              "  <style>\n",
              "    .colab-df-container {\n",
              "      display:flex;\n",
              "      flex-wrap:wrap;\n",
              "      gap: 12px;\n",
              "    }\n",
              "\n",
              "    .colab-df-convert {\n",
              "      background-color: #E8F0FE;\n",
              "      border: none;\n",
              "      border-radius: 50%;\n",
              "      cursor: pointer;\n",
              "      display: none;\n",
              "      fill: #1967D2;\n",
              "      height: 32px;\n",
              "      padding: 0 0 0 0;\n",
              "      width: 32px;\n",
              "    }\n",
              "\n",
              "    .colab-df-convert:hover {\n",
              "      background-color: #E2EBFA;\n",
              "      box-shadow: 0px 1px 2px rgba(60, 64, 67, 0.3), 0px 1px 3px 1px rgba(60, 64, 67, 0.15);\n",
              "      fill: #174EA6;\n",
              "    }\n",
              "\n",
              "    [theme=dark] .colab-df-convert {\n",
              "      background-color: #3B4455;\n",
              "      fill: #D2E3FC;\n",
              "    }\n",
              "\n",
              "    [theme=dark] .colab-df-convert:hover {\n",
              "      background-color: #434B5C;\n",
              "      box-shadow: 0px 1px 3px 1px rgba(0, 0, 0, 0.15);\n",
              "      filter: drop-shadow(0px 1px 2px rgba(0, 0, 0, 0.3));\n",
              "      fill: #FFFFFF;\n",
              "    }\n",
              "  </style>\n",
              "\n",
              "      <script>\n",
              "        const buttonEl =\n",
              "          document.querySelector('#df-56590798-9020-408c-a2e2-43062074406e button.colab-df-convert');\n",
              "        buttonEl.style.display =\n",
              "          google.colab.kernel.accessAllowed ? 'block' : 'none';\n",
              "\n",
              "        async function convertToInteractive(key) {\n",
              "          const element = document.querySelector('#df-56590798-9020-408c-a2e2-43062074406e');\n",
              "          const dataTable =\n",
              "            await google.colab.kernel.invokeFunction('convertToInteractive',\n",
              "                                                     [key], {});\n",
              "          if (!dataTable) return;\n",
              "\n",
              "          const docLinkHtml = 'Like what you see? Visit the ' +\n",
              "            '<a target=\"_blank\" href=https://colab.research.google.com/notebooks/data_table.ipynb>data table notebook</a>'\n",
              "            + ' to learn more about interactive tables.';\n",
              "          element.innerHTML = '';\n",
              "          dataTable['output_type'] = 'display_data';\n",
              "          await google.colab.output.renderOutput(dataTable, element);\n",
              "          const docLink = document.createElement('div');\n",
              "          docLink.innerHTML = docLinkHtml;\n",
              "          element.appendChild(docLink);\n",
              "        }\n",
              "      </script>\n",
              "    </div>\n",
              "  </div>\n",
              "  "
            ]
          },
          "metadata": {},
          "execution_count": 15
        }
      ]
    },
    {
      "cell_type": "markdown",
      "source": [
        "Now As The Data Got preprocessed, we can now start training our model"
      ],
      "metadata": {
        "id": "sOi3ys2uPSX_"
      }
    },
    {
      "cell_type": "code",
      "source": [
        "tr = one_hot_encoded_data.drop(['Price'],axis=1)\n",
        "\n",
        "X_train,X_test,y_train,y_test = train_test_split(tr,one_hot_encoded_data['Price'],test_size=0.3,shuffle=True,random_state=12)"
      ],
      "metadata": {
        "id": "ja8PW-uAPSJU"
      },
      "execution_count": null,
      "outputs": []
    },
    {
      "cell_type": "code",
      "source": [
        "X_train.head()"
      ],
      "metadata": {
        "colab": {
          "base_uri": "https://localhost:8080/",
          "height": 317
        },
        "id": "89TqXWPxQEG-",
        "outputId": "53dd64af-b3c1-429f-fe53-562c5e314c9d"
      },
      "execution_count": null,
      "outputs": [
        {
          "output_type": "execute_result",
          "data": {
            "text/plain": [
              "       Total_Stops  Journey_day  Journey_month  Dep_hour  Dep_min  \\\n",
              "1281             1           15              6        19        0   \n",
              "920              0           21              6         7        5   \n",
              "10298            2           18              5         5       30   \n",
              "7976             2           21              3        10       20   \n",
              "3144             0            6              3         5       10   \n",
              "\n",
              "       Arrival_hour  Arrival_min  Duration_hours  Duration_mins  \\\n",
              "1281              1           30               6             30   \n",
              "920               9           20               2             15   \n",
              "10298            19            0              13             30   \n",
              "7976             18           50              32             30   \n",
              "3144              8            0               2             50   \n",
              "\n",
              "       Airline_Air Asia  ...  Source_Chennai  Source_Delhi  Source_Kolkata  \\\n",
              "1281                  0  ...               0             1               0   \n",
              "920                   0  ...               1             0               0   \n",
              "10298                 0  ...               0             1               0   \n",
              "7976                  0  ...               0             1               0   \n",
              "3144                  0  ...               0             1               0   \n",
              "\n",
              "       Source_Mumbai  Destination_Banglore  Destination_Cochin  \\\n",
              "1281               0                     0                   1   \n",
              "920                0                     0                   0   \n",
              "10298              0                     0                   1   \n",
              "7976               0                     0                   1   \n",
              "3144               0                     0                   1   \n",
              "\n",
              "       Destination_Delhi  Destination_Hyderabad  Destination_Kolkata  \\\n",
              "1281                   0                      0                    0   \n",
              "920                    0                      0                    1   \n",
              "10298                  0                      0                    0   \n",
              "7976                   0                      0                    0   \n",
              "3144                   0                      0                    0   \n",
              "\n",
              "       Destination_New Delhi  \n",
              "1281                       0  \n",
              "920                        0  \n",
              "10298                      0  \n",
              "7976                       0  \n",
              "3144                       0  \n",
              "\n",
              "[5 rows x 32 columns]"
            ],
            "text/html": [
              "\n",
              "  <div id=\"df-b4e1156f-2f0d-468e-bee5-5e0e981b393a\">\n",
              "    <div class=\"colab-df-container\">\n",
              "      <div>\n",
              "<style scoped>\n",
              "    .dataframe tbody tr th:only-of-type {\n",
              "        vertical-align: middle;\n",
              "    }\n",
              "\n",
              "    .dataframe tbody tr th {\n",
              "        vertical-align: top;\n",
              "    }\n",
              "\n",
              "    .dataframe thead th {\n",
              "        text-align: right;\n",
              "    }\n",
              "</style>\n",
              "<table border=\"1\" class=\"dataframe\">\n",
              "  <thead>\n",
              "    <tr style=\"text-align: right;\">\n",
              "      <th></th>\n",
              "      <th>Total_Stops</th>\n",
              "      <th>Journey_day</th>\n",
              "      <th>Journey_month</th>\n",
              "      <th>Dep_hour</th>\n",
              "      <th>Dep_min</th>\n",
              "      <th>Arrival_hour</th>\n",
              "      <th>Arrival_min</th>\n",
              "      <th>Duration_hours</th>\n",
              "      <th>Duration_mins</th>\n",
              "      <th>Airline_Air Asia</th>\n",
              "      <th>...</th>\n",
              "      <th>Source_Chennai</th>\n",
              "      <th>Source_Delhi</th>\n",
              "      <th>Source_Kolkata</th>\n",
              "      <th>Source_Mumbai</th>\n",
              "      <th>Destination_Banglore</th>\n",
              "      <th>Destination_Cochin</th>\n",
              "      <th>Destination_Delhi</th>\n",
              "      <th>Destination_Hyderabad</th>\n",
              "      <th>Destination_Kolkata</th>\n",
              "      <th>Destination_New Delhi</th>\n",
              "    </tr>\n",
              "  </thead>\n",
              "  <tbody>\n",
              "    <tr>\n",
              "      <th>1281</th>\n",
              "      <td>1</td>\n",
              "      <td>15</td>\n",
              "      <td>6</td>\n",
              "      <td>19</td>\n",
              "      <td>0</td>\n",
              "      <td>1</td>\n",
              "      <td>30</td>\n",
              "      <td>6</td>\n",
              "      <td>30</td>\n",
              "      <td>0</td>\n",
              "      <td>...</td>\n",
              "      <td>0</td>\n",
              "      <td>1</td>\n",
              "      <td>0</td>\n",
              "      <td>0</td>\n",
              "      <td>0</td>\n",
              "      <td>1</td>\n",
              "      <td>0</td>\n",
              "      <td>0</td>\n",
              "      <td>0</td>\n",
              "      <td>0</td>\n",
              "    </tr>\n",
              "    <tr>\n",
              "      <th>920</th>\n",
              "      <td>0</td>\n",
              "      <td>21</td>\n",
              "      <td>6</td>\n",
              "      <td>7</td>\n",
              "      <td>5</td>\n",
              "      <td>9</td>\n",
              "      <td>20</td>\n",
              "      <td>2</td>\n",
              "      <td>15</td>\n",
              "      <td>0</td>\n",
              "      <td>...</td>\n",
              "      <td>1</td>\n",
              "      <td>0</td>\n",
              "      <td>0</td>\n",
              "      <td>0</td>\n",
              "      <td>0</td>\n",
              "      <td>0</td>\n",
              "      <td>0</td>\n",
              "      <td>0</td>\n",
              "      <td>1</td>\n",
              "      <td>0</td>\n",
              "    </tr>\n",
              "    <tr>\n",
              "      <th>10298</th>\n",
              "      <td>2</td>\n",
              "      <td>18</td>\n",
              "      <td>5</td>\n",
              "      <td>5</td>\n",
              "      <td>30</td>\n",
              "      <td>19</td>\n",
              "      <td>0</td>\n",
              "      <td>13</td>\n",
              "      <td>30</td>\n",
              "      <td>0</td>\n",
              "      <td>...</td>\n",
              "      <td>0</td>\n",
              "      <td>1</td>\n",
              "      <td>0</td>\n",
              "      <td>0</td>\n",
              "      <td>0</td>\n",
              "      <td>1</td>\n",
              "      <td>0</td>\n",
              "      <td>0</td>\n",
              "      <td>0</td>\n",
              "      <td>0</td>\n",
              "    </tr>\n",
              "    <tr>\n",
              "      <th>7976</th>\n",
              "      <td>2</td>\n",
              "      <td>21</td>\n",
              "      <td>3</td>\n",
              "      <td>10</td>\n",
              "      <td>20</td>\n",
              "      <td>18</td>\n",
              "      <td>50</td>\n",
              "      <td>32</td>\n",
              "      <td>30</td>\n",
              "      <td>0</td>\n",
              "      <td>...</td>\n",
              "      <td>0</td>\n",
              "      <td>1</td>\n",
              "      <td>0</td>\n",
              "      <td>0</td>\n",
              "      <td>0</td>\n",
              "      <td>1</td>\n",
              "      <td>0</td>\n",
              "      <td>0</td>\n",
              "      <td>0</td>\n",
              "      <td>0</td>\n",
              "    </tr>\n",
              "    <tr>\n",
              "      <th>3144</th>\n",
              "      <td>0</td>\n",
              "      <td>6</td>\n",
              "      <td>3</td>\n",
              "      <td>5</td>\n",
              "      <td>10</td>\n",
              "      <td>8</td>\n",
              "      <td>0</td>\n",
              "      <td>2</td>\n",
              "      <td>50</td>\n",
              "      <td>0</td>\n",
              "      <td>...</td>\n",
              "      <td>0</td>\n",
              "      <td>1</td>\n",
              "      <td>0</td>\n",
              "      <td>0</td>\n",
              "      <td>0</td>\n",
              "      <td>1</td>\n",
              "      <td>0</td>\n",
              "      <td>0</td>\n",
              "      <td>0</td>\n",
              "      <td>0</td>\n",
              "    </tr>\n",
              "  </tbody>\n",
              "</table>\n",
              "<p>5 rows × 32 columns</p>\n",
              "</div>\n",
              "      <button class=\"colab-df-convert\" onclick=\"convertToInteractive('df-b4e1156f-2f0d-468e-bee5-5e0e981b393a')\"\n",
              "              title=\"Convert this dataframe to an interactive table.\"\n",
              "              style=\"display:none;\">\n",
              "        \n",
              "  <svg xmlns=\"http://www.w3.org/2000/svg\" height=\"24px\"viewBox=\"0 0 24 24\"\n",
              "       width=\"24px\">\n",
              "    <path d=\"M0 0h24v24H0V0z\" fill=\"none\"/>\n",
              "    <path d=\"M18.56 5.44l.94 2.06.94-2.06 2.06-.94-2.06-.94-.94-2.06-.94 2.06-2.06.94zm-11 1L8.5 8.5l.94-2.06 2.06-.94-2.06-.94L8.5 2.5l-.94 2.06-2.06.94zm10 10l.94 2.06.94-2.06 2.06-.94-2.06-.94-.94-2.06-.94 2.06-2.06.94z\"/><path d=\"M17.41 7.96l-1.37-1.37c-.4-.4-.92-.59-1.43-.59-.52 0-1.04.2-1.43.59L10.3 9.45l-7.72 7.72c-.78.78-.78 2.05 0 2.83L4 21.41c.39.39.9.59 1.41.59.51 0 1.02-.2 1.41-.59l7.78-7.78 2.81-2.81c.8-.78.8-2.07 0-2.86zM5.41 20L4 18.59l7.72-7.72 1.47 1.35L5.41 20z\"/>\n",
              "  </svg>\n",
              "      </button>\n",
              "      \n",
              "  <style>\n",
              "    .colab-df-container {\n",
              "      display:flex;\n",
              "      flex-wrap:wrap;\n",
              "      gap: 12px;\n",
              "    }\n",
              "\n",
              "    .colab-df-convert {\n",
              "      background-color: #E8F0FE;\n",
              "      border: none;\n",
              "      border-radius: 50%;\n",
              "      cursor: pointer;\n",
              "      display: none;\n",
              "      fill: #1967D2;\n",
              "      height: 32px;\n",
              "      padding: 0 0 0 0;\n",
              "      width: 32px;\n",
              "    }\n",
              "\n",
              "    .colab-df-convert:hover {\n",
              "      background-color: #E2EBFA;\n",
              "      box-shadow: 0px 1px 2px rgba(60, 64, 67, 0.3), 0px 1px 3px 1px rgba(60, 64, 67, 0.15);\n",
              "      fill: #174EA6;\n",
              "    }\n",
              "\n",
              "    [theme=dark] .colab-df-convert {\n",
              "      background-color: #3B4455;\n",
              "      fill: #D2E3FC;\n",
              "    }\n",
              "\n",
              "    [theme=dark] .colab-df-convert:hover {\n",
              "      background-color: #434B5C;\n",
              "      box-shadow: 0px 1px 3px 1px rgba(0, 0, 0, 0.15);\n",
              "      filter: drop-shadow(0px 1px 2px rgba(0, 0, 0, 0.3));\n",
              "      fill: #FFFFFF;\n",
              "    }\n",
              "  </style>\n",
              "\n",
              "      <script>\n",
              "        const buttonEl =\n",
              "          document.querySelector('#df-b4e1156f-2f0d-468e-bee5-5e0e981b393a button.colab-df-convert');\n",
              "        buttonEl.style.display =\n",
              "          google.colab.kernel.accessAllowed ? 'block' : 'none';\n",
              "\n",
              "        async function convertToInteractive(key) {\n",
              "          const element = document.querySelector('#df-b4e1156f-2f0d-468e-bee5-5e0e981b393a');\n",
              "          const dataTable =\n",
              "            await google.colab.kernel.invokeFunction('convertToInteractive',\n",
              "                                                     [key], {});\n",
              "          if (!dataTable) return;\n",
              "\n",
              "          const docLinkHtml = 'Like what you see? Visit the ' +\n",
              "            '<a target=\"_blank\" href=https://colab.research.google.com/notebooks/data_table.ipynb>data table notebook</a>'\n",
              "            + ' to learn more about interactive tables.';\n",
              "          element.innerHTML = '';\n",
              "          dataTable['output_type'] = 'display_data';\n",
              "          await google.colab.output.renderOutput(dataTable, element);\n",
              "          const docLink = document.createElement('div');\n",
              "          docLink.innerHTML = docLinkHtml;\n",
              "          element.appendChild(docLink);\n",
              "        }\n",
              "      </script>\n",
              "    </div>\n",
              "  </div>\n",
              "  "
            ]
          },
          "metadata": {},
          "execution_count": 17
        }
      ]
    },
    {
      "cell_type": "code",
      "source": [
        "y_train.head()"
      ],
      "metadata": {
        "colab": {
          "base_uri": "https://localhost:8080/"
        },
        "id": "cVN8Qq-AQH8O",
        "outputId": "8cb311e0-54ff-4eea-8241-28ab3e579d1e"
      },
      "execution_count": null,
      "outputs": [
        {
          "output_type": "execute_result",
          "data": {
            "text/plain": [
              "1281      6795\n",
              "920       3687\n",
              "10298    13029\n",
              "7976      9254\n",
              "3144      6881\n",
              "Name: Price, dtype: int64"
            ]
          },
          "metadata": {},
          "execution_count": 18
        }
      ]
    },
    {
      "cell_type": "code",
      "source": [
        "plt.figure(figsize = (12,12))\n",
        "sns.heatmap(X_train.corr(),cmap = \"RdYlGn\")\n",
        "\n",
        "plt.show()"
      ],
      "metadata": {
        "colab": {
          "base_uri": "https://localhost:8080/",
          "height": 934
        },
        "id": "j5-DC0_TO3oR",
        "outputId": "5c3353e8-3230-47a3-99ed-a7d1d9a210a9"
      },
      "execution_count": null,
      "outputs": [
        {
          "output_type": "display_data",
          "data": {
            "text/plain": [
              "<Figure size 864x864 with 2 Axes>"
            ],
            "image/png": "[encoded data removed]"
          },
          "metadata": {}
        }
      ]
    },
    {
      "cell_type": "code",
      "source": [
        "plt.figure(0)\n",
        "sns.scatterplot(x = \"Total_Stops\", y = \"Duration_hours\", data = X_train)\n",
        "plt.figure(1)\n",
        "sns.scatterplot(x = \"Arrival_hour\", y = \"Duration_hours\", data = X_train)\n",
        "\n"
      ],
      "metadata": {
        "colab": {
          "base_uri": "https://localhost:8080/",
          "height": 570
        },
        "id": "UB5ayf1zQbc4",
        "outputId": "e25d2ff1-7b13-4969-a82d-8b73c2e94961"
      },
      "execution_count": null,
      "outputs": [
        {
          "output_type": "execute_result",
          "data": {
            "text/plain": [
              "<matplotlib.axes._subplots.AxesSubplot at 0x7fad0bbce290>"
            ]
          },
          "metadata": {},
          "execution_count": 20
        },
        {
          "output_type": "display_data",
          "data": {
            "text/plain": [
              "<Figure size 432x288 with 1 Axes>"
            ],
            "image/png": "[encoded data removed]"
          },
          "metadata": {}
        },
        {
          "output_type": "display_data",
          "data": {
            "text/plain": [
              "<Figure size 432x288 with 1 Axes>"
            ],
            "image/png": "[encoded data removed]"
          },
          "metadata": {}
        }
      ]
    },
    {
      "cell_type": "markdown",
      "source": [
        "Model Training"
      ],
      "metadata": {
        "id": "ORJJysLSR2z7"
      }
    },
    {
      "cell_type": "code",
      "source": [
        "import xgboost\n",
        "from xgboost import XGBRegressor\n",
        "\n",
        "model1 = XGBRegressor()\n",
        "\n",
        "model1.fit(X_train,y_train)\n",
        "\n",
        "prediction1 = model1.predict(X_test)\n",
        "\n"
      ],
      "metadata": {
        "colab": {
          "base_uri": "https://localhost:8080/"
        },
        "id": "xNub9lUqRedm",
        "outputId": "efaf068f-a514-4342-b055-1da783ffb711"
      },
      "execution_count": null,
      "outputs": [
        {
          "output_type": "stream",
          "name": "stdout",
          "text": [
            "[10:02:07] WARNING: /workspace/src/objective/regression_obj.cu:152: reg:linear is now deprecated in favor of reg:squarederror.\n"
          ]
        }
      ]
    },
    {
      "cell_type": "code",
      "source": [
        "print('XGB MAE:', metrics.mean_absolute_error(y_test, prediction1))\n",
        "print('XGB MSE:', metrics.mean_squared_error(y_test, prediction1))\n",
        "print('XGB RMSE:', np.sqrt(metrics.mean_squared_error(y_test, prediction1)))"
      ],
      "metadata": {
        "colab": {
          "base_uri": "https://localhost:8080/"
        },
        "id": "57jfqAojSSNZ",
        "outputId": "31cc9468-cc45-4131-aac1-6f1bbcb7c903"
      },
      "execution_count": null,
      "outputs": [
        {
          "output_type": "stream",
          "name": "stdout",
          "text": [
            "XGB MAE: 1557.4107876639284\n",
            "XGB MSE: 5317276.192126101\n",
            "XGB RMSE: 2305.9219830961542\n"
          ]
        }
      ]
    },
    {
      "cell_type": "code",
      "source": [
        "metrics.r2_score(y_test, prediction1)"
      ],
      "metadata": {
        "colab": {
          "base_uri": "https://localhost:8080/"
        },
        "id": "zI_lirnjS2aW",
        "outputId": "58fd41d8-e131-4f23-e9be-99d9dc49b313"
      },
      "execution_count": null,
      "outputs": [
        {
          "output_type": "execute_result",
          "data": {
            "text/plain": [
              "0.7450890433027875"
            ]
          },
          "metadata": {},
          "execution_count": 23
        }
      ]
    },
    {
      "cell_type": "code",
      "source": [
        "plt.figure(figsize = (6,6))\n",
        "plt.scatter(y_test, prediction1, alpha = 0.5)\n",
        "plt.xlabel(\"y_test\")\n",
        "plt.ylabel(\"y_pred\")\n",
        "plt.title('XGBoost')\n",
        "plt.show()"
      ],
      "metadata": {
        "colab": {
          "base_uri": "https://localhost:8080/",
          "height": 410
        },
        "id": "gJmnS0hvSu9n",
        "outputId": "a57d7971-d8be-4084-e4cc-f52a7f200089"
      },
      "execution_count": null,
      "outputs": [
        {
          "output_type": "display_data",
          "data": {
            "text/plain": [
              "<Figure size 432x432 with 1 Axes>"
            ],
            "image/png": "[encoded data removed]"
          },
          "metadata": {}
        }
      ]
    },
    {
      "cell_type": "code",
      "source": [
        "from lightgbm import LGBMRegressor\n",
        "\n",
        "model_lgm = LGBMRegressor()\n",
        "\n",
        "model_lgm.fit(X_train,y_train)\n",
        "\n",
        "prediction_lgm = model_lgm.predict(X_test)\n",
        "\n"
      ],
      "metadata": {
        "id": "kpXXWnqL-faL"
      },
      "execution_count": null,
      "outputs": []
    },
    {
      "cell_type": "code",
      "source": [
        "print('LGM MAE:', metrics.mean_absolute_error(y_test, prediction_lgm))\n",
        "print('LGM MSE:', metrics.mean_squared_error(y_test, prediction_lgm))\n",
        "print('LGM RMSE:', np.sqrt(metrics.mean_squared_error(y_test, prediction_lgm)))"
      ],
      "metadata": {
        "colab": {
          "base_uri": "https://localhost:8080/"
        },
        "id": "GLEEMyYB-8j1",
        "outputId": "6f703122-1465-4287-f354-6ed40fa1d85a"
      },
      "execution_count": null,
      "outputs": [
        {
          "output_type": "stream",
          "name": "stdout",
          "text": [
            "LGM MAE: 1277.007150236197\n",
            "LGM MSE: 4306626.91679185\n",
            "LGM RMSE: 2075.241411689698\n"
          ]
        }
      ]
    },
    {
      "cell_type": "code",
      "source": [
        "metrics.r2_score(y_test, prediction_lgm)"
      ],
      "metadata": {
        "colab": {
          "base_uri": "https://localhost:8080/"
        },
        "id": "b3_wNrqZ_FrO",
        "outputId": "f0d368b9-337d-4c6d-ddb1-5606113c0a4a"
      },
      "execution_count": null,
      "outputs": [
        {
          "output_type": "execute_result",
          "data": {
            "text/plain": [
              "0.7935397094619563"
            ]
          },
          "metadata": {},
          "execution_count": 116
        }
      ]
    },
    {
      "cell_type": "code",
      "source": [
        "plt.figure(figsize = (6,6))\n",
        "plt.scatter(y_test, prediction_lgm, alpha = 0.5)\n",
        "plt.xlabel(\"y_test\")\n",
        "plt.ylabel(\"y_pred\")\n",
        "plt.title('LGBM')\n",
        "plt.show()"
      ],
      "metadata": {
        "colab": {
          "base_uri": "https://localhost:8080/",
          "height": 410
        },
        "id": "HGYXvZIkX2YC",
        "outputId": "5fe8eb8a-c16f-4c0c-f2d4-efaead7c3101"
      },
      "execution_count": null,
      "outputs": [
        {
          "output_type": "display_data",
          "data": {
            "text/plain": [
              "<Figure size 432x432 with 1 Axes>"
            ],
            "image/png": "[encoded data removed]"
          },
          "metadata": {}
        }
      ]
    },
    {
      "cell_type": "code",
      "source": [
        "plt.figure(figsize = (15,7))\n",
        "feat_importances = pd.Series(model_lgm.feature_importances_, index=X_train.columns)\n",
        "feat_importances.nlargest(20).plot(kind='barh')\n",
        "plt.title(\"Feature importance for light GBM\")\n",
        "plt.show()"
      ],
      "metadata": {
        "colab": {
          "base_uri": "https://localhost:8080/",
          "height": 447
        },
        "id": "N_zJVhppYKcS",
        "outputId": "2e089b08-6b76-4f92-a485-1de029ea58c5"
      },
      "execution_count": null,
      "outputs": [
        {
          "output_type": "display_data",
          "data": {
            "text/plain": [
              "<Figure size 1080x504 with 1 Axes>"
            ],
            "image/png": "[encoded data removed]"
          },
          "metadata": {}
        }
      ]
    },
    {
      "cell_type": "code",
      "source": [
        "from sklearn.ensemble import RandomForestRegressor\n",
        "\n",
        "\n",
        "model_forest=RandomForestRegressor()\n",
        "                            \n",
        "model_forest.fit(X_train,y_train)\n",
        "\n",
        "prediction_forest = model_forest.predict(X_test)"
      ],
      "metadata": {
        "id": "4lHvRixIS8J2"
      },
      "execution_count": null,
      "outputs": []
    },
    {
      "cell_type": "code",
      "source": [
        "print('Random Forest MAE :', metrics.mean_absolute_error(y_test,prediction_forest))\n",
        "print('Random  Forest :', metrics.mean_squared_error(y_test, prediction_forest))\n",
        "print('Random Forest RMSE:', np.sqrt(metrics.mean_squared_error(y_test, prediction_forest)))"
      ],
      "metadata": {
        "colab": {
          "base_uri": "https://localhost:8080/"
        },
        "id": "J63liClUTdwZ",
        "outputId": "c7c193cb-678d-47ff-e6a5-382b01e038cb"
      },
      "execution_count": null,
      "outputs": [
        {
          "output_type": "stream",
          "name": "stdout",
          "text": [
            "Random Forest MAE : 1197.8645021477048\n",
            "Random  Forest : 4985178.276068049\n",
            "Random Forest RMSE: 2232.751279490855\n"
          ]
        }
      ]
    },
    {
      "cell_type": "code",
      "source": [
        "metrics.r2_score(y_test, prediction_forest)"
      ],
      "metadata": {
        "colab": {
          "base_uri": "https://localhost:8080/"
        },
        "id": "Kq2p7pSHT1t2",
        "outputId": "bf8bd347-fc08-4ca5-ac6a-99edb8f1345f"
      },
      "execution_count": null,
      "outputs": [
        {
          "output_type": "execute_result",
          "data": {
            "text/plain": [
              "0.7610098633694351"
            ]
          },
          "metadata": {},
          "execution_count": 27
        }
      ]
    },
    {
      "cell_type": "code",
      "source": [
        "plt.figure(figsize = (15,7))\n",
        "feat_importances = pd.Series(model_forest.feature_importances_, index=X_train.columns)\n",
        "feat_importances.nlargest(20).plot(kind='barh')\n",
        "plt.title('Feature Importance for Random Forest')\n",
        "plt.show()"
      ],
      "metadata": {
        "colab": {
          "base_uri": "https://localhost:8080/",
          "height": 447
        },
        "id": "nzfEiTOljLrh",
        "outputId": "c41f436f-95dc-4e3b-c8a8-48192d7aef1f"
      },
      "execution_count": null,
      "outputs": [
        {
          "output_type": "display_data",
          "data": {
            "text/plain": [
              "<Figure size 1080x504 with 1 Axes>"
            ],
            "image/png": "[encoded data removed]"
          },
          "metadata": {}
        }
      ]
    },
    {
      "cell_type": "code",
      "source": [
        "plt.figure(figsize = (8,8))\n",
        "plt.scatter(y_test, prediction_forest, alpha = 0.5)\n",
        "plt.xlabel(\"y_test\")\n",
        "plt.ylabel(\"y_pred\")\n",
        "plt.title(\"Random Forest\")\n",
        "plt.show()"
      ],
      "metadata": {
        "colab": {
          "base_uri": "https://localhost:8080/",
          "height": 518
        },
        "id": "RZgd-0qSaG6B",
        "outputId": "7e5800e5-eb54-4a0c-bd3e-c882c6e221b1"
      },
      "execution_count": null,
      "outputs": [
        {
          "output_type": "display_data",
          "data": {
            "text/plain": [
              "<Figure size 576x576 with 1 Axes>"
            ],
            "image/png": "[encoded data removed]"
          },
          "metadata": {}
        }
      ]
    },
    {
      "cell_type": "code",
      "source": [
        "from sklearn.svm import SVR\n",
        "\n",
        "model_SVM = SVR(kernel='linear')\n",
        "\n",
        "model_SVM.fit(X_train, y_train)\n",
        "\n",
        "prediction_SVM = model_SVM.predict(X_test)"
      ],
      "metadata": {
        "id": "D7TIl5EZT8w7"
      },
      "execution_count": null,
      "outputs": []
    },
    {
      "cell_type": "code",
      "source": [
        "print('SVM MAE:', metrics.mean_absolute_error(y_test,prediction_SVM))\n",
        "print('SVM MSE:', metrics.mean_squared_error(y_test, prediction_SVM))\n",
        "print('SVM RMSE:', np.sqrt(metrics.mean_squared_error(y_test, prediction_SVM)))"
      ],
      "metadata": {
        "colab": {
          "base_uri": "https://localhost:8080/"
        },
        "id": "-yeLAZlYV39q",
        "outputId": "d8ce597d-f4b7-44a9-9378-f00a4ddb5c76"
      },
      "execution_count": null,
      "outputs": [
        {
          "output_type": "stream",
          "name": "stdout",
          "text": [
            "SVM MAE: 2254.874414628522\n",
            "SVM MSE: 12341323.675767068\n",
            "SVM RMSE: 3513.0220147000314\n"
          ]
        }
      ]
    },
    {
      "cell_type": "code",
      "source": [
        "metrics.r2_score(y_test, prediction_SVM)"
      ],
      "metadata": {
        "colab": {
          "base_uri": "https://localhost:8080/"
        },
        "id": "73flxoTxV--W",
        "outputId": "1cdce4f4-f610-4a13-ad5e-fe02f0e516c8"
      },
      "execution_count": null,
      "outputs": [
        {
          "output_type": "execute_result",
          "data": {
            "text/plain": [
              "0.40835523462965984"
            ]
          },
          "metadata": {},
          "execution_count": 80
        }
      ]
    },
    {
      "cell_type": "code",
      "source": [
        "from sklearn.neighbors import KNeighborsRegressor\n",
        "\n",
        "model_knn = KNeighborsRegressor(n_neighbors=3)\n",
        "\n",
        "model_knn.fit(X_train, y_train)\n",
        "\n",
        "prediction_knn = model_knn.predict(X_test)"
      ],
      "metadata": {
        "id": "A6DqoofvB0lg"
      },
      "execution_count": null,
      "outputs": []
    },
    {
      "cell_type": "code",
      "source": [
        "print('KNN MAE:', metrics.mean_absolute_error(y_test,prediction_knn))\n",
        "print('KNN MSE:', metrics.mean_squared_error(y_test, prediction_knn))\n",
        "print('KNN RMSE:', np.sqrt(metrics.mean_squared_error(y_test, prediction_knn)))"
      ],
      "metadata": {
        "colab": {
          "base_uri": "https://localhost:8080/"
        },
        "id": "Ug_ziVQQCFCq",
        "outputId": "5b9441a6-9a6b-4cc3-82e3-acad873a1f29"
      },
      "execution_count": null,
      "outputs": [
        {
          "output_type": "stream",
          "name": "stdout",
          "text": [
            "KNN MAE: 1826.8083203328133\n",
            "KNN MSE: 8869503.009880394\n",
            "KNN RMSE: 2978.1710847230374\n"
          ]
        }
      ]
    },
    {
      "cell_type": "code",
      "source": [
        "metrics.r2_score(y_test, prediction_knn)"
      ],
      "metadata": {
        "colab": {
          "base_uri": "https://localhost:8080/"
        },
        "id": "w0DgouvlCHbC",
        "outputId": "b4972a63-2252-4566-9df5-2b04040d9dea"
      },
      "execution_count": null,
      "outputs": [
        {
          "output_type": "execute_result",
          "data": {
            "text/plain": [
              "0.5747947979408254"
            ]
          },
          "metadata": {},
          "execution_count": 99
        }
      ]
    },
    {
      "cell_type": "code",
      "source": [
        "#Neural Network\n",
        "import tensorflow as tf\n",
        "from keras.models import Sequential\n",
        "from keras.layers import Dense\n",
        " \n",
        "model = Sequential() \n",
        "model.add(Dense(128, activation='relu', input_dim=10))\n",
        "model.add(Dense(16, activation='relu'))\n",
        "model.add(Dense(1, activation='sigmoid')) \n",
        "model.compile(loss='mean_absolute_error', optimizer='adam', metrics=['']) \n",
        "model.summary()\n",
        "\n"
      ],
      "metadata": {
        "colab": {
          "base_uri": "https://localhost:8080/"
        },
        "id": "W5YMQrKNZyBM",
        "outputId": "dc1f460b-9a3f-4c00-abdf-6629ac76b4ab"
      },
      "execution_count": null,
      "outputs": [
        {
          "output_type": "stream",
          "name": "stdout",
          "text": [
            "Model: \"sequential\"\n",
            "_________________________________________________________________\n",
            " Layer (type)                Output Shape              Param #   \n",
            "=================================================================\n",
            " dense (Dense)               (None, 128)               1408      \n",
            "                                                                 \n",
            " dense_1 (Dense)             (None, 16)                2064      \n",
            "                                                                 \n",
            " dense_2 (Dense)             (None, 1)                 17        \n",
            "                                                                 \n",
            "=================================================================\n",
            "Total params: 3,489\n",
            "Trainable params: 3,489\n",
            "Non-trainable params: 0\n",
            "_________________________________________________________________\n"
          ]
        }
      ]
    },
    {
      "cell_type": "code",
      "source": [
        "\n",
        "from keras.callbacks import ModelCheckpoint\n",
        "import tensorflow as tf\n",
        "from keras.models import Sequential\n",
        "from keras.layers import Dense\n",
        "\n",
        "NN_model = Sequential()\n",
        "\n",
        "\n",
        "NN_model.add(Dense(128, kernel_initializer='normal',input_dim = X_train.shape[1], activation='relu'))\n",
        "\n",
        "NN_model.add(Dense(256, kernel_initializer='normal',activation='relu'))\n",
        "NN_model.add(Dense(256, kernel_initializer='normal',activation='relu'))\n",
        "NN_model.add(Dense(256, kernel_initializer='normal',activation='relu'))\n",
        "\n",
        "\n",
        "NN_model.add(Dense(1, kernel_initializer='normal',activation='linear'))\n",
        "\n",
        "NN_model.compile(loss='mean_absolute_error', optimizer='adam', metrics=['mean_absolute_error'])\n",
        "NN_model.summary()"
      ],
      "metadata": {
        "id": "Pn7EQXR_fp3F",
        "colab": {
          "base_uri": "https://localhost:8080/"
        },
        "outputId": "5d0978b8-ac82-4162-88f2-57ea6dd4ee68"
      },
      "execution_count": null,
      "outputs": [
        {
          "output_type": "stream",
          "name": "stdout",
          "text": [
            "Model: \"sequential_1\"\n",
            "_________________________________________________________________\n",
            " Layer (type)                Output Shape              Param #   \n",
            "=================================================================\n",
            " dense_3 (Dense)             (None, 128)               4224      \n",
            "                                                                 \n",
            " dense_4 (Dense)             (None, 256)               33024     \n",
            "                                                                 \n",
            " dense_5 (Dense)             (None, 256)               65792     \n",
            "                                                                 \n",
            " dense_6 (Dense)             (None, 256)               65792     \n",
            "                                                                 \n",
            " dense_7 (Dense)             (None, 1)                 257       \n",
            "                                                                 \n",
            "=================================================================\n",
            "Total params: 169,089\n",
            "Trainable params: 169,089\n",
            "Non-trainable params: 0\n",
            "_________________________________________________________________\n"
          ]
        }
      ]
    },
    {
      "cell_type": "code",
      "source": [
        "checkpoint_name = 'Weights-{epoch:03d}--{val_loss:.5f}.hdf5' \n",
        "checkpoint = ModelCheckpoint(checkpoint_name, monitor='val_loss', verbose = 1, save_best_only = True, mode ='auto')\n",
        "callbacks_list = [checkpoint]"
      ],
      "metadata": {
        "id": "xZikW-kfa-c6"
      },
      "execution_count": null,
      "outputs": []
    },
    {
      "cell_type": "code",
      "source": [
        "NN_model.fit(X_train, y_train, epochs=300, batch_size=32, validation_split = 0.2, callbacks=callbacks_list)"
      ],
      "metadata": {
        "colab": {
          "base_uri": "https://localhost:8080/"
        },
        "id": "QR7oq-OBbDnp",
        "outputId": "5a54ff47-5887-4a5c-e072-301120af2c41"
      },
      "execution_count": null,
      "outputs": [
        {
          "output_type": "stream",
          "name": "stdout",
          "text": [
            "Epoch 1/300\n",
            "185/187 [============================>.] - ETA: 0s - loss: 4102.9917 - mean_absolute_error: 4102.9917\n",
            "Epoch 1: val_loss improved from inf to 2535.17041, saving model to Weights-001--2535.17041.hdf5\n",
            "187/187 [==============================] - 2s 5ms/step - loss: 4085.4834 - mean_absolute_error: 4085.4834 - val_loss: 2535.1704 - val_mean_absolute_error: 2535.1704\n",
            "Epoch 2/300\n",
            "186/187 [============================>.] - ETA: 0s - loss: 2543.1382 - mean_absolute_error: 2543.1382\n",
            "Epoch 2: val_loss improved from 2535.17041 to 2202.25562, saving model to Weights-002--2202.25562.hdf5\n",
            "187/187 [==============================] - 1s 5ms/step - loss: 2540.3074 - mean_absolute_error: 2540.3074 - val_loss: 2202.2556 - val_mean_absolute_error: 2202.2556\n",
            "Epoch 3/300\n",
            "186/187 [============================>.] - ETA: 0s - loss: 2216.9185 - mean_absolute_error: 2216.9185\n",
            "Epoch 3: val_loss improved from 2202.25562 to 2021.17114, saving model to Weights-003--2021.17114.hdf5\n",
            "187/187 [==============================] - 1s 4ms/step - loss: 2217.2671 - mean_absolute_error: 2217.2671 - val_loss: 2021.1711 - val_mean_absolute_error: 2021.1711\n",
            "Epoch 4/300\n",
            "187/187 [==============================] - ETA: 0s - loss: 2014.3344 - mean_absolute_error: 2014.3344\n",
            "Epoch 4: val_loss improved from 2021.17114 to 2010.99426, saving model to Weights-004--2010.99426.hdf5\n",
            "187/187 [==============================] - 1s 4ms/step - loss: 2014.3344 - mean_absolute_error: 2014.3344 - val_loss: 2010.9943 - val_mean_absolute_error: 2010.9943\n",
            "Epoch 5/300\n",
            "180/187 [===========================>..] - ETA: 0s - loss: 1958.0251 - mean_absolute_error: 1958.0251\n",
            "Epoch 5: val_loss improved from 2010.99426 to 1874.68799, saving model to Weights-005--1874.68799.hdf5\n",
            "187/187 [==============================] - 1s 4ms/step - loss: 1969.2474 - mean_absolute_error: 1969.2474 - val_loss: 1874.6880 - val_mean_absolute_error: 1874.6880\n",
            "Epoch 6/300\n",
            "176/187 [===========================>..] - ETA: 0s - loss: 1934.9526 - mean_absolute_error: 1934.9526\n",
            "Epoch 6: val_loss improved from 1874.68799 to 1869.57959, saving model to Weights-006--1869.57959.hdf5\n",
            "187/187 [==============================] - 1s 5ms/step - loss: 1933.3225 - mean_absolute_error: 1933.3225 - val_loss: 1869.5796 - val_mean_absolute_error: 1869.5796\n",
            "Epoch 7/300\n",
            "177/187 [===========================>..] - ETA: 0s - loss: 1878.6880 - mean_absolute_error: 1878.6880\n",
            "Epoch 7: val_loss improved from 1869.57959 to 1838.95386, saving model to Weights-007--1838.95386.hdf5\n",
            "187/187 [==============================] - 1s 4ms/step - loss: 1880.2438 - mean_absolute_error: 1880.2438 - val_loss: 1838.9539 - val_mean_absolute_error: 1838.9539\n",
            "Epoch 8/300\n",
            "178/187 [===========================>..] - ETA: 0s - loss: 1872.2811 - mean_absolute_error: 1872.2811\n",
            "Epoch 8: val_loss did not improve from 1838.95386\n",
            "187/187 [==============================] - 1s 5ms/step - loss: 1868.9373 - mean_absolute_error: 1868.9373 - val_loss: 1844.1731 - val_mean_absolute_error: 1844.1731\n",
            "Epoch 9/300\n",
            "180/187 [===========================>..] - ETA: 0s - loss: 1860.3677 - mean_absolute_error: 1860.3677\n",
            "Epoch 9: val_loss improved from 1838.95386 to 1827.17468, saving model to Weights-009--1827.17468.hdf5\n",
            "187/187 [==============================] - 1s 5ms/step - loss: 1862.8262 - mean_absolute_error: 1862.8262 - val_loss: 1827.1747 - val_mean_absolute_error: 1827.1747\n",
            "Epoch 10/300\n",
            "174/187 [==========================>...] - ETA: 0s - loss: 1798.8568 - mean_absolute_error: 1798.8568\n",
            "Epoch 10: val_loss improved from 1827.17468 to 1800.51941, saving model to Weights-010--1800.51941.hdf5\n",
            "187/187 [==============================] - 1s 4ms/step - loss: 1795.7476 - mean_absolute_error: 1795.7476 - val_loss: 1800.5194 - val_mean_absolute_error: 1800.5194\n",
            "Epoch 11/300\n",
            "180/187 [===========================>..] - ETA: 0s - loss: 1795.3181 - mean_absolute_error: 1795.3181\n",
            "Epoch 11: val_loss improved from 1800.51941 to 1707.94006, saving model to Weights-011--1707.94006.hdf5\n",
            "187/187 [==============================] - 1s 4ms/step - loss: 1788.2927 - mean_absolute_error: 1788.2927 - val_loss: 1707.9401 - val_mean_absolute_error: 1707.9401\n",
            "Epoch 12/300\n",
            "178/187 [===========================>..] - ETA: 0s - loss: 1776.4893 - mean_absolute_error: 1776.4893\n",
            "Epoch 12: val_loss did not improve from 1707.94006\n",
            "187/187 [==============================] - 1s 5ms/step - loss: 1776.1105 - mean_absolute_error: 1776.1105 - val_loss: 1746.4556 - val_mean_absolute_error: 1746.4556\n",
            "Epoch 13/300\n",
            "176/187 [===========================>..] - ETA: 0s - loss: 1748.9979 - mean_absolute_error: 1748.9979\n",
            "Epoch 13: val_loss improved from 1707.94006 to 1682.27673, saving model to Weights-013--1682.27673.hdf5\n",
            "187/187 [==============================] - 1s 4ms/step - loss: 1741.2238 - mean_absolute_error: 1741.2238 - val_loss: 1682.2767 - val_mean_absolute_error: 1682.2767\n",
            "Epoch 14/300\n",
            "178/187 [===========================>..] - ETA: 0s - loss: 1715.5133 - mean_absolute_error: 1715.5133\n",
            "Epoch 14: val_loss improved from 1682.27673 to 1679.71960, saving model to Weights-014--1679.71960.hdf5\n",
            "187/187 [==============================] - 1s 5ms/step - loss: 1713.3160 - mean_absolute_error: 1713.3160 - val_loss: 1679.7196 - val_mean_absolute_error: 1679.7196\n",
            "Epoch 15/300\n",
            "184/187 [============================>.] - ETA: 0s - loss: 1706.3260 - mean_absolute_error: 1706.3260\n",
            "Epoch 15: val_loss improved from 1679.71960 to 1664.95386, saving model to Weights-015--1664.95386.hdf5\n",
            "187/187 [==============================] - 1s 5ms/step - loss: 1706.0397 - mean_absolute_error: 1706.0397 - val_loss: 1664.9539 - val_mean_absolute_error: 1664.9539\n",
            "Epoch 16/300\n",
            "178/187 [===========================>..] - ETA: 0s - loss: 1696.2844 - mean_absolute_error: 1696.2844\n",
            "Epoch 16: val_loss improved from 1664.95386 to 1639.66772, saving model to Weights-016--1639.66772.hdf5\n",
            "187/187 [==============================] - 1s 5ms/step - loss: 1680.6749 - mean_absolute_error: 1680.6749 - val_loss: 1639.6677 - val_mean_absolute_error: 1639.6677\n",
            "Epoch 17/300\n",
            "186/187 [============================>.] - ETA: 0s - loss: 1686.7070 - mean_absolute_error: 1686.7070\n",
            "Epoch 17: val_loss did not improve from 1639.66772\n",
            "187/187 [==============================] - 1s 5ms/step - loss: 1687.1615 - mean_absolute_error: 1687.1615 - val_loss: 1705.2644 - val_mean_absolute_error: 1705.2644\n",
            "Epoch 18/300\n",
            "177/187 [===========================>..] - ETA: 0s - loss: 1661.9338 - mean_absolute_error: 1661.9338\n",
            "Epoch 18: val_loss did not improve from 1639.66772\n",
            "187/187 [==============================] - 1s 4ms/step - loss: 1658.1185 - mean_absolute_error: 1658.1185 - val_loss: 1792.8297 - val_mean_absolute_error: 1792.8297\n",
            "Epoch 19/300\n",
            "187/187 [==============================] - ETA: 0s - loss: 1682.3428 - mean_absolute_error: 1682.3428\n",
            "Epoch 19: val_loss did not improve from 1639.66772\n",
            "187/187 [==============================] - 1s 5ms/step - loss: 1682.3428 - mean_absolute_error: 1682.3428 - val_loss: 1744.0598 - val_mean_absolute_error: 1744.0598\n",
            "Epoch 20/300\n",
            "187/187 [==============================] - ETA: 0s - loss: 1648.4275 - mean_absolute_error: 1648.4275\n",
            "Epoch 20: val_loss improved from 1639.66772 to 1570.78528, saving model to Weights-020--1570.78528.hdf5\n",
            "187/187 [==============================] - 1s 4ms/step - loss: 1648.4275 - mean_absolute_error: 1648.4275 - val_loss: 1570.7853 - val_mean_absolute_error: 1570.7853\n",
            "Epoch 21/300\n",
            "183/187 [============================>.] - ETA: 0s - loss: 1616.0933 - mean_absolute_error: 1616.0933\n",
            "Epoch 21: val_loss did not improve from 1570.78528\n",
            "187/187 [==============================] - 1s 5ms/step - loss: 1620.1492 - mean_absolute_error: 1620.1492 - val_loss: 1633.4148 - val_mean_absolute_error: 1633.4148\n",
            "Epoch 22/300\n",
            "183/187 [============================>.] - ETA: 0s - loss: 1629.2863 - mean_absolute_error: 1629.2863\n",
            "Epoch 22: val_loss did not improve from 1570.78528\n",
            "187/187 [==============================] - 1s 5ms/step - loss: 1634.5096 - mean_absolute_error: 1634.5096 - val_loss: 1578.6191 - val_mean_absolute_error: 1578.6191\n",
            "Epoch 23/300\n",
            "186/187 [============================>.] - ETA: 0s - loss: 1615.3174 - mean_absolute_error: 1615.3174\n",
            "Epoch 23: val_loss improved from 1570.78528 to 1563.30627, saving model to Weights-023--1563.30627.hdf5\n",
            "187/187 [==============================] - 1s 4ms/step - loss: 1615.8475 - mean_absolute_error: 1615.8475 - val_loss: 1563.3063 - val_mean_absolute_error: 1563.3063\n",
            "Epoch 24/300\n",
            "177/187 [===========================>..] - ETA: 0s - loss: 1618.4565 - mean_absolute_error: 1618.4565\n",
            "Epoch 24: val_loss did not improve from 1563.30627\n",
            "187/187 [==============================] - 1s 4ms/step - loss: 1615.5256 - mean_absolute_error: 1615.5256 - val_loss: 1564.0479 - val_mean_absolute_error: 1564.0479\n",
            "Epoch 25/300\n",
            "175/187 [===========================>..] - ETA: 0s - loss: 1563.9186 - mean_absolute_error: 1563.9186\n",
            "Epoch 25: val_loss improved from 1563.30627 to 1557.71423, saving model to Weights-025--1557.71423.hdf5\n",
            "187/187 [==============================] - 1s 5ms/step - loss: 1578.0372 - mean_absolute_error: 1578.0372 - val_loss: 1557.7142 - val_mean_absolute_error: 1557.7142\n",
            "Epoch 26/300\n",
            "187/187 [==============================] - ETA: 0s - loss: 1565.5969 - mean_absolute_error: 1565.5969\n",
            "Epoch 26: val_loss did not improve from 1557.71423\n",
            "187/187 [==============================] - 1s 4ms/step - loss: 1565.5969 - mean_absolute_error: 1565.5969 - val_loss: 1568.3264 - val_mean_absolute_error: 1568.3264\n",
            "Epoch 27/300\n",
            "180/187 [===========================>..] - ETA: 0s - loss: 1583.1615 - mean_absolute_error: 1583.1615\n",
            "Epoch 27: val_loss improved from 1557.71423 to 1521.30750, saving model to Weights-027--1521.30750.hdf5\n",
            "187/187 [==============================] - 1s 5ms/step - loss: 1582.7280 - mean_absolute_error: 1582.7280 - val_loss: 1521.3075 - val_mean_absolute_error: 1521.3075\n",
            "Epoch 28/300\n",
            "181/187 [============================>.] - ETA: 0s - loss: 1573.8613 - mean_absolute_error: 1573.8613\n",
            "Epoch 28: val_loss did not improve from 1521.30750\n",
            "187/187 [==============================] - 1s 4ms/step - loss: 1574.6929 - mean_absolute_error: 1574.6929 - val_loss: 1583.4788 - val_mean_absolute_error: 1583.4788\n",
            "Epoch 29/300\n",
            "185/187 [============================>.] - ETA: 0s - loss: 1573.2561 - mean_absolute_error: 1573.2561\n",
            "Epoch 29: val_loss did not improve from 1521.30750\n",
            "187/187 [==============================] - 1s 4ms/step - loss: 1573.0386 - mean_absolute_error: 1573.0386 - val_loss: 1648.2504 - val_mean_absolute_error: 1648.2504\n",
            "Epoch 30/300\n",
            "185/187 [============================>.] - ETA: 0s - loss: 1567.9529 - mean_absolute_error: 1567.9529\n",
            "Epoch 30: val_loss did not improve from 1521.30750\n",
            "187/187 [==============================] - 1s 4ms/step - loss: 1569.7209 - mean_absolute_error: 1569.7209 - val_loss: 1569.7804 - val_mean_absolute_error: 1569.7804\n",
            "Epoch 31/300\n",
            "185/187 [============================>.] - ETA: 0s - loss: 1560.4506 - mean_absolute_error: 1560.4506\n",
            "Epoch 31: val_loss did not improve from 1521.30750\n",
            "187/187 [==============================] - 1s 4ms/step - loss: 1559.6324 - mean_absolute_error: 1559.6324 - val_loss: 1532.4592 - val_mean_absolute_error: 1532.4592\n",
            "Epoch 32/300\n",
            "180/187 [===========================>..] - ETA: 0s - loss: 1533.2401 - mean_absolute_error: 1533.2401\n",
            "Epoch 32: val_loss did not improve from 1521.30750\n",
            "187/187 [==============================] - 1s 4ms/step - loss: 1532.7306 - mean_absolute_error: 1532.7306 - val_loss: 1524.2740 - val_mean_absolute_error: 1524.2740\n",
            "Epoch 33/300\n",
            "174/187 [==========================>...] - ETA: 0s - loss: 1553.4302 - mean_absolute_error: 1553.4302\n",
            "Epoch 33: val_loss did not improve from 1521.30750\n",
            "187/187 [==============================] - 1s 5ms/step - loss: 1557.0814 - mean_absolute_error: 1557.0814 - val_loss: 1533.0530 - val_mean_absolute_error: 1533.0530\n",
            "Epoch 34/300\n",
            "184/187 [============================>.] - ETA: 0s - loss: 1523.9734 - mean_absolute_error: 1523.9734\n",
            "Epoch 34: val_loss did not improve from 1521.30750\n",
            "187/187 [==============================] - 1s 4ms/step - loss: 1520.1089 - mean_absolute_error: 1520.1089 - val_loss: 1530.0178 - val_mean_absolute_error: 1530.0178\n",
            "Epoch 35/300\n",
            "183/187 [============================>.] - ETA: 0s - loss: 1525.3390 - mean_absolute_error: 1525.3390\n",
            "Epoch 35: val_loss improved from 1521.30750 to 1504.54846, saving model to Weights-035--1504.54846.hdf5\n",
            "187/187 [==============================] - 1s 5ms/step - loss: 1524.3187 - mean_absolute_error: 1524.3187 - val_loss: 1504.5485 - val_mean_absolute_error: 1504.5485\n",
            "Epoch 36/300\n",
            "177/187 [===========================>..] - ETA: 0s - loss: 1512.6807 - mean_absolute_error: 1512.6807\n",
            "Epoch 36: val_loss did not improve from 1504.54846\n",
            "187/187 [==============================] - 1s 5ms/step - loss: 1516.6113 - mean_absolute_error: 1516.6113 - val_loss: 1532.5348 - val_mean_absolute_error: 1532.5348\n",
            "Epoch 37/300\n",
            "185/187 [============================>.] - ETA: 0s - loss: 1532.9396 - mean_absolute_error: 1532.9396\n",
            "Epoch 37: val_loss did not improve from 1504.54846\n",
            "187/187 [==============================] - 1s 4ms/step - loss: 1532.5651 - mean_absolute_error: 1532.5651 - val_loss: 1598.6156 - val_mean_absolute_error: 1598.6156\n",
            "Epoch 38/300\n",
            "181/187 [============================>.] - ETA: 0s - loss: 1495.1381 - mean_absolute_error: 1495.1381\n",
            "Epoch 38: val_loss did not improve from 1504.54846\n",
            "187/187 [==============================] - 1s 5ms/step - loss: 1507.1455 - mean_absolute_error: 1507.1455 - val_loss: 1618.3792 - val_mean_absolute_error: 1618.3792\n",
            "Epoch 39/300\n",
            "181/187 [============================>.] - ETA: 0s - loss: 1506.3750 - mean_absolute_error: 1506.3750\n",
            "Epoch 39: val_loss improved from 1504.54846 to 1480.41064, saving model to Weights-039--1480.41064.hdf5\n",
            "187/187 [==============================] - 1s 4ms/step - loss: 1503.5765 - mean_absolute_error: 1503.5765 - val_loss: 1480.4106 - val_mean_absolute_error: 1480.4106\n",
            "Epoch 40/300\n",
            "179/187 [===========================>..] - ETA: 0s - loss: 1493.8969 - mean_absolute_error: 1493.8969\n",
            "Epoch 40: val_loss improved from 1480.41064 to 1464.21814, saving model to Weights-040--1464.21814.hdf5\n",
            "187/187 [==============================] - 1s 5ms/step - loss: 1490.6173 - mean_absolute_error: 1490.6173 - val_loss: 1464.2181 - val_mean_absolute_error: 1464.2181\n",
            "Epoch 41/300\n",
            "176/187 [===========================>..] - ETA: 0s - loss: 1470.2177 - mean_absolute_error: 1470.2177\n",
            "Epoch 41: val_loss did not improve from 1464.21814\n",
            "187/187 [==============================] - 1s 5ms/step - loss: 1471.5083 - mean_absolute_error: 1471.5083 - val_loss: 1485.0544 - val_mean_absolute_error: 1485.0544\n",
            "Epoch 42/300\n",
            "186/187 [============================>.] - ETA: 0s - loss: 1486.8242 - mean_absolute_error: 1486.8242\n",
            "Epoch 42: val_loss did not improve from 1464.21814\n",
            "187/187 [==============================] - 1s 4ms/step - loss: 1486.9137 - mean_absolute_error: 1486.9137 - val_loss: 1513.7551 - val_mean_absolute_error: 1513.7551\n",
            "Epoch 43/300\n",
            "176/187 [===========================>..] - ETA: 0s - loss: 1481.7518 - mean_absolute_error: 1481.7518\n",
            "Epoch 43: val_loss did not improve from 1464.21814\n",
            "187/187 [==============================] - 1s 4ms/step - loss: 1478.9675 - mean_absolute_error: 1478.9675 - val_loss: 1467.9025 - val_mean_absolute_error: 1467.9025\n",
            "Epoch 44/300\n",
            "177/187 [===========================>..] - ETA: 0s - loss: 1466.3207 - mean_absolute_error: 1466.3207\n",
            "Epoch 44: val_loss did not improve from 1464.21814\n",
            "187/187 [==============================] - 1s 5ms/step - loss: 1469.0677 - mean_absolute_error: 1469.0677 - val_loss: 1519.0907 - val_mean_absolute_error: 1519.0907\n",
            "Epoch 45/300\n",
            "183/187 [============================>.] - ETA: 0s - loss: 1479.8755 - mean_absolute_error: 1479.8755\n",
            "Epoch 45: val_loss did not improve from 1464.21814\n",
            "187/187 [==============================] - 1s 4ms/step - loss: 1477.8951 - mean_absolute_error: 1477.8951 - val_loss: 1806.3081 - val_mean_absolute_error: 1806.3081\n",
            "Epoch 46/300\n",
            "184/187 [============================>.] - ETA: 0s - loss: 1497.2234 - mean_absolute_error: 1497.2234\n",
            "Epoch 46: val_loss did not improve from 1464.21814\n",
            "187/187 [==============================] - 1s 5ms/step - loss: 1495.2894 - mean_absolute_error: 1495.2894 - val_loss: 1494.0339 - val_mean_absolute_error: 1494.0339\n",
            "Epoch 47/300\n",
            "182/187 [============================>.] - ETA: 0s - loss: 1446.7970 - mean_absolute_error: 1446.7970\n",
            "Epoch 47: val_loss did not improve from 1464.21814\n",
            "187/187 [==============================] - 1s 5ms/step - loss: 1448.6499 - mean_absolute_error: 1448.6499 - val_loss: 1557.6980 - val_mean_absolute_error: 1557.6980\n",
            "Epoch 48/300\n",
            "185/187 [============================>.] - ETA: 0s - loss: 1448.8090 - mean_absolute_error: 1448.8090\n",
            "Epoch 48: val_loss did not improve from 1464.21814\n",
            "187/187 [==============================] - 1s 5ms/step - loss: 1450.1687 - mean_absolute_error: 1450.1687 - val_loss: 1530.4681 - val_mean_absolute_error: 1530.4681\n",
            "Epoch 49/300\n",
            "176/187 [===========================>..] - ETA: 0s - loss: 1451.1675 - mean_absolute_error: 1451.1675\n",
            "Epoch 49: val_loss did not improve from 1464.21814\n",
            "187/187 [==============================] - 1s 4ms/step - loss: 1447.0333 - mean_absolute_error: 1447.0333 - val_loss: 1504.1355 - val_mean_absolute_error: 1504.1355\n",
            "Epoch 50/300\n",
            "181/187 [============================>.] - ETA: 0s - loss: 1446.5365 - mean_absolute_error: 1446.5365\n",
            "Epoch 50: val_loss did not improve from 1464.21814\n",
            "187/187 [==============================] - 1s 5ms/step - loss: 1459.3641 - mean_absolute_error: 1459.3641 - val_loss: 1469.1129 - val_mean_absolute_error: 1469.1129\n",
            "Epoch 51/300\n",
            "184/187 [============================>.] - ETA: 0s - loss: 1417.3595 - mean_absolute_error: 1417.3595\n",
            "Epoch 51: val_loss did not improve from 1464.21814\n",
            "187/187 [==============================] - 1s 5ms/step - loss: 1423.1429 - mean_absolute_error: 1423.1429 - val_loss: 1514.4313 - val_mean_absolute_error: 1514.4313\n",
            "Epoch 52/300\n",
            "183/187 [============================>.] - ETA: 0s - loss: 1446.3785 - mean_absolute_error: 1446.3785\n",
            "Epoch 52: val_loss did not improve from 1464.21814\n",
            "187/187 [==============================] - 1s 4ms/step - loss: 1447.4420 - mean_absolute_error: 1447.4420 - val_loss: 1518.2639 - val_mean_absolute_error: 1518.2639\n",
            "Epoch 53/300\n",
            "183/187 [============================>.] - ETA: 0s - loss: 1456.3462 - mean_absolute_error: 1456.3462\n",
            "Epoch 53: val_loss improved from 1464.21814 to 1449.10205, saving model to Weights-053--1449.10205.hdf5\n",
            "187/187 [==============================] - 1s 5ms/step - loss: 1454.3936 - mean_absolute_error: 1454.3936 - val_loss: 1449.1021 - val_mean_absolute_error: 1449.1021\n",
            "Epoch 54/300\n",
            "184/187 [============================>.] - ETA: 0s - loss: 1411.3663 - mean_absolute_error: 1411.3663\n",
            "Epoch 54: val_loss did not improve from 1449.10205\n",
            "187/187 [==============================] - 1s 4ms/step - loss: 1409.7742 - mean_absolute_error: 1409.7742 - val_loss: 1468.0336 - val_mean_absolute_error: 1468.0336\n",
            "Epoch 55/300\n",
            "175/187 [===========================>..] - ETA: 0s - loss: 1423.3928 - mean_absolute_error: 1423.3928\n",
            "Epoch 55: val_loss improved from 1449.10205 to 1441.85413, saving model to Weights-055--1441.85413.hdf5\n",
            "187/187 [==============================] - 1s 4ms/step - loss: 1421.5693 - mean_absolute_error: 1421.5693 - val_loss: 1441.8541 - val_mean_absolute_error: 1441.8541\n",
            "Epoch 56/300\n",
            "181/187 [============================>.] - ETA: 0s - loss: 1420.6459 - mean_absolute_error: 1420.6459\n",
            "Epoch 56: val_loss did not improve from 1441.85413\n",
            "187/187 [==============================] - 1s 5ms/step - loss: 1420.3944 - mean_absolute_error: 1420.3944 - val_loss: 1502.6766 - val_mean_absolute_error: 1502.6766\n",
            "Epoch 57/300\n",
            "175/187 [===========================>..] - ETA: 0s - loss: 1413.4991 - mean_absolute_error: 1413.4991\n",
            "Epoch 57: val_loss did not improve from 1441.85413\n",
            "187/187 [==============================] - 1s 4ms/step - loss: 1413.7268 - mean_absolute_error: 1413.7268 - val_loss: 1449.4307 - val_mean_absolute_error: 1449.4307\n",
            "Epoch 58/300\n",
            "174/187 [==========================>...] - ETA: 0s - loss: 1408.5641 - mean_absolute_error: 1408.5641\n",
            "Epoch 58: val_loss did not improve from 1441.85413\n",
            "187/187 [==============================] - 1s 5ms/step - loss: 1405.9956 - mean_absolute_error: 1405.9956 - val_loss: 1468.8447 - val_mean_absolute_error: 1468.8447\n",
            "Epoch 59/300\n",
            "178/187 [===========================>..] - ETA: 0s - loss: 1389.6826 - mean_absolute_error: 1389.6826\n",
            "Epoch 59: val_loss improved from 1441.85413 to 1438.56372, saving model to Weights-059--1438.56372.hdf5\n",
            "187/187 [==============================] - 1s 5ms/step - loss: 1390.9507 - mean_absolute_error: 1390.9507 - val_loss: 1438.5637 - val_mean_absolute_error: 1438.5637\n",
            "Epoch 60/300\n",
            "181/187 [============================>.] - ETA: 0s - loss: 1422.7576 - mean_absolute_error: 1422.7576\n",
            "Epoch 60: val_loss did not improve from 1438.56372\n",
            "187/187 [==============================] - 1s 4ms/step - loss: 1418.5563 - mean_absolute_error: 1418.5563 - val_loss: 1477.5721 - val_mean_absolute_error: 1477.5721\n",
            "Epoch 61/300\n",
            "175/187 [===========================>..] - ETA: 0s - loss: 1379.7892 - mean_absolute_error: 1379.7892\n",
            "Epoch 61: val_loss did not improve from 1438.56372\n",
            "187/187 [==============================] - 1s 4ms/step - loss: 1387.7262 - mean_absolute_error: 1387.7262 - val_loss: 1479.3971 - val_mean_absolute_error: 1479.3971\n",
            "Epoch 62/300\n",
            "181/187 [============================>.] - ETA: 0s - loss: 1383.7263 - mean_absolute_error: 1383.7263\n",
            "Epoch 62: val_loss did not improve from 1438.56372\n",
            "187/187 [==============================] - 1s 5ms/step - loss: 1390.6555 - mean_absolute_error: 1390.6555 - val_loss: 1485.6658 - val_mean_absolute_error: 1485.6658\n",
            "Epoch 63/300\n",
            "182/187 [============================>.] - ETA: 0s - loss: 1379.6002 - mean_absolute_error: 1379.6002\n",
            "Epoch 63: val_loss improved from 1438.56372 to 1427.66406, saving model to Weights-063--1427.66406.hdf5\n",
            "187/187 [==============================] - 1s 5ms/step - loss: 1382.7374 - mean_absolute_error: 1382.7374 - val_loss: 1427.6641 - val_mean_absolute_error: 1427.6641\n",
            "Epoch 64/300\n",
            "175/187 [===========================>..] - ETA: 0s - loss: 1353.9077 - mean_absolute_error: 1353.9077\n",
            "Epoch 64: val_loss improved from 1427.66406 to 1409.29651, saving model to Weights-064--1409.29651.hdf5\n",
            "187/187 [==============================] - 1s 5ms/step - loss: 1354.6163 - mean_absolute_error: 1354.6163 - val_loss: 1409.2965 - val_mean_absolute_error: 1409.2965\n",
            "Epoch 65/300\n",
            "187/187 [==============================] - ETA: 0s - loss: 1384.4653 - mean_absolute_error: 1384.4653\n",
            "Epoch 65: val_loss improved from 1409.29651 to 1407.71753, saving model to Weights-065--1407.71753.hdf5\n",
            "187/187 [==============================] - 1s 5ms/step - loss: 1384.4653 - mean_absolute_error: 1384.4653 - val_loss: 1407.7175 - val_mean_absolute_error: 1407.7175\n",
            "Epoch 66/300\n",
            "174/187 [==========================>...] - ETA: 0s - loss: 1361.9575 - mean_absolute_error: 1361.9575\n",
            "Epoch 66: val_loss did not improve from 1407.71753\n",
            "187/187 [==============================] - 1s 5ms/step - loss: 1358.1051 - mean_absolute_error: 1358.1051 - val_loss: 1445.1196 - val_mean_absolute_error: 1445.1196\n",
            "Epoch 67/300\n",
            "179/187 [===========================>..] - ETA: 0s - loss: 1378.0320 - mean_absolute_error: 1378.0320\n",
            "Epoch 67: val_loss did not improve from 1407.71753\n",
            "187/187 [==============================] - 1s 5ms/step - loss: 1379.6716 - mean_absolute_error: 1379.6716 - val_loss: 1578.4326 - val_mean_absolute_error: 1578.4326\n",
            "Epoch 68/300\n",
            "185/187 [============================>.] - ETA: 0s - loss: 1348.6752 - mean_absolute_error: 1348.6752\n",
            "Epoch 68: val_loss did not improve from 1407.71753\n",
            "187/187 [==============================] - 1s 4ms/step - loss: 1348.9418 - mean_absolute_error: 1348.9418 - val_loss: 1450.0598 - val_mean_absolute_error: 1450.0598\n",
            "Epoch 69/300\n",
            "180/187 [===========================>..] - ETA: 0s - loss: 1378.8748 - mean_absolute_error: 1378.8748\n",
            "Epoch 69: val_loss did not improve from 1407.71753\n",
            "187/187 [==============================] - 1s 5ms/step - loss: 1378.4644 - mean_absolute_error: 1378.4644 - val_loss: 1452.5271 - val_mean_absolute_error: 1452.5271\n",
            "Epoch 70/300\n",
            "176/187 [===========================>..] - ETA: 0s - loss: 1336.3512 - mean_absolute_error: 1336.3512\n",
            "Epoch 70: val_loss did not improve from 1407.71753\n",
            "187/187 [==============================] - 1s 5ms/step - loss: 1341.9512 - mean_absolute_error: 1341.9512 - val_loss: 1453.6074 - val_mean_absolute_error: 1453.6074\n",
            "Epoch 71/300\n",
            "182/187 [============================>.] - ETA: 0s - loss: 1349.0612 - mean_absolute_error: 1349.0612\n",
            "Epoch 71: val_loss improved from 1407.71753 to 1404.32788, saving model to Weights-071--1404.32788.hdf5\n",
            "187/187 [==============================] - 1s 5ms/step - loss: 1350.7480 - mean_absolute_error: 1350.7480 - val_loss: 1404.3279 - val_mean_absolute_error: 1404.3279\n",
            "Epoch 72/300\n",
            "182/187 [============================>.] - ETA: 0s - loss: 1353.3542 - mean_absolute_error: 1353.3542\n",
            "Epoch 72: val_loss did not improve from 1404.32788\n",
            "187/187 [==============================] - 1s 5ms/step - loss: 1354.2091 - mean_absolute_error: 1354.2091 - val_loss: 1552.2336 - val_mean_absolute_error: 1552.2336\n",
            "Epoch 73/300\n",
            "179/187 [===========================>..] - ETA: 0s - loss: 1346.3169 - mean_absolute_error: 1346.3169\n",
            "Epoch 73: val_loss did not improve from 1404.32788\n",
            "187/187 [==============================] - 1s 4ms/step - loss: 1345.0385 - mean_absolute_error: 1345.0385 - val_loss: 1481.2712 - val_mean_absolute_error: 1481.2712\n",
            "Epoch 74/300\n",
            "187/187 [==============================] - ETA: 0s - loss: 1331.5177 - mean_absolute_error: 1331.5177\n",
            "Epoch 74: val_loss improved from 1404.32788 to 1379.21777, saving model to Weights-074--1379.21777.hdf5\n",
            "187/187 [==============================] - 1s 4ms/step - loss: 1331.5177 - mean_absolute_error: 1331.5177 - val_loss: 1379.2178 - val_mean_absolute_error: 1379.2178\n",
            "Epoch 75/300\n",
            "178/187 [===========================>..] - ETA: 0s - loss: 1317.0276 - mean_absolute_error: 1317.0276\n",
            "Epoch 75: val_loss did not improve from 1379.21777\n",
            "187/187 [==============================] - 1s 4ms/step - loss: 1321.2112 - mean_absolute_error: 1321.2112 - val_loss: 1400.7941 - val_mean_absolute_error: 1400.7941\n",
            "Epoch 76/300\n",
            "175/187 [===========================>..] - ETA: 0s - loss: 1338.4766 - mean_absolute_error: 1338.4766\n",
            "Epoch 76: val_loss did not improve from 1379.21777\n",
            "187/187 [==============================] - 1s 5ms/step - loss: 1340.6754 - mean_absolute_error: 1340.6754 - val_loss: 1464.2504 - val_mean_absolute_error: 1464.2504\n",
            "Epoch 77/300\n",
            "182/187 [============================>.] - ETA: 0s - loss: 1319.7240 - mean_absolute_error: 1319.7240\n",
            "Epoch 77: val_loss did not improve from 1379.21777\n",
            "187/187 [==============================] - 1s 5ms/step - loss: 1318.0966 - mean_absolute_error: 1318.0966 - val_loss: 1424.8314 - val_mean_absolute_error: 1424.8314\n",
            "Epoch 78/300\n",
            "173/187 [==========================>...] - ETA: 0s - loss: 1302.4451 - mean_absolute_error: 1302.4451\n",
            "Epoch 78: val_loss did not improve from 1379.21777\n",
            "187/187 [==============================] - 1s 4ms/step - loss: 1299.5255 - mean_absolute_error: 1299.5255 - val_loss: 1457.0933 - val_mean_absolute_error: 1457.0933\n",
            "Epoch 79/300\n",
            "185/187 [============================>.] - ETA: 0s - loss: 1333.0375 - mean_absolute_error: 1333.0375\n",
            "Epoch 79: val_loss did not improve from 1379.21777\n",
            "187/187 [==============================] - 1s 5ms/step - loss: 1330.6672 - mean_absolute_error: 1330.6672 - val_loss: 1444.7400 - val_mean_absolute_error: 1444.7400\n",
            "Epoch 80/300\n",
            "184/187 [============================>.] - ETA: 0s - loss: 1311.4716 - mean_absolute_error: 1311.4716\n",
            "Epoch 80: val_loss did not improve from 1379.21777\n",
            "187/187 [==============================] - 1s 5ms/step - loss: 1310.6049 - mean_absolute_error: 1310.6049 - val_loss: 1419.5227 - val_mean_absolute_error: 1419.5227\n",
            "Epoch 81/300\n",
            "178/187 [===========================>..] - ETA: 0s - loss: 1333.4849 - mean_absolute_error: 1333.4849\n",
            "Epoch 81: val_loss did not improve from 1379.21777\n",
            "187/187 [==============================] - 1s 4ms/step - loss: 1334.3049 - mean_absolute_error: 1334.3049 - val_loss: 1500.7125 - val_mean_absolute_error: 1500.7125\n",
            "Epoch 82/300\n",
            "184/187 [============================>.] - ETA: 0s - loss: 1334.9432 - mean_absolute_error: 1334.9432\n",
            "Epoch 82: val_loss did not improve from 1379.21777\n",
            "187/187 [==============================] - 1s 5ms/step - loss: 1331.4290 - mean_absolute_error: 1331.4290 - val_loss: 1424.8364 - val_mean_absolute_error: 1424.8364\n",
            "Epoch 83/300\n",
            "183/187 [============================>.] - ETA: 0s - loss: 1297.9907 - mean_absolute_error: 1297.9907\n",
            "Epoch 83: val_loss did not improve from 1379.21777\n",
            "187/187 [==============================] - 1s 4ms/step - loss: 1295.8978 - mean_absolute_error: 1295.8978 - val_loss: 1436.1036 - val_mean_absolute_error: 1436.1036\n",
            "Epoch 84/300\n",
            "185/187 [============================>.] - ETA: 0s - loss: 1325.5062 - mean_absolute_error: 1325.5062\n",
            "Epoch 84: val_loss did not improve from 1379.21777\n",
            "187/187 [==============================] - 1s 4ms/step - loss: 1320.7174 - mean_absolute_error: 1320.7174 - val_loss: 1398.5522 - val_mean_absolute_error: 1398.5522\n",
            "Epoch 85/300\n",
            "175/187 [===========================>..] - ETA: 0s - loss: 1307.1536 - mean_absolute_error: 1307.1536\n",
            "Epoch 85: val_loss did not improve from 1379.21777\n",
            "187/187 [==============================] - 1s 4ms/step - loss: 1311.1587 - mean_absolute_error: 1311.1587 - val_loss: 1500.7666 - val_mean_absolute_error: 1500.7666\n",
            "Epoch 86/300\n",
            "179/187 [===========================>..] - ETA: 0s - loss: 1296.6880 - mean_absolute_error: 1296.6880\n",
            "Epoch 86: val_loss did not improve from 1379.21777\n",
            "187/187 [==============================] - 1s 4ms/step - loss: 1294.3011 - mean_absolute_error: 1294.3011 - val_loss: 1402.6699 - val_mean_absolute_error: 1402.6699\n",
            "Epoch 87/300\n",
            "186/187 [============================>.] - ETA: 0s - loss: 1291.9497 - mean_absolute_error: 1291.9497\n",
            "Epoch 87: val_loss did not improve from 1379.21777\n",
            "187/187 [==============================] - 1s 4ms/step - loss: 1292.5112 - mean_absolute_error: 1292.5112 - val_loss: 1578.7667 - val_mean_absolute_error: 1578.7667\n",
            "Epoch 88/300\n",
            "179/187 [===========================>..] - ETA: 0s - loss: 1297.5087 - mean_absolute_error: 1297.5087\n",
            "Epoch 88: val_loss did not improve from 1379.21777\n",
            "187/187 [==============================] - 1s 5ms/step - loss: 1296.7524 - mean_absolute_error: 1296.7524 - val_loss: 1412.5952 - val_mean_absolute_error: 1412.5952\n",
            "Epoch 89/300\n",
            "179/187 [===========================>..] - ETA: 0s - loss: 1280.4664 - mean_absolute_error: 1280.4664\n",
            "Epoch 89: val_loss did not improve from 1379.21777\n",
            "187/187 [==============================] - 1s 5ms/step - loss: 1275.9065 - mean_absolute_error: 1275.9065 - val_loss: 1403.7454 - val_mean_absolute_error: 1403.7454\n",
            "Epoch 90/300\n",
            "183/187 [============================>.] - ETA: 0s - loss: 1271.2351 - mean_absolute_error: 1271.2351\n",
            "Epoch 90: val_loss did not improve from 1379.21777\n",
            "187/187 [==============================] - 1s 4ms/step - loss: 1273.8285 - mean_absolute_error: 1273.8285 - val_loss: 1380.2594 - val_mean_absolute_error: 1380.2594\n",
            "Epoch 91/300\n",
            "182/187 [============================>.] - ETA: 0s - loss: 1265.1221 - mean_absolute_error: 1265.1221\n",
            "Epoch 91: val_loss did not improve from 1379.21777\n",
            "187/187 [==============================] - 1s 5ms/step - loss: 1270.6543 - mean_absolute_error: 1270.6543 - val_loss: 1438.8373 - val_mean_absolute_error: 1438.8373\n",
            "Epoch 92/300\n",
            "179/187 [===========================>..] - ETA: 0s - loss: 1290.4250 - mean_absolute_error: 1290.4250\n",
            "Epoch 92: val_loss did not improve from 1379.21777\n",
            "187/187 [==============================] - 1s 5ms/step - loss: 1296.2465 - mean_absolute_error: 1296.2465 - val_loss: 1393.4576 - val_mean_absolute_error: 1393.4576\n",
            "Epoch 93/300\n",
            "180/187 [===========================>..] - ETA: 0s - loss: 1277.2665 - mean_absolute_error: 1277.2665\n",
            "Epoch 93: val_loss did not improve from 1379.21777\n",
            "187/187 [==============================] - 1s 4ms/step - loss: 1279.1962 - mean_absolute_error: 1279.1962 - val_loss: 1418.2856 - val_mean_absolute_error: 1418.2856\n",
            "Epoch 94/300\n",
            "187/187 [==============================] - ETA: 0s - loss: 1277.5023 - mean_absolute_error: 1277.5023\n",
            "Epoch 94: val_loss did not improve from 1379.21777\n",
            "187/187 [==============================] - 1s 5ms/step - loss: 1277.5023 - mean_absolute_error: 1277.5023 - val_loss: 1451.4344 - val_mean_absolute_error: 1451.4344\n",
            "Epoch 95/300\n",
            "180/187 [===========================>..] - ETA: 0s - loss: 1267.3866 - mean_absolute_error: 1267.3866\n",
            "Epoch 95: val_loss did not improve from 1379.21777\n",
            "187/187 [==============================] - 1s 5ms/step - loss: 1265.5809 - mean_absolute_error: 1265.5809 - val_loss: 1386.9771 - val_mean_absolute_error: 1386.9771\n",
            "Epoch 96/300\n",
            "185/187 [============================>.] - ETA: 0s - loss: 1262.4601 - mean_absolute_error: 1262.4601\n",
            "Epoch 96: val_loss did not improve from 1379.21777\n",
            "187/187 [==============================] - 1s 5ms/step - loss: 1261.3201 - mean_absolute_error: 1261.3201 - val_loss: 1382.0203 - val_mean_absolute_error: 1382.0203\n",
            "Epoch 97/300\n",
            "185/187 [============================>.] - ETA: 0s - loss: 1240.2474 - mean_absolute_error: 1240.2474\n",
            "Epoch 97: val_loss improved from 1379.21777 to 1358.14355, saving model to Weights-097--1358.14355.hdf5\n",
            "187/187 [==============================] - 1s 5ms/step - loss: 1240.2837 - mean_absolute_error: 1240.2837 - val_loss: 1358.1436 - val_mean_absolute_error: 1358.1436\n",
            "Epoch 98/300\n",
            "182/187 [============================>.] - ETA: 0s - loss: 1259.5806 - mean_absolute_error: 1259.5806\n",
            "Epoch 98: val_loss did not improve from 1358.14355\n",
            "187/187 [==============================] - 1s 5ms/step - loss: 1258.7767 - mean_absolute_error: 1258.7767 - val_loss: 1370.0803 - val_mean_absolute_error: 1370.0803\n",
            "Epoch 99/300\n",
            "180/187 [===========================>..] - ETA: 0s - loss: 1252.0070 - mean_absolute_error: 1252.0070\n",
            "Epoch 99: val_loss did not improve from 1358.14355\n",
            "187/187 [==============================] - 1s 5ms/step - loss: 1248.6295 - mean_absolute_error: 1248.6295 - val_loss: 1374.4558 - val_mean_absolute_error: 1374.4558\n",
            "Epoch 100/300\n",
            "175/187 [===========================>..] - ETA: 0s - loss: 1246.2885 - mean_absolute_error: 1246.2885\n",
            "Epoch 100: val_loss did not improve from 1358.14355\n",
            "187/187 [==============================] - 1s 5ms/step - loss: 1249.3037 - mean_absolute_error: 1249.3037 - val_loss: 1501.3274 - val_mean_absolute_error: 1501.3274\n",
            "Epoch 101/300\n",
            "187/187 [==============================] - ETA: 0s - loss: 1254.3773 - mean_absolute_error: 1254.3773\n",
            "Epoch 101: val_loss did not improve from 1358.14355\n",
            "187/187 [==============================] - 1s 5ms/step - loss: 1254.3773 - mean_absolute_error: 1254.3773 - val_loss: 1379.2452 - val_mean_absolute_error: 1379.2452\n",
            "Epoch 102/300\n",
            "187/187 [==============================] - ETA: 0s - loss: 1254.8209 - mean_absolute_error: 1254.8209\n",
            "Epoch 102: val_loss did not improve from 1358.14355\n",
            "187/187 [==============================] - 1s 5ms/step - loss: 1254.8209 - mean_absolute_error: 1254.8209 - val_loss: 1572.9741 - val_mean_absolute_error: 1572.9741\n",
            "Epoch 103/300\n",
            "182/187 [============================>.] - ETA: 0s - loss: 1285.3085 - mean_absolute_error: 1285.3085\n",
            "Epoch 103: val_loss did not improve from 1358.14355\n",
            "187/187 [==============================] - 1s 5ms/step - loss: 1281.6683 - mean_absolute_error: 1281.6683 - val_loss: 1529.7073 - val_mean_absolute_error: 1529.7073\n",
            "Epoch 104/300\n",
            "179/187 [===========================>..] - ETA: 0s - loss: 1231.9865 - mean_absolute_error: 1231.9865\n",
            "Epoch 104: val_loss did not improve from 1358.14355\n",
            "187/187 [==============================] - 1s 5ms/step - loss: 1235.9938 - mean_absolute_error: 1235.9938 - val_loss: 1369.4579 - val_mean_absolute_error: 1369.4579\n",
            "Epoch 105/300\n",
            "178/187 [===========================>..] - ETA: 0s - loss: 1249.6472 - mean_absolute_error: 1249.6472\n",
            "Epoch 105: val_loss did not improve from 1358.14355\n",
            "187/187 [==============================] - 1s 5ms/step - loss: 1249.8199 - mean_absolute_error: 1249.8199 - val_loss: 1368.7203 - val_mean_absolute_error: 1368.7203\n",
            "Epoch 106/300\n",
            "177/187 [===========================>..] - ETA: 0s - loss: 1235.9960 - mean_absolute_error: 1235.9960\n",
            "Epoch 106: val_loss did not improve from 1358.14355\n",
            "187/187 [==============================] - 1s 5ms/step - loss: 1238.3014 - mean_absolute_error: 1238.3014 - val_loss: 1511.7056 - val_mean_absolute_error: 1511.7056\n",
            "Epoch 107/300\n",
            "187/187 [==============================] - ETA: 0s - loss: 1247.6726 - mean_absolute_error: 1247.6726\n",
            "Epoch 107: val_loss did not improve from 1358.14355\n",
            "187/187 [==============================] - 1s 5ms/step - loss: 1247.6726 - mean_absolute_error: 1247.6726 - val_loss: 1426.0862 - val_mean_absolute_error: 1426.0862\n",
            "Epoch 108/300\n",
            "182/187 [============================>.] - ETA: 0s - loss: 1237.6464 - mean_absolute_error: 1237.6464\n",
            "Epoch 108: val_loss did not improve from 1358.14355\n",
            "187/187 [==============================] - 1s 5ms/step - loss: 1237.2797 - mean_absolute_error: 1237.2797 - val_loss: 1374.5857 - val_mean_absolute_error: 1374.5857\n",
            "Epoch 109/300\n",
            "183/187 [============================>.] - ETA: 0s - loss: 1242.6069 - mean_absolute_error: 1242.6069\n",
            "Epoch 109: val_loss did not improve from 1358.14355\n",
            "187/187 [==============================] - 1s 4ms/step - loss: 1238.8853 - mean_absolute_error: 1238.8853 - val_loss: 1391.5425 - val_mean_absolute_error: 1391.5425\n",
            "Epoch 110/300\n",
            "180/187 [===========================>..] - ETA: 0s - loss: 1266.8649 - mean_absolute_error: 1266.8649\n",
            "Epoch 110: val_loss did not improve from 1358.14355\n",
            "187/187 [==============================] - 1s 5ms/step - loss: 1265.1290 - mean_absolute_error: 1265.1290 - val_loss: 1385.6593 - val_mean_absolute_error: 1385.6593\n",
            "Epoch 111/300\n",
            "182/187 [============================>.] - ETA: 0s - loss: 1223.3899 - mean_absolute_error: 1223.3899\n",
            "Epoch 111: val_loss did not improve from 1358.14355\n",
            "187/187 [==============================] - 1s 5ms/step - loss: 1220.5612 - mean_absolute_error: 1220.5612 - val_loss: 1366.8872 - val_mean_absolute_error: 1366.8872\n",
            "Epoch 112/300\n",
            "184/187 [============================>.] - ETA: 0s - loss: 1234.6289 - mean_absolute_error: 1234.6289\n",
            "Epoch 112: val_loss did not improve from 1358.14355\n",
            "187/187 [==============================] - 1s 5ms/step - loss: 1229.5759 - mean_absolute_error: 1229.5759 - val_loss: 1365.8677 - val_mean_absolute_error: 1365.8677\n",
            "Epoch 113/300\n",
            "179/187 [===========================>..] - ETA: 0s - loss: 1217.0699 - mean_absolute_error: 1217.0699\n",
            "Epoch 113: val_loss did not improve from 1358.14355\n",
            "187/187 [==============================] - 1s 5ms/step - loss: 1220.2147 - mean_absolute_error: 1220.2147 - val_loss: 1361.5687 - val_mean_absolute_error: 1361.5687\n",
            "Epoch 114/300\n",
            "176/187 [===========================>..] - ETA: 0s - loss: 1242.3365 - mean_absolute_error: 1242.3365\n",
            "Epoch 114: val_loss did not improve from 1358.14355\n",
            "187/187 [==============================] - 1s 5ms/step - loss: 1240.8159 - mean_absolute_error: 1240.8159 - val_loss: 1590.8582 - val_mean_absolute_error: 1590.8582\n",
            "Epoch 115/300\n",
            "177/187 [===========================>..] - ETA: 0s - loss: 1243.1548 - mean_absolute_error: 1243.1548\n",
            "Epoch 115: val_loss did not improve from 1358.14355\n",
            "187/187 [==============================] - 1s 5ms/step - loss: 1242.9534 - mean_absolute_error: 1242.9534 - val_loss: 1374.9485 - val_mean_absolute_error: 1374.9485\n",
            "Epoch 116/300\n",
            "179/187 [===========================>..] - ETA: 0s - loss: 1213.7891 - mean_absolute_error: 1213.7891\n",
            "Epoch 116: val_loss did not improve from 1358.14355\n",
            "187/187 [==============================] - 1s 5ms/step - loss: 1212.8264 - mean_absolute_error: 1212.8264 - val_loss: 1385.4701 - val_mean_absolute_error: 1385.4701\n",
            "Epoch 117/300\n",
            "186/187 [============================>.] - ETA: 0s - loss: 1215.3835 - mean_absolute_error: 1215.3835\n",
            "Epoch 117: val_loss did not improve from 1358.14355\n",
            "187/187 [==============================] - 1s 5ms/step - loss: 1217.2443 - mean_absolute_error: 1217.2443 - val_loss: 1380.4292 - val_mean_absolute_error: 1380.4292\n",
            "Epoch 118/300\n",
            "177/187 [===========================>..] - ETA: 0s - loss: 1216.9487 - mean_absolute_error: 1216.9487\n",
            "Epoch 118: val_loss did not improve from 1358.14355\n",
            "187/187 [==============================] - 1s 5ms/step - loss: 1222.8197 - mean_absolute_error: 1222.8197 - val_loss: 1385.3414 - val_mean_absolute_error: 1385.3414\n",
            "Epoch 119/300\n",
            "178/187 [===========================>..] - ETA: 0s - loss: 1207.2905 - mean_absolute_error: 1207.2905\n",
            "Epoch 119: val_loss did not improve from 1358.14355\n",
            "187/187 [==============================] - 1s 5ms/step - loss: 1210.5479 - mean_absolute_error: 1210.5479 - val_loss: 1381.9064 - val_mean_absolute_error: 1381.9064\n",
            "Epoch 120/300\n",
            "185/187 [============================>.] - ETA: 0s - loss: 1205.4535 - mean_absolute_error: 1205.4535\n",
            "Epoch 120: val_loss did not improve from 1358.14355\n",
            "187/187 [==============================] - 1s 4ms/step - loss: 1205.1582 - mean_absolute_error: 1205.1582 - val_loss: 1412.4114 - val_mean_absolute_error: 1412.4114\n",
            "Epoch 121/300\n",
            "181/187 [============================>.] - ETA: 0s - loss: 1213.5347 - mean_absolute_error: 1213.5347\n",
            "Epoch 121: val_loss improved from 1358.14355 to 1351.70667, saving model to Weights-121--1351.70667.hdf5\n",
            "187/187 [==============================] - 1s 5ms/step - loss: 1212.9518 - mean_absolute_error: 1212.9518 - val_loss: 1351.7067 - val_mean_absolute_error: 1351.7067\n",
            "Epoch 122/300\n",
            "183/187 [============================>.] - ETA: 0s - loss: 1210.9207 - mean_absolute_error: 1210.9207\n",
            "Epoch 122: val_loss did not improve from 1351.70667\n",
            "187/187 [==============================] - 1s 5ms/step - loss: 1215.4722 - mean_absolute_error: 1215.4722 - val_loss: 1415.1858 - val_mean_absolute_error: 1415.1858\n",
            "Epoch 123/300\n",
            "174/187 [==========================>...] - ETA: 0s - loss: 1197.3615 - mean_absolute_error: 1197.3615\n",
            "Epoch 123: val_loss did not improve from 1351.70667\n",
            "187/187 [==============================] - 1s 5ms/step - loss: 1192.3939 - mean_absolute_error: 1192.3939 - val_loss: 1366.0947 - val_mean_absolute_error: 1366.0947\n",
            "Epoch 124/300\n",
            "178/187 [===========================>..] - ETA: 0s - loss: 1200.4567 - mean_absolute_error: 1200.4567\n",
            "Epoch 124: val_loss did not improve from 1351.70667\n",
            "187/187 [==============================] - 1s 5ms/step - loss: 1197.7936 - mean_absolute_error: 1197.7936 - val_loss: 1382.5841 - val_mean_absolute_error: 1382.5841\n",
            "Epoch 125/300\n",
            "178/187 [===========================>..] - ETA: 0s - loss: 1190.4257 - mean_absolute_error: 1190.4257\n",
            "Epoch 125: val_loss did not improve from 1351.70667\n",
            "187/187 [==============================] - 1s 5ms/step - loss: 1191.2996 - mean_absolute_error: 1191.2996 - val_loss: 1433.7296 - val_mean_absolute_error: 1433.7296\n",
            "Epoch 126/300\n",
            "186/187 [============================>.] - ETA: 0s - loss: 1199.3219 - mean_absolute_error: 1199.3219\n",
            "Epoch 126: val_loss did not improve from 1351.70667\n",
            "187/187 [==============================] - 1s 5ms/step - loss: 1199.7644 - mean_absolute_error: 1199.7644 - val_loss: 1387.7594 - val_mean_absolute_error: 1387.7594\n",
            "Epoch 127/300\n",
            "181/187 [============================>.] - ETA: 0s - loss: 1203.2062 - mean_absolute_error: 1203.2062\n",
            "Epoch 127: val_loss did not improve from 1351.70667\n",
            "187/187 [==============================] - 1s 5ms/step - loss: 1203.1947 - mean_absolute_error: 1203.1947 - val_loss: 1379.1919 - val_mean_absolute_error: 1379.1919\n",
            "Epoch 128/300\n",
            "177/187 [===========================>..] - ETA: 0s - loss: 1194.9856 - mean_absolute_error: 1194.9856\n",
            "Epoch 128: val_loss did not improve from 1351.70667\n",
            "187/187 [==============================] - 1s 5ms/step - loss: 1199.3534 - mean_absolute_error: 1199.3534 - val_loss: 1378.9911 - val_mean_absolute_error: 1378.9911\n",
            "Epoch 129/300\n",
            "183/187 [============================>.] - ETA: 0s - loss: 1197.8525 - mean_absolute_error: 1197.8525\n",
            "Epoch 129: val_loss did not improve from 1351.70667\n",
            "187/187 [==============================] - 1s 5ms/step - loss: 1197.7153 - mean_absolute_error: 1197.7153 - val_loss: 1422.2295 - val_mean_absolute_error: 1422.2295\n",
            "Epoch 130/300\n",
            "176/187 [===========================>..] - ETA: 0s - loss: 1204.8849 - mean_absolute_error: 1204.8849\n",
            "Epoch 130: val_loss did not improve from 1351.70667\n",
            "187/187 [==============================] - 1s 5ms/step - loss: 1197.4773 - mean_absolute_error: 1197.4773 - val_loss: 1378.5293 - val_mean_absolute_error: 1378.5293\n",
            "Epoch 131/300\n",
            "176/187 [===========================>..] - ETA: 0s - loss: 1179.0226 - mean_absolute_error: 1179.0226\n",
            "Epoch 131: val_loss did not improve from 1351.70667\n",
            "187/187 [==============================] - 1s 5ms/step - loss: 1178.4553 - mean_absolute_error: 1178.4553 - val_loss: 1371.6819 - val_mean_absolute_error: 1371.6819\n",
            "Epoch 132/300\n",
            "183/187 [============================>.] - ETA: 0s - loss: 1189.4669 - mean_absolute_error: 1189.4669\n",
            "Epoch 132: val_loss did not improve from 1351.70667\n",
            "187/187 [==============================] - 1s 5ms/step - loss: 1189.7505 - mean_absolute_error: 1189.7505 - val_loss: 1407.3192 - val_mean_absolute_error: 1407.3192\n",
            "Epoch 133/300\n",
            "179/187 [===========================>..] - ETA: 0s - loss: 1177.2860 - mean_absolute_error: 1177.2860\n",
            "Epoch 133: val_loss did not improve from 1351.70667\n",
            "187/187 [==============================] - 1s 5ms/step - loss: 1176.8607 - mean_absolute_error: 1176.8607 - val_loss: 1427.3447 - val_mean_absolute_error: 1427.3447\n",
            "Epoch 134/300\n",
            "181/187 [============================>.] - ETA: 0s - loss: 1180.8442 - mean_absolute_error: 1180.8442\n",
            "Epoch 134: val_loss improved from 1351.70667 to 1350.60730, saving model to Weights-134--1350.60730.hdf5\n",
            "187/187 [==============================] - 1s 5ms/step - loss: 1182.8811 - mean_absolute_error: 1182.8811 - val_loss: 1350.6073 - val_mean_absolute_error: 1350.6073\n",
            "Epoch 135/300\n",
            "185/187 [============================>.] - ETA: 0s - loss: 1181.4205 - mean_absolute_error: 1181.4205\n",
            "Epoch 135: val_loss did not improve from 1350.60730\n",
            "187/187 [==============================] - 1s 5ms/step - loss: 1180.2434 - mean_absolute_error: 1180.2434 - val_loss: 1374.4143 - val_mean_absolute_error: 1374.4143\n",
            "Epoch 136/300\n",
            "181/187 [============================>.] - ETA: 0s - loss: 1174.3251 - mean_absolute_error: 1174.3251\n",
            "Epoch 136: val_loss did not improve from 1350.60730\n",
            "187/187 [==============================] - 1s 5ms/step - loss: 1181.3475 - mean_absolute_error: 1181.3475 - val_loss: 1355.6310 - val_mean_absolute_error: 1355.6310\n",
            "Epoch 137/300\n",
            "177/187 [===========================>..] - ETA: 0s - loss: 1164.8340 - mean_absolute_error: 1164.8340\n",
            "Epoch 137: val_loss did not improve from 1350.60730\n",
            "187/187 [==============================] - 1s 5ms/step - loss: 1170.6564 - mean_absolute_error: 1170.6564 - val_loss: 1369.4266 - val_mean_absolute_error: 1369.4266\n",
            "Epoch 138/300\n",
            "182/187 [============================>.] - ETA: 0s - loss: 1164.7079 - mean_absolute_error: 1164.7079\n",
            "Epoch 138: val_loss did not improve from 1350.60730\n",
            "187/187 [==============================] - 1s 5ms/step - loss: 1163.2150 - mean_absolute_error: 1163.2150 - val_loss: 1363.7524 - val_mean_absolute_error: 1363.7524\n",
            "Epoch 139/300\n",
            "181/187 [============================>.] - ETA: 0s - loss: 1180.9194 - mean_absolute_error: 1180.9194\n",
            "Epoch 139: val_loss did not improve from 1350.60730\n",
            "187/187 [==============================] - 1s 5ms/step - loss: 1187.0320 - mean_absolute_error: 1187.0320 - val_loss: 1359.7184 - val_mean_absolute_error: 1359.7184\n",
            "Epoch 140/300\n",
            "180/187 [===========================>..] - ETA: 0s - loss: 1171.7799 - mean_absolute_error: 1171.7799\n",
            "Epoch 140: val_loss did not improve from 1350.60730\n",
            "187/187 [==============================] - 1s 5ms/step - loss: 1171.2678 - mean_absolute_error: 1171.2678 - val_loss: 1372.6183 - val_mean_absolute_error: 1372.6183\n",
            "Epoch 141/300\n",
            "185/187 [============================>.] - ETA: 0s - loss: 1154.0840 - mean_absolute_error: 1154.0840\n",
            "Epoch 141: val_loss did not improve from 1350.60730\n",
            "187/187 [==============================] - 1s 5ms/step - loss: 1157.4208 - mean_absolute_error: 1157.4208 - val_loss: 1426.0178 - val_mean_absolute_error: 1426.0178\n",
            "Epoch 142/300\n",
            "186/187 [============================>.] - ETA: 0s - loss: 1174.3217 - mean_absolute_error: 1174.3217\n",
            "Epoch 142: val_loss did not improve from 1350.60730\n",
            "187/187 [==============================] - 1s 5ms/step - loss: 1177.8669 - mean_absolute_error: 1177.8669 - val_loss: 1361.4496 - val_mean_absolute_error: 1361.4496\n",
            "Epoch 143/300\n",
            "179/187 [===========================>..] - ETA: 0s - loss: 1166.5515 - mean_absolute_error: 1166.5515\n",
            "Epoch 143: val_loss did not improve from 1350.60730\n",
            "187/187 [==============================] - 1s 5ms/step - loss: 1166.9288 - mean_absolute_error: 1166.9288 - val_loss: 1381.1617 - val_mean_absolute_error: 1381.1617\n",
            "Epoch 144/300\n",
            "182/187 [============================>.] - ETA: 0s - loss: 1172.1494 - mean_absolute_error: 1172.1494\n",
            "Epoch 144: val_loss did not improve from 1350.60730\n",
            "187/187 [==============================] - 1s 5ms/step - loss: 1172.5779 - mean_absolute_error: 1172.5779 - val_loss: 1431.4756 - val_mean_absolute_error: 1431.4756\n",
            "Epoch 145/300\n",
            "176/187 [===========================>..] - ETA: 0s - loss: 1155.2988 - mean_absolute_error: 1155.2988\n",
            "Epoch 145: val_loss did not improve from 1350.60730\n",
            "187/187 [==============================] - 1s 5ms/step - loss: 1158.5347 - mean_absolute_error: 1158.5347 - val_loss: 1379.0468 - val_mean_absolute_error: 1379.0468\n",
            "Epoch 146/300\n",
            "184/187 [============================>.] - ETA: 0s - loss: 1161.5978 - mean_absolute_error: 1161.5978\n",
            "Epoch 146: val_loss did not improve from 1350.60730\n",
            "187/187 [==============================] - 1s 5ms/step - loss: 1162.3160 - mean_absolute_error: 1162.3160 - val_loss: 1416.2305 - val_mean_absolute_error: 1416.2305\n",
            "Epoch 147/300\n",
            "187/187 [==============================] - ETA: 0s - loss: 1153.0809 - mean_absolute_error: 1153.0809\n",
            "Epoch 147: val_loss did not improve from 1350.60730\n",
            "187/187 [==============================] - 1s 5ms/step - loss: 1153.0809 - mean_absolute_error: 1153.0809 - val_loss: 1385.0825 - val_mean_absolute_error: 1385.0825\n",
            "Epoch 148/300\n",
            "187/187 [==============================] - ETA: 0s - loss: 1182.3658 - mean_absolute_error: 1182.3658\n",
            "Epoch 148: val_loss did not improve from 1350.60730\n",
            "187/187 [==============================] - 1s 5ms/step - loss: 1182.3658 - mean_absolute_error: 1182.3658 - val_loss: 1590.8221 - val_mean_absolute_error: 1590.8221\n",
            "Epoch 149/300\n",
            "176/187 [===========================>..] - ETA: 0s - loss: 1162.3108 - mean_absolute_error: 1162.3108\n",
            "Epoch 149: val_loss did not improve from 1350.60730\n",
            "187/187 [==============================] - 1s 5ms/step - loss: 1160.9922 - mean_absolute_error: 1160.9922 - val_loss: 1406.5807 - val_mean_absolute_error: 1406.5807\n",
            "Epoch 150/300\n",
            "182/187 [============================>.] - ETA: 0s - loss: 1151.8522 - mean_absolute_error: 1151.8522\n",
            "Epoch 150: val_loss did not improve from 1350.60730\n",
            "187/187 [==============================] - 1s 5ms/step - loss: 1147.7059 - mean_absolute_error: 1147.7059 - val_loss: 1380.7435 - val_mean_absolute_error: 1380.7435\n",
            "Epoch 151/300\n",
            "187/187 [==============================] - ETA: 0s - loss: 1142.7443 - mean_absolute_error: 1142.7443\n",
            "Epoch 151: val_loss did not improve from 1350.60730\n",
            "187/187 [==============================] - 1s 5ms/step - loss: 1142.7443 - mean_absolute_error: 1142.7443 - val_loss: 1369.5013 - val_mean_absolute_error: 1369.5013\n",
            "Epoch 152/300\n",
            "180/187 [===========================>..] - ETA: 0s - loss: 1138.4309 - mean_absolute_error: 1138.4309\n",
            "Epoch 152: val_loss did not improve from 1350.60730\n",
            "187/187 [==============================] - 1s 5ms/step - loss: 1144.0411 - mean_absolute_error: 1144.0411 - val_loss: 1354.7697 - val_mean_absolute_error: 1354.7697\n",
            "Epoch 153/300\n",
            "187/187 [==============================] - ETA: 0s - loss: 1154.4922 - mean_absolute_error: 1154.4922\n",
            "Epoch 153: val_loss did not improve from 1350.60730\n",
            "187/187 [==============================] - 1s 5ms/step - loss: 1154.4922 - mean_absolute_error: 1154.4922 - val_loss: 1371.7355 - val_mean_absolute_error: 1371.7355\n",
            "Epoch 154/300\n",
            "183/187 [============================>.] - ETA: 0s - loss: 1124.4863 - mean_absolute_error: 1124.4863\n",
            "Epoch 154: val_loss improved from 1350.60730 to 1350.52209, saving model to Weights-154--1350.52209.hdf5\n",
            "187/187 [==============================] - 1s 6ms/step - loss: 1125.2976 - mean_absolute_error: 1125.2976 - val_loss: 1350.5221 - val_mean_absolute_error: 1350.5221\n",
            "Epoch 155/300\n",
            "185/187 [============================>.] - ETA: 0s - loss: 1155.1671 - mean_absolute_error: 1155.1671\n",
            "Epoch 155: val_loss did not improve from 1350.52209\n",
            "187/187 [==============================] - 1s 5ms/step - loss: 1154.2352 - mean_absolute_error: 1154.2352 - val_loss: 1358.9714 - val_mean_absolute_error: 1358.9714\n",
            "Epoch 156/300\n",
            "184/187 [============================>.] - ETA: 0s - loss: 1138.6813 - mean_absolute_error: 1138.6813\n",
            "Epoch 156: val_loss did not improve from 1350.52209\n",
            "187/187 [==============================] - 1s 5ms/step - loss: 1137.0209 - mean_absolute_error: 1137.0209 - val_loss: 1371.2803 - val_mean_absolute_error: 1371.2803\n",
            "Epoch 157/300\n",
            "183/187 [============================>.] - ETA: 0s - loss: 1135.3378 - mean_absolute_error: 1135.3378\n",
            "Epoch 157: val_loss did not improve from 1350.52209\n",
            "187/187 [==============================] - 1s 5ms/step - loss: 1129.8484 - mean_absolute_error: 1129.8484 - val_loss: 1447.0875 - val_mean_absolute_error: 1447.0875\n",
            "Epoch 158/300\n",
            "178/187 [===========================>..] - ETA: 0s - loss: 1141.8695 - mean_absolute_error: 1141.8695\n",
            "Epoch 158: val_loss did not improve from 1350.52209\n",
            "187/187 [==============================] - 1s 6ms/step - loss: 1138.4895 - mean_absolute_error: 1138.4895 - val_loss: 1539.0874 - val_mean_absolute_error: 1539.0874\n",
            "Epoch 159/300\n",
            "180/187 [===========================>..] - ETA: 0s - loss: 1140.7968 - mean_absolute_error: 1140.7968\n",
            "Epoch 159: val_loss did not improve from 1350.52209\n",
            "187/187 [==============================] - 1s 5ms/step - loss: 1142.0076 - mean_absolute_error: 1142.0076 - val_loss: 1359.4482 - val_mean_absolute_error: 1359.4482\n",
            "Epoch 160/300\n",
            "176/187 [===========================>..] - ETA: 0s - loss: 1135.9825 - mean_absolute_error: 1135.9825\n",
            "Epoch 160: val_loss did not improve from 1350.52209\n",
            "187/187 [==============================] - 1s 5ms/step - loss: 1133.5226 - mean_absolute_error: 1133.5226 - val_loss: 1363.4655 - val_mean_absolute_error: 1363.4655\n",
            "Epoch 161/300\n",
            "178/187 [===========================>..] - ETA: 0s - loss: 1135.5371 - mean_absolute_error: 1135.5371\n",
            "Epoch 161: val_loss did not improve from 1350.52209\n",
            "187/187 [==============================] - 1s 5ms/step - loss: 1137.8495 - mean_absolute_error: 1137.8495 - val_loss: 1376.1240 - val_mean_absolute_error: 1376.1240\n",
            "Epoch 162/300\n",
            "185/187 [============================>.] - ETA: 0s - loss: 1116.7125 - mean_absolute_error: 1116.7125\n",
            "Epoch 162: val_loss did not improve from 1350.52209\n",
            "187/187 [==============================] - 1s 5ms/step - loss: 1114.9155 - mean_absolute_error: 1114.9155 - val_loss: 1369.1523 - val_mean_absolute_error: 1369.1523\n",
            "Epoch 163/300\n",
            "185/187 [============================>.] - ETA: 0s - loss: 1144.0564 - mean_absolute_error: 1144.0564\n",
            "Epoch 163: val_loss improved from 1350.52209 to 1347.24561, saving model to Weights-163--1347.24561.hdf5\n",
            "187/187 [==============================] - 1s 5ms/step - loss: 1142.9033 - mean_absolute_error: 1142.9033 - val_loss: 1347.2456 - val_mean_absolute_error: 1347.2456\n",
            "Epoch 164/300\n",
            "176/187 [===========================>..] - ETA: 0s - loss: 1137.7284 - mean_absolute_error: 1137.7284\n",
            "Epoch 164: val_loss did not improve from 1347.24561\n",
            "187/187 [==============================] - 1s 5ms/step - loss: 1138.0499 - mean_absolute_error: 1138.0499 - val_loss: 1347.8389 - val_mean_absolute_error: 1347.8389\n",
            "Epoch 165/300\n",
            "184/187 [============================>.] - ETA: 0s - loss: 1118.4216 - mean_absolute_error: 1118.4216\n",
            "Epoch 165: val_loss did not improve from 1347.24561\n",
            "187/187 [==============================] - 1s 5ms/step - loss: 1119.2159 - mean_absolute_error: 1119.2159 - val_loss: 1400.0214 - val_mean_absolute_error: 1400.0214\n",
            "Epoch 166/300\n",
            "178/187 [===========================>..] - ETA: 0s - loss: 1142.6414 - mean_absolute_error: 1142.6414\n",
            "Epoch 166: val_loss did not improve from 1347.24561\n",
            "187/187 [==============================] - 1s 6ms/step - loss: 1142.7415 - mean_absolute_error: 1142.7415 - val_loss: 1365.9965 - val_mean_absolute_error: 1365.9965\n",
            "Epoch 167/300\n",
            "176/187 [===========================>..] - ETA: 0s - loss: 1124.5054 - mean_absolute_error: 1124.5054\n",
            "Epoch 167: val_loss did not improve from 1347.24561\n",
            "187/187 [==============================] - 1s 5ms/step - loss: 1117.1948 - mean_absolute_error: 1117.1948 - val_loss: 1370.6929 - val_mean_absolute_error: 1370.6929\n",
            "Epoch 168/300\n",
            "178/187 [===========================>..] - ETA: 0s - loss: 1106.9124 - mean_absolute_error: 1106.9124\n",
            "Epoch 168: val_loss did not improve from 1347.24561\n",
            "187/187 [==============================] - 1s 5ms/step - loss: 1107.9696 - mean_absolute_error: 1107.9696 - val_loss: 1351.1061 - val_mean_absolute_error: 1351.1061\n",
            "Epoch 169/300\n",
            "186/187 [============================>.] - ETA: 0s - loss: 1107.2151 - mean_absolute_error: 1107.2151\n",
            "Epoch 169: val_loss did not improve from 1347.24561\n",
            "187/187 [==============================] - 1s 5ms/step - loss: 1106.3813 - mean_absolute_error: 1106.3813 - val_loss: 1375.8931 - val_mean_absolute_error: 1375.8931\n",
            "Epoch 170/300\n",
            "187/187 [==============================] - ETA: 0s - loss: 1131.0504 - mean_absolute_error: 1131.0504\n",
            "Epoch 170: val_loss did not improve from 1347.24561\n",
            "187/187 [==============================] - 1s 5ms/step - loss: 1131.0504 - mean_absolute_error: 1131.0504 - val_loss: 1370.8507 - val_mean_absolute_error: 1370.8507\n",
            "Epoch 171/300\n",
            "178/187 [===========================>..] - ETA: 0s - loss: 1101.7955 - mean_absolute_error: 1101.7955\n",
            "Epoch 171: val_loss did not improve from 1347.24561\n",
            "187/187 [==============================] - 1s 5ms/step - loss: 1110.8198 - mean_absolute_error: 1110.8198 - val_loss: 1365.2634 - val_mean_absolute_error: 1365.2634\n",
            "Epoch 172/300\n",
            "185/187 [============================>.] - ETA: 0s - loss: 1099.7644 - mean_absolute_error: 1099.7644\n",
            "Epoch 172: val_loss improved from 1347.24561 to 1329.19995, saving model to Weights-172--1329.19995.hdf5\n",
            "187/187 [==============================] - 1s 5ms/step - loss: 1098.8971 - mean_absolute_error: 1098.8971 - val_loss: 1329.2000 - val_mean_absolute_error: 1329.2000\n",
            "Epoch 173/300\n",
            "185/187 [============================>.] - ETA: 0s - loss: 1098.6870 - mean_absolute_error: 1098.6870\n",
            "Epoch 173: val_loss did not improve from 1329.19995\n",
            "187/187 [==============================] - 1s 5ms/step - loss: 1098.6193 - mean_absolute_error: 1098.6193 - val_loss: 1366.4562 - val_mean_absolute_error: 1366.4562\n",
            "Epoch 174/300\n",
            "179/187 [===========================>..] - ETA: 0s - loss: 1119.2694 - mean_absolute_error: 1119.2694\n",
            "Epoch 174: val_loss did not improve from 1329.19995\n",
            "187/187 [==============================] - 1s 5ms/step - loss: 1117.4565 - mean_absolute_error: 1117.4565 - val_loss: 1405.6188 - val_mean_absolute_error: 1405.6188\n",
            "Epoch 175/300\n",
            "186/187 [============================>.] - ETA: 0s - loss: 1111.0529 - mean_absolute_error: 1111.0529\n",
            "Epoch 175: val_loss did not improve from 1329.19995\n",
            "187/187 [==============================] - 1s 5ms/step - loss: 1110.9871 - mean_absolute_error: 1110.9872 - val_loss: 1403.3778 - val_mean_absolute_error: 1403.3778\n",
            "Epoch 176/300\n",
            "185/187 [============================>.] - ETA: 0s - loss: 1115.9781 - mean_absolute_error: 1115.9781\n",
            "Epoch 176: val_loss did not improve from 1329.19995\n",
            "187/187 [==============================] - 1s 5ms/step - loss: 1117.5106 - mean_absolute_error: 1117.5106 - val_loss: 1500.4954 - val_mean_absolute_error: 1500.4954\n",
            "Epoch 177/300\n",
            "187/187 [==============================] - ETA: 0s - loss: 1090.4020 - mean_absolute_error: 1090.4020\n",
            "Epoch 177: val_loss did not improve from 1329.19995\n",
            "187/187 [==============================] - 1s 5ms/step - loss: 1090.4020 - mean_absolute_error: 1090.4020 - val_loss: 1449.7311 - val_mean_absolute_error: 1449.7311\n",
            "Epoch 178/300\n",
            "185/187 [============================>.] - ETA: 0s - loss: 1082.8868 - mean_absolute_error: 1082.8868\n",
            "Epoch 178: val_loss did not improve from 1329.19995\n",
            "187/187 [==============================] - 1s 5ms/step - loss: 1084.2452 - mean_absolute_error: 1084.2452 - val_loss: 1354.4305 - val_mean_absolute_error: 1354.4305\n",
            "Epoch 179/300\n",
            "187/187 [==============================] - ETA: 0s - loss: 1128.6532 - mean_absolute_error: 1128.6532\n",
            "Epoch 179: val_loss did not improve from 1329.19995\n",
            "187/187 [==============================] - 1s 6ms/step - loss: 1128.6532 - mean_absolute_error: 1128.6532 - val_loss: 1346.1536 - val_mean_absolute_error: 1346.1536\n",
            "Epoch 180/300\n",
            "183/187 [============================>.] - ETA: 0s - loss: 1095.8206 - mean_absolute_error: 1095.8206\n",
            "Epoch 180: val_loss did not improve from 1329.19995\n",
            "187/187 [==============================] - 1s 5ms/step - loss: 1094.2532 - mean_absolute_error: 1094.2532 - val_loss: 1377.6045 - val_mean_absolute_error: 1377.6045\n",
            "Epoch 181/300\n",
            "183/187 [============================>.] - ETA: 0s - loss: 1099.5372 - mean_absolute_error: 1099.5372\n",
            "Epoch 181: val_loss did not improve from 1329.19995\n",
            "187/187 [==============================] - 1s 5ms/step - loss: 1097.5748 - mean_absolute_error: 1097.5748 - val_loss: 1355.9990 - val_mean_absolute_error: 1355.9990\n",
            "Epoch 182/300\n",
            "187/187 [==============================] - ETA: 0s - loss: 1091.4561 - mean_absolute_error: 1091.4561\n",
            "Epoch 182: val_loss did not improve from 1329.19995\n",
            "187/187 [==============================] - 1s 5ms/step - loss: 1091.4561 - mean_absolute_error: 1091.4561 - val_loss: 1345.8561 - val_mean_absolute_error: 1345.8561\n",
            "Epoch 183/300\n",
            "179/187 [===========================>..] - ETA: 0s - loss: 1075.2134 - mean_absolute_error: 1075.2134\n",
            "Epoch 183: val_loss did not improve from 1329.19995\n",
            "187/187 [==============================] - 1s 5ms/step - loss: 1079.2200 - mean_absolute_error: 1079.2200 - val_loss: 1353.2051 - val_mean_absolute_error: 1353.2051\n",
            "Epoch 184/300\n",
            "181/187 [============================>.] - ETA: 0s - loss: 1089.7966 - mean_absolute_error: 1089.7966\n",
            "Epoch 184: val_loss did not improve from 1329.19995\n",
            "187/187 [==============================] - 1s 5ms/step - loss: 1093.9015 - mean_absolute_error: 1093.9015 - val_loss: 1362.8081 - val_mean_absolute_error: 1362.8081\n",
            "Epoch 185/300\n",
            "185/187 [============================>.] - ETA: 0s - loss: 1103.0677 - mean_absolute_error: 1103.0677\n",
            "Epoch 185: val_loss did not improve from 1329.19995\n",
            "187/187 [==============================] - 1s 5ms/step - loss: 1101.8616 - mean_absolute_error: 1101.8616 - val_loss: 1385.6595 - val_mean_absolute_error: 1385.6595\n",
            "Epoch 186/300\n",
            "184/187 [============================>.] - ETA: 0s - loss: 1079.5291 - mean_absolute_error: 1079.5291\n",
            "Epoch 186: val_loss did not improve from 1329.19995\n",
            "187/187 [==============================] - 1s 5ms/step - loss: 1079.7751 - mean_absolute_error: 1079.7751 - val_loss: 1341.4664 - val_mean_absolute_error: 1341.4664\n",
            "Epoch 187/300\n",
            "180/187 [===========================>..] - ETA: 0s - loss: 1076.0675 - mean_absolute_error: 1076.0675\n",
            "Epoch 187: val_loss did not improve from 1329.19995\n",
            "187/187 [==============================] - 1s 5ms/step - loss: 1082.1967 - mean_absolute_error: 1082.1967 - val_loss: 1364.9609 - val_mean_absolute_error: 1364.9609\n",
            "Epoch 188/300\n",
            "186/187 [============================>.] - ETA: 0s - loss: 1070.0424 - mean_absolute_error: 1070.0424\n",
            "Epoch 188: val_loss did not improve from 1329.19995\n",
            "187/187 [==============================] - 1s 5ms/step - loss: 1071.9141 - mean_absolute_error: 1071.9141 - val_loss: 1358.3472 - val_mean_absolute_error: 1358.3472\n",
            "Epoch 189/300\n",
            "187/187 [==============================] - ETA: 0s - loss: 1100.9698 - mean_absolute_error: 1100.9698\n",
            "Epoch 189: val_loss did not improve from 1329.19995\n",
            "187/187 [==============================] - 1s 6ms/step - loss: 1100.9698 - mean_absolute_error: 1100.9698 - val_loss: 1496.4901 - val_mean_absolute_error: 1496.4901\n",
            "Epoch 190/300\n",
            "175/187 [===========================>..] - ETA: 0s - loss: 1073.5966 - mean_absolute_error: 1073.5966\n",
            "Epoch 190: val_loss did not improve from 1329.19995\n",
            "187/187 [==============================] - 1s 5ms/step - loss: 1071.2469 - mean_absolute_error: 1071.2469 - val_loss: 1373.5348 - val_mean_absolute_error: 1373.5348\n",
            "Epoch 191/300\n",
            "177/187 [===========================>..] - ETA: 0s - loss: 1085.0155 - mean_absolute_error: 1085.0155\n",
            "Epoch 191: val_loss did not improve from 1329.19995\n",
            "187/187 [==============================] - 1s 5ms/step - loss: 1090.1620 - mean_absolute_error: 1090.1620 - val_loss: 1379.9857 - val_mean_absolute_error: 1379.9857\n",
            "Epoch 192/300\n",
            "187/187 [==============================] - ETA: 0s - loss: 1066.8879 - mean_absolute_error: 1066.8879\n",
            "Epoch 192: val_loss did not improve from 1329.19995\n",
            "187/187 [==============================] - 1s 5ms/step - loss: 1066.8879 - mean_absolute_error: 1066.8879 - val_loss: 1414.6709 - val_mean_absolute_error: 1414.6709\n",
            "Epoch 193/300\n",
            "181/187 [============================>.] - ETA: 0s - loss: 1077.5485 - mean_absolute_error: 1077.5485\n",
            "Epoch 193: val_loss did not improve from 1329.19995\n",
            "187/187 [==============================] - 1s 5ms/step - loss: 1076.5875 - mean_absolute_error: 1076.5875 - val_loss: 1392.6149 - val_mean_absolute_error: 1392.6149\n",
            "Epoch 194/300\n",
            "187/187 [==============================] - ETA: 0s - loss: 1073.6348 - mean_absolute_error: 1073.6348\n",
            "Epoch 194: val_loss did not improve from 1329.19995\n",
            "187/187 [==============================] - 1s 5ms/step - loss: 1073.6348 - mean_absolute_error: 1073.6348 - val_loss: 1369.8286 - val_mean_absolute_error: 1369.8286\n",
            "Epoch 195/300\n",
            "186/187 [============================>.] - ETA: 0s - loss: 1056.6266 - mean_absolute_error: 1056.6266\n",
            "Epoch 195: val_loss did not improve from 1329.19995\n",
            "187/187 [==============================] - 1s 5ms/step - loss: 1056.6415 - mean_absolute_error: 1056.6415 - val_loss: 1365.6675 - val_mean_absolute_error: 1365.6675\n",
            "Epoch 196/300\n",
            "184/187 [============================>.] - ETA: 0s - loss: 1069.1284 - mean_absolute_error: 1069.1284\n",
            "Epoch 196: val_loss did not improve from 1329.19995\n",
            "187/187 [==============================] - 1s 5ms/step - loss: 1070.0338 - mean_absolute_error: 1070.0338 - val_loss: 1342.9832 - val_mean_absolute_error: 1342.9832\n",
            "Epoch 197/300\n",
            "180/187 [===========================>..] - ETA: 0s - loss: 1081.6666 - mean_absolute_error: 1081.6666\n",
            "Epoch 197: val_loss did not improve from 1329.19995\n",
            "187/187 [==============================] - 1s 5ms/step - loss: 1075.0087 - mean_absolute_error: 1075.0087 - val_loss: 1361.1957 - val_mean_absolute_error: 1361.1957\n",
            "Epoch 198/300\n",
            "179/187 [===========================>..] - ETA: 0s - loss: 1060.6165 - mean_absolute_error: 1060.6165\n",
            "Epoch 198: val_loss did not improve from 1329.19995\n",
            "187/187 [==============================] - 1s 6ms/step - loss: 1059.9091 - mean_absolute_error: 1059.9091 - val_loss: 1365.1021 - val_mean_absolute_error: 1365.1021\n",
            "Epoch 199/300\n",
            "183/187 [============================>.] - ETA: 0s - loss: 1077.8314 - mean_absolute_error: 1077.8314\n",
            "Epoch 199: val_loss did not improve from 1329.19995\n",
            "187/187 [==============================] - 1s 5ms/step - loss: 1076.9581 - mean_absolute_error: 1076.9581 - val_loss: 1370.3514 - val_mean_absolute_error: 1370.3514\n",
            "Epoch 200/300\n",
            "182/187 [============================>.] - ETA: 0s - loss: 1047.8239 - mean_absolute_error: 1047.8239\n",
            "Epoch 200: val_loss did not improve from 1329.19995\n",
            "187/187 [==============================] - 1s 5ms/step - loss: 1052.0570 - mean_absolute_error: 1052.0570 - val_loss: 1441.2366 - val_mean_absolute_error: 1441.2366\n",
            "Epoch 201/300\n",
            "184/187 [============================>.] - ETA: 0s - loss: 1056.2262 - mean_absolute_error: 1056.2262\n",
            "Epoch 201: val_loss did not improve from 1329.19995\n",
            "187/187 [==============================] - 1s 5ms/step - loss: 1054.4705 - mean_absolute_error: 1054.4705 - val_loss: 1354.4984 - val_mean_absolute_error: 1354.4984\n",
            "Epoch 202/300\n",
            "184/187 [============================>.] - ETA: 0s - loss: 1069.6273 - mean_absolute_error: 1069.6273\n",
            "Epoch 202: val_loss did not improve from 1329.19995\n",
            "187/187 [==============================] - 1s 5ms/step - loss: 1070.9473 - mean_absolute_error: 1070.9473 - val_loss: 1384.6127 - val_mean_absolute_error: 1384.6127\n",
            "Epoch 203/300\n",
            "185/187 [============================>.] - ETA: 0s - loss: 1054.0524 - mean_absolute_error: 1054.0524\n",
            "Epoch 203: val_loss did not improve from 1329.19995\n",
            "187/187 [==============================] - 1s 5ms/step - loss: 1054.9486 - mean_absolute_error: 1054.9486 - val_loss: 1347.3169 - val_mean_absolute_error: 1347.3169\n",
            "Epoch 204/300\n",
            "185/187 [============================>.] - ETA: 0s - loss: 1038.4923 - mean_absolute_error: 1038.4923\n",
            "Epoch 204: val_loss did not improve from 1329.19995\n",
            "187/187 [==============================] - 1s 5ms/step - loss: 1039.3839 - mean_absolute_error: 1039.3839 - val_loss: 1366.2416 - val_mean_absolute_error: 1366.2416\n",
            "Epoch 205/300\n",
            "181/187 [============================>.] - ETA: 0s - loss: 1042.6036 - mean_absolute_error: 1042.6036\n",
            "Epoch 205: val_loss did not improve from 1329.19995\n",
            "187/187 [==============================] - 1s 5ms/step - loss: 1049.9236 - mean_absolute_error: 1049.9236 - val_loss: 1341.2355 - val_mean_absolute_error: 1341.2355\n",
            "Epoch 206/300\n",
            "180/187 [===========================>..] - ETA: 0s - loss: 1053.2057 - mean_absolute_error: 1053.2057\n",
            "Epoch 206: val_loss did not improve from 1329.19995\n",
            "187/187 [==============================] - 1s 6ms/step - loss: 1058.0769 - mean_absolute_error: 1058.0769 - val_loss: 1372.7482 - val_mean_absolute_error: 1372.7482\n",
            "Epoch 207/300\n",
            "177/187 [===========================>..] - ETA: 0s - loss: 1044.2313 - mean_absolute_error: 1044.2313\n",
            "Epoch 207: val_loss did not improve from 1329.19995\n",
            "187/187 [==============================] - 1s 5ms/step - loss: 1045.6141 - mean_absolute_error: 1045.6141 - val_loss: 1394.0339 - val_mean_absolute_error: 1394.0339\n",
            "Epoch 208/300\n",
            "182/187 [============================>.] - ETA: 0s - loss: 1053.9156 - mean_absolute_error: 1053.9156\n",
            "Epoch 208: val_loss improved from 1329.19995 to 1319.28699, saving model to Weights-208--1319.28699.hdf5\n",
            "187/187 [==============================] - 1s 5ms/step - loss: 1052.1699 - mean_absolute_error: 1052.1699 - val_loss: 1319.2870 - val_mean_absolute_error: 1319.2870\n",
            "Epoch 209/300\n",
            "180/187 [===========================>..] - ETA: 0s - loss: 1022.1680 - mean_absolute_error: 1022.1680\n",
            "Epoch 209: val_loss did not improve from 1319.28699\n",
            "187/187 [==============================] - 1s 6ms/step - loss: 1022.8326 - mean_absolute_error: 1022.8326 - val_loss: 1366.3690 - val_mean_absolute_error: 1366.3690\n",
            "Epoch 210/300\n",
            "183/187 [============================>.] - ETA: 0s - loss: 1043.2203 - mean_absolute_error: 1043.2203\n",
            "Epoch 210: val_loss did not improve from 1319.28699\n",
            "187/187 [==============================] - 1s 5ms/step - loss: 1042.8956 - mean_absolute_error: 1042.8956 - val_loss: 1396.4882 - val_mean_absolute_error: 1396.4882\n",
            "Epoch 211/300\n",
            "182/187 [============================>.] - ETA: 0s - loss: 1076.6642 - mean_absolute_error: 1076.6642\n",
            "Epoch 211: val_loss did not improve from 1319.28699\n",
            "187/187 [==============================] - 1s 5ms/step - loss: 1075.4038 - mean_absolute_error: 1075.4038 - val_loss: 1339.7438 - val_mean_absolute_error: 1339.7438\n",
            "Epoch 212/300\n",
            "181/187 [============================>.] - ETA: 0s - loss: 1035.4276 - mean_absolute_error: 1035.4276\n",
            "Epoch 212: val_loss did not improve from 1319.28699\n",
            "187/187 [==============================] - 1s 5ms/step - loss: 1035.8898 - mean_absolute_error: 1035.8898 - val_loss: 1404.6646 - val_mean_absolute_error: 1404.6646\n",
            "Epoch 213/300\n",
            "179/187 [===========================>..] - ETA: 0s - loss: 1052.9812 - mean_absolute_error: 1052.9812\n",
            "Epoch 213: val_loss did not improve from 1319.28699\n",
            "187/187 [==============================] - 1s 5ms/step - loss: 1053.3455 - mean_absolute_error: 1053.3455 - val_loss: 1359.6627 - val_mean_absolute_error: 1359.6627\n",
            "Epoch 214/300\n",
            "178/187 [===========================>..] - ETA: 0s - loss: 1063.4189 - mean_absolute_error: 1063.4189\n",
            "Epoch 214: val_loss did not improve from 1319.28699\n",
            "187/187 [==============================] - 1s 6ms/step - loss: 1059.2892 - mean_absolute_error: 1059.2892 - val_loss: 1321.0631 - val_mean_absolute_error: 1321.0631\n",
            "Epoch 215/300\n",
            "182/187 [============================>.] - ETA: 0s - loss: 1042.6918 - mean_absolute_error: 1042.6918\n",
            "Epoch 215: val_loss did not improve from 1319.28699\n",
            "187/187 [==============================] - 1s 5ms/step - loss: 1046.0708 - mean_absolute_error: 1046.0708 - val_loss: 1340.7286 - val_mean_absolute_error: 1340.7286\n",
            "Epoch 216/300\n",
            "179/187 [===========================>..] - ETA: 0s - loss: 1042.0951 - mean_absolute_error: 1042.0951\n",
            "Epoch 216: val_loss did not improve from 1319.28699\n",
            "187/187 [==============================] - 1s 6ms/step - loss: 1042.0132 - mean_absolute_error: 1042.0132 - val_loss: 1356.2496 - val_mean_absolute_error: 1356.2496\n",
            "Epoch 217/300\n",
            "184/187 [============================>.] - ETA: 0s - loss: 1040.6447 - mean_absolute_error: 1040.6447\n",
            "Epoch 217: val_loss did not improve from 1319.28699\n",
            "187/187 [==============================] - 1s 5ms/step - loss: 1040.3007 - mean_absolute_error: 1040.3007 - val_loss: 1364.4521 - val_mean_absolute_error: 1364.4521\n",
            "Epoch 218/300\n",
            "181/187 [============================>.] - ETA: 0s - loss: 1026.5381 - mean_absolute_error: 1026.5381\n",
            "Epoch 218: val_loss did not improve from 1319.28699\n",
            "187/187 [==============================] - 1s 5ms/step - loss: 1026.9248 - mean_absolute_error: 1026.9248 - val_loss: 1327.2255 - val_mean_absolute_error: 1327.2255\n",
            "Epoch 219/300\n",
            "186/187 [============================>.] - ETA: 0s - loss: 1026.9729 - mean_absolute_error: 1026.9729\n",
            "Epoch 219: val_loss did not improve from 1319.28699\n",
            "187/187 [==============================] - 1s 5ms/step - loss: 1026.5610 - mean_absolute_error: 1026.5610 - val_loss: 1332.3523 - val_mean_absolute_error: 1332.3523\n",
            "Epoch 220/300\n",
            "180/187 [===========================>..] - ETA: 0s - loss: 1029.2201 - mean_absolute_error: 1029.2201\n",
            "Epoch 220: val_loss did not improve from 1319.28699\n",
            "187/187 [==============================] - 1s 5ms/step - loss: 1026.8678 - mean_absolute_error: 1026.8678 - val_loss: 1413.9474 - val_mean_absolute_error: 1413.9474\n",
            "Epoch 221/300\n",
            "183/187 [============================>.] - ETA: 0s - loss: 1050.9342 - mean_absolute_error: 1050.9342\n",
            "Epoch 221: val_loss did not improve from 1319.28699\n",
            "187/187 [==============================] - 1s 5ms/step - loss: 1050.6547 - mean_absolute_error: 1050.6547 - val_loss: 1352.4678 - val_mean_absolute_error: 1352.4678\n",
            "Epoch 222/300\n",
            "182/187 [============================>.] - ETA: 0s - loss: 1048.7983 - mean_absolute_error: 1048.7983\n",
            "Epoch 222: val_loss did not improve from 1319.28699\n",
            "187/187 [==============================] - 1s 5ms/step - loss: 1052.0096 - mean_absolute_error: 1052.0096 - val_loss: 1342.1932 - val_mean_absolute_error: 1342.1932\n",
            "Epoch 223/300\n",
            "179/187 [===========================>..] - ETA: 0s - loss: 1009.3969 - mean_absolute_error: 1009.3969\n",
            "Epoch 223: val_loss did not improve from 1319.28699\n",
            "187/187 [==============================] - 1s 5ms/step - loss: 1014.5922 - mean_absolute_error: 1014.5922 - val_loss: 1400.9834 - val_mean_absolute_error: 1400.9834\n",
            "Epoch 224/300\n",
            "182/187 [============================>.] - ETA: 0s - loss: 1022.8001 - mean_absolute_error: 1022.8001\n",
            "Epoch 224: val_loss did not improve from 1319.28699\n",
            "187/187 [==============================] - 1s 6ms/step - loss: 1019.7248 - mean_absolute_error: 1019.7248 - val_loss: 1385.5001 - val_mean_absolute_error: 1385.5001\n",
            "Epoch 225/300\n",
            "182/187 [============================>.] - ETA: 0s - loss: 1024.7393 - mean_absolute_error: 1024.7393\n",
            "Epoch 225: val_loss did not improve from 1319.28699\n",
            "187/187 [==============================] - 1s 5ms/step - loss: 1031.8447 - mean_absolute_error: 1031.8447 - val_loss: 1343.8392 - val_mean_absolute_error: 1343.8392\n",
            "Epoch 226/300\n",
            "184/187 [============================>.] - ETA: 0s - loss: 1006.9943 - mean_absolute_error: 1006.9943\n",
            "Epoch 226: val_loss did not improve from 1319.28699\n",
            "187/187 [==============================] - 1s 5ms/step - loss: 1007.3749 - mean_absolute_error: 1007.3749 - val_loss: 1427.9247 - val_mean_absolute_error: 1427.9247\n",
            "Epoch 227/300\n",
            "177/187 [===========================>..] - ETA: 0s - loss: 1052.5151 - mean_absolute_error: 1052.5151\n",
            "Epoch 227: val_loss did not improve from 1319.28699\n",
            "187/187 [==============================] - 1s 6ms/step - loss: 1046.5532 - mean_absolute_error: 1046.5532 - val_loss: 1378.8589 - val_mean_absolute_error: 1378.8589\n",
            "Epoch 228/300\n",
            "187/187 [==============================] - ETA: 0s - loss: 1018.4868 - mean_absolute_error: 1018.4868\n",
            "Epoch 228: val_loss did not improve from 1319.28699\n",
            "187/187 [==============================] - 1s 5ms/step - loss: 1018.4868 - mean_absolute_error: 1018.4868 - val_loss: 1346.9102 - val_mean_absolute_error: 1346.9102\n",
            "Epoch 229/300\n",
            "179/187 [===========================>..] - ETA: 0s - loss: 1007.8702 - mean_absolute_error: 1007.8702\n",
            "Epoch 229: val_loss did not improve from 1319.28699\n",
            "187/187 [==============================] - 1s 5ms/step - loss: 1013.7964 - mean_absolute_error: 1013.7964 - val_loss: 1367.7069 - val_mean_absolute_error: 1367.7069\n",
            "Epoch 230/300\n",
            "183/187 [============================>.] - ETA: 0s - loss: 1034.9482 - mean_absolute_error: 1034.9482\n",
            "Epoch 230: val_loss did not improve from 1319.28699\n",
            "187/187 [==============================] - 1s 6ms/step - loss: 1038.2927 - mean_absolute_error: 1038.2927 - val_loss: 1394.7198 - val_mean_absolute_error: 1394.7198\n",
            "Epoch 231/300\n",
            "187/187 [==============================] - ETA: 0s - loss: 1025.8920 - mean_absolute_error: 1025.8920\n",
            "Epoch 231: val_loss did not improve from 1319.28699\n",
            "187/187 [==============================] - 1s 5ms/step - loss: 1025.8920 - mean_absolute_error: 1025.8920 - val_loss: 1333.5167 - val_mean_absolute_error: 1333.5167\n",
            "Epoch 232/300\n",
            "186/187 [============================>.] - ETA: 0s - loss: 1001.6520 - mean_absolute_error: 1001.6520\n",
            "Epoch 232: val_loss did not improve from 1319.28699\n",
            "187/187 [==============================] - 1s 6ms/step - loss: 1001.3107 - mean_absolute_error: 1001.3107 - val_loss: 1328.4224 - val_mean_absolute_error: 1328.4224\n",
            "Epoch 233/300\n",
            "177/187 [===========================>..] - ETA: 0s - loss: 1028.2601 - mean_absolute_error: 1028.2601\n",
            "Epoch 233: val_loss did not improve from 1319.28699\n",
            "187/187 [==============================] - 1s 5ms/step - loss: 1028.3212 - mean_absolute_error: 1028.3212 - val_loss: 1333.9329 - val_mean_absolute_error: 1333.9329\n",
            "Epoch 234/300\n",
            "178/187 [===========================>..] - ETA: 0s - loss: 1006.4960 - mean_absolute_error: 1006.4960\n",
            "Epoch 234: val_loss did not improve from 1319.28699\n",
            "187/187 [==============================] - 1s 6ms/step - loss: 1010.3576 - mean_absolute_error: 1010.3576 - val_loss: 1345.0936 - val_mean_absolute_error: 1345.0936\n",
            "Epoch 235/300\n",
            "183/187 [============================>.] - ETA: 0s - loss: 1014.0462 - mean_absolute_error: 1014.0462\n",
            "Epoch 235: val_loss did not improve from 1319.28699\n",
            "187/187 [==============================] - 1s 5ms/step - loss: 1013.0706 - mean_absolute_error: 1013.0706 - val_loss: 1333.1035 - val_mean_absolute_error: 1333.1035\n",
            "Epoch 236/300\n",
            "183/187 [============================>.] - ETA: 0s - loss: 1013.6155 - mean_absolute_error: 1013.6155\n",
            "Epoch 236: val_loss did not improve from 1319.28699\n",
            "187/187 [==============================] - 1s 5ms/step - loss: 1013.8901 - mean_absolute_error: 1013.8901 - val_loss: 1345.5787 - val_mean_absolute_error: 1345.5787\n",
            "Epoch 237/300\n",
            "179/187 [===========================>..] - ETA: 0s - loss: 993.5012 - mean_absolute_error: 993.5012\n",
            "Epoch 237: val_loss did not improve from 1319.28699\n",
            "187/187 [==============================] - 1s 5ms/step - loss: 996.5184 - mean_absolute_error: 996.5184 - val_loss: 1376.4857 - val_mean_absolute_error: 1376.4857\n",
            "Epoch 238/300\n",
            "179/187 [===========================>..] - ETA: 0s - loss: 1003.5400 - mean_absolute_error: 1003.5400\n",
            "Epoch 238: val_loss did not improve from 1319.28699\n",
            "187/187 [==============================] - 1s 6ms/step - loss: 1005.6696 - mean_absolute_error: 1005.6696 - val_loss: 1332.6633 - val_mean_absolute_error: 1332.6633\n",
            "Epoch 239/300\n",
            "175/187 [===========================>..] - ETA: 0s - loss: 1011.2859 - mean_absolute_error: 1011.2859\n",
            "Epoch 239: val_loss did not improve from 1319.28699\n",
            "187/187 [==============================] - 1s 6ms/step - loss: 1012.3168 - mean_absolute_error: 1012.3168 - val_loss: 1349.2266 - val_mean_absolute_error: 1349.2266\n",
            "Epoch 240/300\n",
            "177/187 [===========================>..] - ETA: 0s - loss: 1001.3010 - mean_absolute_error: 1001.3010\n",
            "Epoch 240: val_loss improved from 1319.28699 to 1319.07520, saving model to Weights-240--1319.07520.hdf5\n",
            "187/187 [==============================] - 1s 6ms/step - loss: 1003.4400 - mean_absolute_error: 1003.4400 - val_loss: 1319.0752 - val_mean_absolute_error: 1319.0752\n",
            "Epoch 241/300\n",
            "181/187 [============================>.] - ETA: 0s - loss: 1009.5391 - mean_absolute_error: 1009.5391\n",
            "Epoch 241: val_loss did not improve from 1319.07520\n",
            "187/187 [==============================] - 1s 5ms/step - loss: 1007.5903 - mean_absolute_error: 1007.5903 - val_loss: 1353.9707 - val_mean_absolute_error: 1353.9707\n",
            "Epoch 242/300\n",
            "184/187 [============================>.] - ETA: 0s - loss: 994.0425 - mean_absolute_error: 994.0425\n",
            "Epoch 242: val_loss did not improve from 1319.07520\n",
            "187/187 [==============================] - 1s 5ms/step - loss: 995.6653 - mean_absolute_error: 995.6653 - val_loss: 1381.2557 - val_mean_absolute_error: 1381.2557\n",
            "Epoch 243/300\n",
            "183/187 [============================>.] - ETA: 0s - loss: 984.1751 - mean_absolute_error: 984.1751\n",
            "Epoch 243: val_loss did not improve from 1319.07520\n",
            "187/187 [==============================] - 1s 6ms/step - loss: 986.8849 - mean_absolute_error: 986.8849 - val_loss: 1372.9507 - val_mean_absolute_error: 1372.9507\n",
            "Epoch 244/300\n",
            "185/187 [============================>.] - ETA: 0s - loss: 985.6208 - mean_absolute_error: 985.6208\n",
            "Epoch 244: val_loss did not improve from 1319.07520\n",
            "187/187 [==============================] - 1s 5ms/step - loss: 988.6864 - mean_absolute_error: 988.6864 - val_loss: 1398.2548 - val_mean_absolute_error: 1398.2548\n",
            "Epoch 245/300\n",
            "186/187 [============================>.] - ETA: 0s - loss: 990.7413 - mean_absolute_error: 990.7413\n",
            "Epoch 245: val_loss did not improve from 1319.07520\n",
            "187/187 [==============================] - 1s 6ms/step - loss: 991.1871 - mean_absolute_error: 991.1871 - val_loss: 1350.5720 - val_mean_absolute_error: 1350.5720\n",
            "Epoch 246/300\n",
            "183/187 [============================>.] - ETA: 0s - loss: 998.4772 - mean_absolute_error: 998.4772\n",
            "Epoch 246: val_loss did not improve from 1319.07520\n",
            "187/187 [==============================] - 1s 5ms/step - loss: 1000.0601 - mean_absolute_error: 1000.0601 - val_loss: 1343.5480 - val_mean_absolute_error: 1343.5480\n",
            "Epoch 247/300\n",
            "177/187 [===========================>..] - ETA: 0s - loss: 1026.0343 - mean_absolute_error: 1026.0343\n",
            "Epoch 247: val_loss did not improve from 1319.07520\n",
            "187/187 [==============================] - 1s 5ms/step - loss: 1018.6785 - mean_absolute_error: 1018.6785 - val_loss: 1352.1425 - val_mean_absolute_error: 1352.1425\n",
            "Epoch 248/300\n",
            "182/187 [============================>.] - ETA: 0s - loss: 999.6507 - mean_absolute_error: 999.6507  \n",
            "Epoch 248: val_loss did not improve from 1319.07520\n",
            "187/187 [==============================] - 1s 6ms/step - loss: 999.0081 - mean_absolute_error: 999.0081 - val_loss: 1343.2263 - val_mean_absolute_error: 1343.2263\n",
            "Epoch 249/300\n",
            "181/187 [============================>.] - ETA: 0s - loss: 992.2656 - mean_absolute_error: 992.2656\n",
            "Epoch 249: val_loss did not improve from 1319.07520\n",
            "187/187 [==============================] - 1s 5ms/step - loss: 1003.7913 - mean_absolute_error: 1003.7913 - val_loss: 1354.0688 - val_mean_absolute_error: 1354.0688\n",
            "Epoch 250/300\n",
            "186/187 [============================>.] - ETA: 0s - loss: 1001.5130 - mean_absolute_error: 1001.5130\n",
            "Epoch 250: val_loss did not improve from 1319.07520\n",
            "187/187 [==============================] - 1s 5ms/step - loss: 1001.9516 - mean_absolute_error: 1001.9516 - val_loss: 1333.9926 - val_mean_absolute_error: 1333.9926\n",
            "Epoch 251/300\n",
            "182/187 [============================>.] - ETA: 0s - loss: 996.1358 - mean_absolute_error: 996.1358\n",
            "Epoch 251: val_loss did not improve from 1319.07520\n",
            "187/187 [==============================] - 1s 5ms/step - loss: 996.7122 - mean_absolute_error: 996.7122 - val_loss: 1327.5651 - val_mean_absolute_error: 1327.5651\n",
            "Epoch 252/300\n",
            "184/187 [============================>.] - ETA: 0s - loss: 991.0172 - mean_absolute_error: 991.0172\n",
            "Epoch 252: val_loss did not improve from 1319.07520\n",
            "187/187 [==============================] - 1s 5ms/step - loss: 991.2474 - mean_absolute_error: 991.2474 - val_loss: 1352.8894 - val_mean_absolute_error: 1352.8894\n",
            "Epoch 253/300\n",
            "183/187 [============================>.] - ETA: 0s - loss: 990.7779 - mean_absolute_error: 990.7779\n",
            "Epoch 253: val_loss did not improve from 1319.07520\n",
            "187/187 [==============================] - 1s 5ms/step - loss: 991.9278 - mean_absolute_error: 991.9278 - val_loss: 1490.3837 - val_mean_absolute_error: 1490.3837\n",
            "Epoch 254/300\n",
            "187/187 [==============================] - ETA: 0s - loss: 977.7325 - mean_absolute_error: 977.7325\n",
            "Epoch 254: val_loss did not improve from 1319.07520\n",
            "187/187 [==============================] - 1s 5ms/step - loss: 977.7325 - mean_absolute_error: 977.7325 - val_loss: 1381.3878 - val_mean_absolute_error: 1381.3878\n",
            "Epoch 255/300\n",
            "182/187 [============================>.] - ETA: 0s - loss: 987.7021 - mean_absolute_error: 987.7021\n",
            "Epoch 255: val_loss did not improve from 1319.07520\n",
            "187/187 [==============================] - 1s 5ms/step - loss: 990.8334 - mean_absolute_error: 990.8334 - val_loss: 1330.1772 - val_mean_absolute_error: 1330.1772\n",
            "Epoch 256/300\n",
            "182/187 [============================>.] - ETA: 0s - loss: 974.9927 - mean_absolute_error: 974.9927\n",
            "Epoch 256: val_loss did not improve from 1319.07520\n",
            "187/187 [==============================] - 1s 5ms/step - loss: 978.0956 - mean_absolute_error: 978.0956 - val_loss: 1364.4607 - val_mean_absolute_error: 1364.4607\n",
            "Epoch 257/300\n",
            "180/187 [===========================>..] - ETA: 0s - loss: 972.6735 - mean_absolute_error: 972.6735\n",
            "Epoch 257: val_loss did not improve from 1319.07520\n",
            "187/187 [==============================] - 1s 6ms/step - loss: 978.9572 - mean_absolute_error: 978.9572 - val_loss: 1377.3408 - val_mean_absolute_error: 1377.3408\n",
            "Epoch 258/300\n",
            "182/187 [============================>.] - ETA: 0s - loss: 981.3585 - mean_absolute_error: 981.3585\n",
            "Epoch 258: val_loss did not improve from 1319.07520\n",
            "187/187 [==============================] - 1s 5ms/step - loss: 983.7017 - mean_absolute_error: 983.7017 - val_loss: 1339.8153 - val_mean_absolute_error: 1339.8153\n",
            "Epoch 259/300\n",
            "186/187 [============================>.] - ETA: 0s - loss: 1000.4953 - mean_absolute_error: 1000.4953\n",
            "Epoch 259: val_loss did not improve from 1319.07520\n",
            "187/187 [==============================] - 1s 6ms/step - loss: 1001.8465 - mean_absolute_error: 1001.8465 - val_loss: 1329.9153 - val_mean_absolute_error: 1329.9153\n",
            "Epoch 260/300\n",
            "179/187 [===========================>..] - ETA: 0s - loss: 983.6879 - mean_absolute_error: 983.6879\n",
            "Epoch 260: val_loss did not improve from 1319.07520\n",
            "187/187 [==============================] - 1s 5ms/step - loss: 983.4826 - mean_absolute_error: 983.4826 - val_loss: 1374.0480 - val_mean_absolute_error: 1374.0480\n",
            "Epoch 261/300\n",
            "186/187 [============================>.] - ETA: 0s - loss: 983.1030 - mean_absolute_error: 983.1030\n",
            "Epoch 261: val_loss did not improve from 1319.07520\n",
            "187/187 [==============================] - 1s 6ms/step - loss: 982.0231 - mean_absolute_error: 982.0231 - val_loss: 1351.1093 - val_mean_absolute_error: 1351.1093\n",
            "Epoch 262/300\n",
            "184/187 [============================>.] - ETA: 0s - loss: 970.9458 - mean_absolute_error: 970.9458\n",
            "Epoch 262: val_loss did not improve from 1319.07520\n",
            "187/187 [==============================] - 1s 5ms/step - loss: 970.7614 - mean_absolute_error: 970.7614 - val_loss: 1333.4791 - val_mean_absolute_error: 1333.4791\n",
            "Epoch 263/300\n",
            "183/187 [============================>.] - ETA: 0s - loss: 969.1327 - mean_absolute_error: 969.1327\n",
            "Epoch 263: val_loss did not improve from 1319.07520\n",
            "187/187 [==============================] - 1s 5ms/step - loss: 967.4304 - mean_absolute_error: 967.4304 - val_loss: 1382.8425 - val_mean_absolute_error: 1382.8425\n",
            "Epoch 264/300\n",
            "186/187 [============================>.] - ETA: 0s - loss: 983.5403 - mean_absolute_error: 983.5403\n",
            "Epoch 264: val_loss did not improve from 1319.07520\n",
            "187/187 [==============================] - 1s 6ms/step - loss: 981.7648 - mean_absolute_error: 981.7648 - val_loss: 1325.5864 - val_mean_absolute_error: 1325.5864\n",
            "Epoch 265/300\n",
            "181/187 [============================>.] - ETA: 0s - loss: 963.1833 - mean_absolute_error: 963.1833\n",
            "Epoch 265: val_loss did not improve from 1319.07520\n",
            "187/187 [==============================] - 1s 6ms/step - loss: 963.0372 - mean_absolute_error: 963.0372 - val_loss: 1341.2393 - val_mean_absolute_error: 1341.2393\n",
            "Epoch 266/300\n",
            "180/187 [===========================>..] - ETA: 0s - loss: 979.0835 - mean_absolute_error: 979.0835\n",
            "Epoch 266: val_loss did not improve from 1319.07520\n",
            "187/187 [==============================] - 1s 5ms/step - loss: 975.5535 - mean_absolute_error: 975.5535 - val_loss: 1341.6957 - val_mean_absolute_error: 1341.6957\n",
            "Epoch 267/300\n",
            "179/187 [===========================>..] - ETA: 0s - loss: 961.3329 - mean_absolute_error: 961.3329\n",
            "Epoch 267: val_loss did not improve from 1319.07520\n",
            "187/187 [==============================] - 1s 6ms/step - loss: 958.5757 - mean_absolute_error: 958.5757 - val_loss: 1330.2369 - val_mean_absolute_error: 1330.2369\n",
            "Epoch 268/300\n",
            "184/187 [============================>.] - ETA: 0s - loss: 958.1856 - mean_absolute_error: 958.1856\n",
            "Epoch 268: val_loss did not improve from 1319.07520\n",
            "187/187 [==============================] - 1s 6ms/step - loss: 960.3544 - mean_absolute_error: 960.3544 - val_loss: 1344.7972 - val_mean_absolute_error: 1344.7972\n",
            "Epoch 269/300\n",
            "182/187 [============================>.] - ETA: 0s - loss: 972.3245 - mean_absolute_error: 972.3245\n",
            "Epoch 269: val_loss did not improve from 1319.07520\n",
            "187/187 [==============================] - 1s 5ms/step - loss: 972.7589 - mean_absolute_error: 972.7589 - val_loss: 1325.2802 - val_mean_absolute_error: 1325.2802\n",
            "Epoch 270/300\n",
            "182/187 [============================>.] - ETA: 0s - loss: 952.8488 - mean_absolute_error: 952.8488\n",
            "Epoch 270: val_loss did not improve from 1319.07520\n",
            "187/187 [==============================] - 1s 5ms/step - loss: 954.6196 - mean_absolute_error: 954.6196 - val_loss: 1351.3824 - val_mean_absolute_error: 1351.3824\n",
            "Epoch 271/300\n",
            "181/187 [============================>.] - ETA: 0s - loss: 973.2937 - mean_absolute_error: 973.2937\n",
            "Epoch 271: val_loss did not improve from 1319.07520\n",
            "187/187 [==============================] - 1s 6ms/step - loss: 971.2114 - mean_absolute_error: 971.2114 - val_loss: 1327.4685 - val_mean_absolute_error: 1327.4685\n",
            "Epoch 272/300\n",
            "187/187 [==============================] - ETA: 0s - loss: 955.0571 - mean_absolute_error: 955.0571\n",
            "Epoch 272: val_loss did not improve from 1319.07520\n",
            "187/187 [==============================] - 1s 6ms/step - loss: 955.0571 - mean_absolute_error: 955.0571 - val_loss: 1367.9666 - val_mean_absolute_error: 1367.9666\n",
            "Epoch 273/300\n",
            "186/187 [============================>.] - ETA: 0s - loss: 959.1505 - mean_absolute_error: 959.1505\n",
            "Epoch 273: val_loss did not improve from 1319.07520\n",
            "187/187 [==============================] - 1s 5ms/step - loss: 957.9616 - mean_absolute_error: 957.9616 - val_loss: 1373.0315 - val_mean_absolute_error: 1373.0315\n",
            "Epoch 274/300\n",
            "179/187 [===========================>..] - ETA: 0s - loss: 983.2047 - mean_absolute_error: 983.2047\n",
            "Epoch 274: val_loss did not improve from 1319.07520\n",
            "187/187 [==============================] - 1s 6ms/step - loss: 980.4236 - mean_absolute_error: 980.4236 - val_loss: 1341.1024 - val_mean_absolute_error: 1341.1024\n",
            "Epoch 275/300\n",
            "178/187 [===========================>..] - ETA: 0s - loss: 959.7829 - mean_absolute_error: 959.7829\n",
            "Epoch 275: val_loss did not improve from 1319.07520\n",
            "187/187 [==============================] - 1s 6ms/step - loss: 969.3981 - mean_absolute_error: 969.3981 - val_loss: 1328.9524 - val_mean_absolute_error: 1328.9524\n",
            "Epoch 276/300\n",
            "184/187 [============================>.] - ETA: 0s - loss: 959.5753 - mean_absolute_error: 959.5753\n",
            "Epoch 276: val_loss did not improve from 1319.07520\n",
            "187/187 [==============================] - 1s 6ms/step - loss: 958.9166 - mean_absolute_error: 958.9166 - val_loss: 1364.4337 - val_mean_absolute_error: 1364.4337\n",
            "Epoch 277/300\n",
            "185/187 [============================>.] - ETA: 0s - loss: 941.3345 - mean_absolute_error: 941.3345\n",
            "Epoch 277: val_loss did not improve from 1319.07520\n",
            "187/187 [==============================] - 1s 6ms/step - loss: 942.8457 - mean_absolute_error: 942.8457 - val_loss: 1365.7625 - val_mean_absolute_error: 1365.7625\n",
            "Epoch 278/300\n",
            "179/187 [===========================>..] - ETA: 0s - loss: 957.2297 - mean_absolute_error: 957.2297\n",
            "Epoch 278: val_loss did not improve from 1319.07520\n",
            "187/187 [==============================] - 1s 6ms/step - loss: 954.0751 - mean_absolute_error: 954.0751 - val_loss: 1330.3167 - val_mean_absolute_error: 1330.3167\n",
            "Epoch 279/300\n",
            "187/187 [==============================] - ETA: 0s - loss: 955.2924 - mean_absolute_error: 955.2924\n",
            "Epoch 279: val_loss did not improve from 1319.07520\n",
            "187/187 [==============================] - 1s 6ms/step - loss: 955.2924 - mean_absolute_error: 955.2924 - val_loss: 1324.8566 - val_mean_absolute_error: 1324.8566\n",
            "Epoch 280/300\n",
            "185/187 [============================>.] - ETA: 0s - loss: 957.7819 - mean_absolute_error: 957.7819\n",
            "Epoch 280: val_loss did not improve from 1319.07520\n",
            "187/187 [==============================] - 1s 6ms/step - loss: 961.9402 - mean_absolute_error: 961.9402 - val_loss: 1341.9292 - val_mean_absolute_error: 1341.9292\n",
            "Epoch 281/300\n",
            "178/187 [===========================>..] - ETA: 0s - loss: 940.9495 - mean_absolute_error: 940.9495\n",
            "Epoch 281: val_loss did not improve from 1319.07520\n",
            "187/187 [==============================] - 1s 6ms/step - loss: 946.0968 - mean_absolute_error: 946.0968 - val_loss: 1432.9573 - val_mean_absolute_error: 1432.9573\n",
            "Epoch 282/300\n",
            "182/187 [============================>.] - ETA: 0s - loss: 966.4922 - mean_absolute_error: 966.4922\n",
            "Epoch 282: val_loss did not improve from 1319.07520\n",
            "187/187 [==============================] - 1s 6ms/step - loss: 967.3511 - mean_absolute_error: 967.3511 - val_loss: 1371.6462 - val_mean_absolute_error: 1371.6462\n",
            "Epoch 283/300\n",
            "184/187 [============================>.] - ETA: 0s - loss: 956.6478 - mean_absolute_error: 956.6478\n",
            "Epoch 283: val_loss did not improve from 1319.07520\n",
            "187/187 [==============================] - 1s 5ms/step - loss: 961.0984 - mean_absolute_error: 961.0984 - val_loss: 1400.9705 - val_mean_absolute_error: 1400.9705\n",
            "Epoch 284/300\n",
            "185/187 [============================>.] - ETA: 0s - loss: 967.8634 - mean_absolute_error: 967.8634\n",
            "Epoch 284: val_loss did not improve from 1319.07520\n",
            "187/187 [==============================] - 1s 6ms/step - loss: 968.5434 - mean_absolute_error: 968.5434 - val_loss: 1346.5515 - val_mean_absolute_error: 1346.5515\n",
            "Epoch 285/300\n",
            "181/187 [============================>.] - ETA: 0s - loss: 949.9733 - mean_absolute_error: 949.9733\n",
            "Epoch 285: val_loss did not improve from 1319.07520\n",
            "187/187 [==============================] - 1s 6ms/step - loss: 947.2075 - mean_absolute_error: 947.2075 - val_loss: 1338.8002 - val_mean_absolute_error: 1338.8002\n",
            "Epoch 286/300\n",
            "185/187 [============================>.] - ETA: 0s - loss: 958.9131 - mean_absolute_error: 958.9131\n",
            "Epoch 286: val_loss did not improve from 1319.07520\n",
            "187/187 [==============================] - 1s 6ms/step - loss: 957.1327 - mean_absolute_error: 957.1327 - val_loss: 1336.4824 - val_mean_absolute_error: 1336.4824\n",
            "Epoch 287/300\n",
            "179/187 [===========================>..] - ETA: 0s - loss: 947.5920 - mean_absolute_error: 947.5920\n",
            "Epoch 287: val_loss did not improve from 1319.07520\n",
            "187/187 [==============================] - 1s 6ms/step - loss: 946.6088 - mean_absolute_error: 946.6088 - val_loss: 1374.5393 - val_mean_absolute_error: 1374.5393\n",
            "Epoch 288/300\n",
            "183/187 [============================>.] - ETA: 0s - loss: 946.7108 - mean_absolute_error: 946.7108\n",
            "Epoch 288: val_loss did not improve from 1319.07520\n",
            "187/187 [==============================] - 1s 5ms/step - loss: 949.8253 - mean_absolute_error: 949.8253 - val_loss: 1331.7084 - val_mean_absolute_error: 1331.7084\n",
            "Epoch 289/300\n",
            "185/187 [============================>.] - ETA: 0s - loss: 937.6222 - mean_absolute_error: 937.6222\n",
            "Epoch 289: val_loss did not improve from 1319.07520\n",
            "187/187 [==============================] - 1s 5ms/step - loss: 937.8209 - mean_absolute_error: 937.8209 - val_loss: 1338.1476 - val_mean_absolute_error: 1338.1476\n",
            "Epoch 290/300\n",
            "179/187 [===========================>..] - ETA: 0s - loss: 938.2455 - mean_absolute_error: 938.2455\n",
            "Epoch 290: val_loss did not improve from 1319.07520\n",
            "187/187 [==============================] - 1s 5ms/step - loss: 936.8712 - mean_absolute_error: 936.8712 - val_loss: 1402.7966 - val_mean_absolute_error: 1402.7966\n",
            "Epoch 291/300\n",
            "178/187 [===========================>..] - ETA: 0s - loss: 951.5413 - mean_absolute_error: 951.5413\n",
            "Epoch 291: val_loss improved from 1319.07520 to 1315.33667, saving model to Weights-291--1315.33667.hdf5\n",
            "187/187 [==============================] - 1s 6ms/step - loss: 950.4823 - mean_absolute_error: 950.4823 - val_loss: 1315.3367 - val_mean_absolute_error: 1315.3367\n",
            "Epoch 292/300\n",
            "186/187 [============================>.] - ETA: 0s - loss: 946.9016 - mean_absolute_error: 946.9016\n",
            "Epoch 292: val_loss did not improve from 1315.33667\n",
            "187/187 [==============================] - 1s 6ms/step - loss: 946.1807 - mean_absolute_error: 946.1807 - val_loss: 1350.7806 - val_mean_absolute_error: 1350.7806\n",
            "Epoch 293/300\n",
            "179/187 [===========================>..] - ETA: 0s - loss: 939.0648 - mean_absolute_error: 939.0648\n",
            "Epoch 293: val_loss did not improve from 1315.33667\n",
            "187/187 [==============================] - 1s 6ms/step - loss: 934.7323 - mean_absolute_error: 934.7323 - val_loss: 1350.2594 - val_mean_absolute_error: 1350.2594\n",
            "Epoch 294/300\n",
            "187/187 [==============================] - ETA: 0s - loss: 936.7639 - mean_absolute_error: 936.7639\n",
            "Epoch 294: val_loss did not improve from 1315.33667\n",
            "187/187 [==============================] - 1s 5ms/step - loss: 936.7639 - mean_absolute_error: 936.7639 - val_loss: 1330.6625 - val_mean_absolute_error: 1330.6625\n",
            "Epoch 295/300\n",
            "178/187 [===========================>..] - ETA: 0s - loss: 930.3356 - mean_absolute_error: 930.3356\n",
            "Epoch 295: val_loss did not improve from 1315.33667\n",
            "187/187 [==============================] - 1s 6ms/step - loss: 931.1250 - mean_absolute_error: 931.1250 - val_loss: 1351.7085 - val_mean_absolute_error: 1351.7085\n",
            "Epoch 296/300\n",
            "185/187 [============================>.] - ETA: 0s - loss: 937.1049 - mean_absolute_error: 937.1049\n",
            "Epoch 296: val_loss did not improve from 1315.33667\n",
            "187/187 [==============================] - 1s 6ms/step - loss: 935.9388 - mean_absolute_error: 935.9388 - val_loss: 1321.1169 - val_mean_absolute_error: 1321.1169\n",
            "Epoch 297/300\n",
            "185/187 [============================>.] - ETA: 0s - loss: 955.2874 - mean_absolute_error: 955.2874\n",
            "Epoch 297: val_loss did not improve from 1315.33667\n",
            "187/187 [==============================] - 1s 5ms/step - loss: 954.2392 - mean_absolute_error: 954.2392 - val_loss: 1338.2401 - val_mean_absolute_error: 1338.2401\n",
            "Epoch 298/300\n",
            "186/187 [============================>.] - ETA: 0s - loss: 940.0518 - mean_absolute_error: 940.0518\n",
            "Epoch 298: val_loss did not improve from 1315.33667\n",
            "187/187 [==============================] - 1s 6ms/step - loss: 941.3512 - mean_absolute_error: 941.3512 - val_loss: 1380.7351 - val_mean_absolute_error: 1380.7351\n",
            "Epoch 299/300\n",
            "179/187 [===========================>..] - ETA: 0s - loss: 932.2164 - mean_absolute_error: 932.2164\n",
            "Epoch 299: val_loss did not improve from 1315.33667\n",
            "187/187 [==============================] - 1s 5ms/step - loss: 930.6525 - mean_absolute_error: 930.6525 - val_loss: 1337.6823 - val_mean_absolute_error: 1337.6823\n",
            "Epoch 300/300\n",
            "180/187 [===========================>..] - ETA: 0s - loss: 939.0590 - mean_absolute_error: 939.0590\n",
            "Epoch 300: val_loss did not improve from 1315.33667\n",
            "187/187 [==============================] - 1s 5ms/step - loss: 935.3295 - mean_absolute_error: 935.3295 - val_loss: 1357.3761 - val_mean_absolute_error: 1357.3761\n"
          ]
        },
        {
          "output_type": "execute_result",
          "data": {
            "text/plain": [
              "<keras.callbacks.History at 0x7fac92d78450>"
            ]
          },
          "metadata": {},
          "execution_count": 36
        }
      ]
    },
    {
      "cell_type": "code",
      "source": [
        "NN_y_pred = NN_model.predict(X_test)"
      ],
      "metadata": {
        "id": "dqBfaeXybUp7"
      },
      "execution_count": null,
      "outputs": []
    },
    {
      "cell_type": "code",
      "source": [
        "print('NN MAE:', metrics.mean_absolute_error(y_test,NN_y_pred))\n",
        "print('NN MSE:', metrics.mean_squared_error(y_test, NN_y_pred))\n",
        "print('NN RMSE:', np.sqrt(metrics.mean_squared_error(y_test, NN_y_pred)))"
      ],
      "metadata": {
        "colab": {
          "base_uri": "https://localhost:8080/"
        },
        "id": "2KXf6MjIcCnB",
        "outputId": "6aeed1e2-1eb6-474f-9522-05352a6bd8b3"
      },
      "execution_count": null,
      "outputs": [
        {
          "output_type": "stream",
          "name": "stdout",
          "text": [
            "NN MAE: 1405.2168088725502\n",
            "NN MSE: 5427639.567091522\n",
            "NN RMSE: 2329.729505133916\n"
          ]
        }
      ]
    },
    {
      "cell_type": "code",
      "source": [
        "metrics.r2_score(y_test, NN_y_pred )"
      ],
      "metadata": {
        "colab": {
          "base_uri": "https://localhost:8080/"
        },
        "id": "Z1UrKorxhB3I",
        "outputId": "96e405dc-54bb-43d2-bf0f-a9f5f8fb71bf"
      },
      "execution_count": null,
      "outputs": [
        {
          "output_type": "execute_result",
          "data": {
            "text/plain": [
              "0.7397982078298384"
            ]
          },
          "metadata": {},
          "execution_count": 39
        }
      ]
    },
    {
      "cell_type": "code",
      "source": [
        "from sklearn.model_selection import cross_val_score\n",
        "\n",
        "def cross_val(model,X,y) :\n",
        "  \n",
        "\n",
        "  scores = cross_val_score(model, X, y,scoring='r2',cv=5)\n",
        "  plt.figure(figsize=(8,4))\n",
        "  plt.plot(range(1,6), scores)\n",
        "  plt.title(model)\n",
        "  plt.xlabel('nth interation')\n",
        "  plt.ylabel('score')\n",
        "  plt.ylim(0.35, 0.95)\n",
        "  plt.grid()\n",
        "  plt.show()\n",
        "  print(model,'\\nCross Validation Score\\n',scores)\n",
        "  print(\"\\nAverage CV Score = \", scores.mean())\n",
        "  return\n",
        "\n"
      ],
      "metadata": {
        "id": "TLR3q1bAACGM"
      },
      "execution_count": null,
      "outputs": []
    },
    {
      "cell_type": "code",
      "source": [
        "cross_val(KNeighborsRegressor(n_neighbors=3),X_train,y_train)"
      ],
      "metadata": {
        "colab": {
          "base_uri": "https://localhost:8080/",
          "height": 388
        },
        "id": "JpBZha-aAXCt",
        "outputId": "d5b15bcf-a80d-45d3-ac46-7c2235835727"
      },
      "execution_count": null,
      "outputs": [
        {
          "output_type": "display_data",
          "data": {
            "text/plain": [
              "<Figure size 576x288 with 1 Axes>"
            ],
            "image/png": "[encoded data removed]"
          },
          "metadata": {}
        },
        {
          "output_type": "stream",
          "name": "stdout",
          "text": [
            "KNeighborsRegressor(n_neighbors=3) \n",
            "Cross Validation Score\n",
            " [0.52052514 0.55067581 0.60464477 0.48807723 0.52285981]\n",
            "\n",
            "Average CV Score =  0.53735655117032\n"
          ]
        }
      ]
    },
    {
      "cell_type": "code",
      "source": [
        "cross_val(RandomForestRegressor(),X_train,y_train)"
      ],
      "metadata": {
        "colab": {
          "base_uri": "https://localhost:8080/",
          "height": 388
        },
        "id": "L8CIf1LKEwe9",
        "outputId": "6dfab046-cc08-46f9-9c15-95a559c1de22"
      },
      "execution_count": null,
      "outputs": [
        {
          "output_type": "display_data",
          "data": {
            "text/plain": [
              "<Figure size 576x288 with 1 Axes>"
            ],
            "image/png": "[encoded data removed]"
          },
          "metadata": {}
        },
        {
          "output_type": "stream",
          "name": "stdout",
          "text": [
            "RandomForestRegressor() \n",
            "Cross Validation Score\n",
            " [0.7963149  0.82623377 0.8470026  0.79571739 0.81904589]\n",
            "\n",
            "Average CV Score =  0.816862910788867\n"
          ]
        }
      ]
    },
    {
      "cell_type": "code",
      "source": [
        "cross_val(XGBRegressor(),X_train,y_train) "
      ],
      "metadata": {
        "colab": {
          "base_uri": "https://localhost:8080/",
          "height": 474
        },
        "id": "D6TDPCFfFKeL",
        "outputId": "7a4e377c-ba42-467c-f349-27634644736e"
      },
      "execution_count": null,
      "outputs": [
        {
          "output_type": "stream",
          "name": "stdout",
          "text": [
            "[15:19:04] WARNING: /workspace/src/objective/regression_obj.cu:152: reg:linear is now deprecated in favor of reg:squarederror.\n",
            "[15:19:05] WARNING: /workspace/src/objective/regression_obj.cu:152: reg:linear is now deprecated in favor of reg:squarederror.\n",
            "[15:19:05] WARNING: /workspace/src/objective/regression_obj.cu:152: reg:linear is now deprecated in favor of reg:squarederror.\n",
            "[15:19:06] WARNING: /workspace/src/objective/regression_obj.cu:152: reg:linear is now deprecated in favor of reg:squarederror.\n",
            "[15:19:06] WARNING: /workspace/src/objective/regression_obj.cu:152: reg:linear is now deprecated in favor of reg:squarederror.\n"
          ]
        },
        {
          "output_type": "display_data",
          "data": {
            "text/plain": [
              "<Figure size 576x288 with 1 Axes>"
            ],
            "image/png": "[encoded data removed]"
          },
          "metadata": {}
        },
        {
          "output_type": "stream",
          "name": "stdout",
          "text": [
            "XGBRegressor() \n",
            "Cross Validation Score\n",
            " [0.76050237 0.77359503 0.78888317 0.73348998 0.79162881]\n",
            "\n",
            "Average CV Score =  0.7696198714754108\n"
          ]
        }
      ]
    },
    {
      "cell_type": "code",
      "source": [
        "cross_val(LGBMRegressor(),X_train,y_train) "
      ],
      "metadata": {
        "colab": {
          "base_uri": "https://localhost:8080/",
          "height": 388
        },
        "id": "leyGULTlFfTh",
        "outputId": "6e2fe27c-7b95-458e-b54c-864448872e2e"
      },
      "execution_count": null,
      "outputs": [
        {
          "output_type": "display_data",
          "data": {
            "text/plain": [
              "<Figure size 576x288 with 1 Axes>"
            ],
            "image/png": "[encoded data removed]"
          },
          "metadata": {}
        },
        {
          "output_type": "stream",
          "name": "stdout",
          "text": [
            "LGBMRegressor() \n",
            "Cross Validation Score\n",
            " [0.72994075 0.83368161 0.85407164 0.80964431 0.78564787]\n",
            "\n",
            "Average CV Score =  0.8025972364292532\n"
          ]
        }
      ]
    },
    {
      "cell_type": "code",
      "source": [
        "cross_val(SVR(kernel='linear'),X_train,y_train) "
      ],
      "metadata": {
        "colab": {
          "base_uri": "https://localhost:8080/",
          "height": 388
        },
        "id": "za-ezYc0PSVB",
        "outputId": "29cafeab-a341-4784-fd2d-5816b9f3a297"
      },
      "execution_count": null,
      "outputs": [
        {
          "output_type": "display_data",
          "data": {
            "text/plain": [
              "<Figure size 576x288 with 1 Axes>"
            ],
            "image/png": "[encoded data removed]"
          },
          "metadata": {}
        },
        {
          "output_type": "stream",
          "name": "stdout",
          "text": [
            "SVR(kernel='linear') \n",
            "Cross Validation Score\n",
            " [0.2750588  0.39331811 0.41114055 0.35787974 0.40811065]\n",
            "\n",
            "Average CV Score =  0.3691015673818686\n"
          ]
        }
      ]
    },
    {
      "cell_type": "code",
      "source": [
        "\n"
      ],
      "metadata": {
        "id": "AD5pMqG_Fo3A"
      },
      "execution_count": null,
      "outputs": []
    },
    {
      "cell_type": "markdown",
      "source": [
        "Now Train the model for best Models using Grid aur RandomizedSearchCV"
      ],
      "metadata": {
        "id": "oNdfkLXHfqe3"
      }
    },
    {
      "cell_type": "code",
      "source": [
        "n_estimators = [int(x) for x in np.linspace(start = 100, stop = 1200, num = 12)]\n",
        "# Number of features to consider at every split\n",
        "max_features = ['auto', 'sqrt']\n",
        "# Maximum number of levels in tree\n",
        "max_depth = [int(x) for x in np.linspace(5, 30, num = 6)]\n",
        "# Minimum number of samples required to split a node\n",
        "min_samples_split = [2, 5, 10, 15, 100]\n",
        "# Minimum number of samples required at each leaf node\n",
        "min_samples_leaf = [1, 2, 5, 10]"
      ],
      "metadata": {
        "id": "1Ib6jcyhKGad"
      },
      "execution_count": null,
      "outputs": []
    },
    {
      "cell_type": "code",
      "source": [
        "from sklearn.model_selection import RandomizedSearchCV\n",
        "\n",
        "random_grid = {'n_estimators': n_estimators,\n",
        "               'max_features': max_features,\n",
        "               'max_depth': max_depth,\n",
        "               'min_samples_split': min_samples_split,\n",
        "               'min_samples_leaf': min_samples_leaf}\n",
        "\n",
        "Random_search = RandomizedSearchCV(estimator = RandomForestRegressor(), param_distributions = random_grid,scoring='r2', n_iter = 20, cv = 5,verbose=2)\n",
        "\n",
        "Random_search.fit(X_train,y_train)\n",
        "\n",
        "Random_search.best_params_"
      ],
      "metadata": {
        "colab": {
          "base_uri": "https://localhost:8080/"
        },
        "id": "ODz8gxwsKSMp",
        "outputId": "50e84c58-3e97-4b24-d0cd-f7ae732bfd36"
      },
      "execution_count": null,
      "outputs": [
        {
          "output_type": "stream",
          "name": "stdout",
          "text": [
            "Fitting 5 folds for each of 20 candidates, totalling 100 fits\n",
            "[CV] END max_depth=10, max_features=sqrt, min_samples_leaf=5, min_samples_split=2, n_estimators=1100; total time=   4.4s\n",
            "[CV] END max_depth=10, max_features=sqrt, min_samples_leaf=5, min_samples_split=2, n_estimators=1100; total time=   4.3s\n",
            "[CV] END max_depth=10, max_features=sqrt, min_samples_leaf=5, min_samples_split=2, n_estimators=1100; total time=   4.3s\n",
            "[CV] END max_depth=10, max_features=sqrt, min_samples_leaf=5, min_samples_split=2, n_estimators=1100; total time=   4.3s\n",
            "[CV] END max_depth=10, max_features=sqrt, min_samples_leaf=5, min_samples_split=2, n_estimators=1100; total time=   4.2s\n",
            "[CV] END max_depth=5, max_features=auto, min_samples_leaf=1, min_samples_split=10, n_estimators=1100; total time=   8.7s\n",
            "[CV] END max_depth=5, max_features=auto, min_samples_leaf=1, min_samples_split=10, n_estimators=1100; total time=  10.4s\n",
            "[CV] END max_depth=5, max_features=auto, min_samples_leaf=1, min_samples_split=10, n_estimators=1100; total time=   8.7s\n",
            "[CV] END max_depth=5, max_features=auto, min_samples_leaf=1, min_samples_split=10, n_estimators=1100; total time=   8.7s\n",
            "[CV] END max_depth=5, max_features=auto, min_samples_leaf=1, min_samples_split=10, n_estimators=1100; total time=   8.7s\n",
            "[CV] END max_depth=10, max_features=auto, min_samples_leaf=1, min_samples_split=10, n_estimators=1100; total time=  14.5s\n",
            "[CV] END max_depth=10, max_features=auto, min_samples_leaf=1, min_samples_split=10, n_estimators=1100; total time=  14.5s\n",
            "[CV] END max_depth=10, max_features=auto, min_samples_leaf=1, min_samples_split=10, n_estimators=1100; total time=  14.5s\n",
            "[CV] END max_depth=10, max_features=auto, min_samples_leaf=1, min_samples_split=10, n_estimators=1100; total time=  14.5s\n",
            "[CV] END max_depth=10, max_features=auto, min_samples_leaf=1, min_samples_split=10, n_estimators=1100; total time=  14.5s\n",
            "[CV] END max_depth=25, max_features=sqrt, min_samples_leaf=5, min_samples_split=15, n_estimators=800; total time=   3.6s\n",
            "[CV] END max_depth=25, max_features=sqrt, min_samples_leaf=5, min_samples_split=15, n_estimators=800; total time=   3.5s\n",
            "[CV] END max_depth=25, max_features=sqrt, min_samples_leaf=5, min_samples_split=15, n_estimators=800; total time=   3.6s\n",
            "[CV] END max_depth=25, max_features=sqrt, min_samples_leaf=5, min_samples_split=15, n_estimators=800; total time=   3.5s\n",
            "[CV] END max_depth=25, max_features=sqrt, min_samples_leaf=5, min_samples_split=15, n_estimators=800; total time=   3.5s\n",
            "[CV] END max_depth=25, max_features=sqrt, min_samples_leaf=2, min_samples_split=10, n_estimators=700; total time=   3.5s\n",
            "[CV] END max_depth=25, max_features=sqrt, min_samples_leaf=2, min_samples_split=10, n_estimators=700; total time=   3.5s\n",
            "[CV] END max_depth=25, max_features=sqrt, min_samples_leaf=2, min_samples_split=10, n_estimators=700; total time=   3.5s\n",
            "[CV] END max_depth=25, max_features=sqrt, min_samples_leaf=2, min_samples_split=10, n_estimators=700; total time=   3.5s\n",
            "[CV] END max_depth=25, max_features=sqrt, min_samples_leaf=2, min_samples_split=10, n_estimators=700; total time=   3.5s\n",
            "[CV] END max_depth=25, max_features=auto, min_samples_leaf=10, min_samples_split=2, n_estimators=900; total time=  11.9s\n",
            "[CV] END max_depth=25, max_features=auto, min_samples_leaf=10, min_samples_split=2, n_estimators=900; total time=  12.0s\n",
            "[CV] END max_depth=25, max_features=auto, min_samples_leaf=10, min_samples_split=2, n_estimators=900; total time=  12.2s\n",
            "[CV] END max_depth=25, max_features=auto, min_samples_leaf=10, min_samples_split=2, n_estimators=900; total time=  12.1s\n",
            "[CV] END max_depth=25, max_features=auto, min_samples_leaf=10, min_samples_split=2, n_estimators=900; total time=  12.1s\n",
            "[CV] END max_depth=30, max_features=sqrt, min_samples_leaf=1, min_samples_split=10, n_estimators=200; total time=   1.0s\n",
            "[CV] END max_depth=30, max_features=sqrt, min_samples_leaf=1, min_samples_split=10, n_estimators=200; total time=   1.0s\n",
            "[CV] END max_depth=30, max_features=sqrt, min_samples_leaf=1, min_samples_split=10, n_estimators=200; total time=   1.1s\n",
            "[CV] END max_depth=30, max_features=sqrt, min_samples_leaf=1, min_samples_split=10, n_estimators=200; total time=   1.0s\n",
            "[CV] END max_depth=30, max_features=sqrt, min_samples_leaf=1, min_samples_split=10, n_estimators=200; total time=   1.0s\n",
            "[CV] END max_depth=5, max_features=sqrt, min_samples_leaf=10, min_samples_split=2, n_estimators=800; total time=   2.2s\n",
            "[CV] END max_depth=5, max_features=sqrt, min_samples_leaf=10, min_samples_split=2, n_estimators=800; total time=   2.2s\n",
            "[CV] END max_depth=5, max_features=sqrt, min_samples_leaf=10, min_samples_split=2, n_estimators=800; total time=   2.2s\n",
            "[CV] END max_depth=5, max_features=sqrt, min_samples_leaf=10, min_samples_split=2, n_estimators=800; total time=   2.2s\n",
            "[CV] END max_depth=5, max_features=sqrt, min_samples_leaf=10, min_samples_split=2, n_estimators=800; total time=   2.2s\n",
            "[CV] END max_depth=5, max_features=auto, min_samples_leaf=1, min_samples_split=2, n_estimators=900; total time=   7.1s\n",
            "[CV] END max_depth=5, max_features=auto, min_samples_leaf=1, min_samples_split=2, n_estimators=900; total time=   7.1s\n",
            "[CV] END max_depth=5, max_features=auto, min_samples_leaf=1, min_samples_split=2, n_estimators=900; total time=   7.2s\n",
            "[CV] END max_depth=5, max_features=auto, min_samples_leaf=1, min_samples_split=2, n_estimators=900; total time=   7.2s\n",
            "[CV] END max_depth=5, max_features=auto, min_samples_leaf=1, min_samples_split=2, n_estimators=900; total time=   7.2s\n",
            "[CV] END max_depth=5, max_features=sqrt, min_samples_leaf=1, min_samples_split=2, n_estimators=1100; total time=   3.0s\n",
            "[CV] END max_depth=5, max_features=sqrt, min_samples_leaf=1, min_samples_split=2, n_estimators=1100; total time=   3.0s\n",
            "[CV] END max_depth=5, max_features=sqrt, min_samples_leaf=1, min_samples_split=2, n_estimators=1100; total time=   3.0s\n",
            "[CV] END max_depth=5, max_features=sqrt, min_samples_leaf=1, min_samples_split=2, n_estimators=1100; total time=   3.0s\n",
            "[CV] END max_depth=5, max_features=sqrt, min_samples_leaf=1, min_samples_split=2, n_estimators=1100; total time=   3.0s\n",
            "[CV] END max_depth=30, max_features=auto, min_samples_leaf=10, min_samples_split=2, n_estimators=1000; total time=  13.2s\n",
            "[CV] END max_depth=30, max_features=auto, min_samples_leaf=10, min_samples_split=2, n_estimators=1000; total time=  13.3s\n",
            "[CV] END max_depth=30, max_features=auto, min_samples_leaf=10, min_samples_split=2, n_estimators=1000; total time=  13.6s\n",
            "[CV] END max_depth=30, max_features=auto, min_samples_leaf=10, min_samples_split=2, n_estimators=1000; total time=  13.5s\n",
            "[CV] END max_depth=30, max_features=auto, min_samples_leaf=10, min_samples_split=2, n_estimators=1000; total time=  13.3s\n",
            "[CV] END max_depth=10, max_features=sqrt, min_samples_leaf=2, min_samples_split=15, n_estimators=400; total time=   1.6s\n",
            "[CV] END max_depth=10, max_features=sqrt, min_samples_leaf=2, min_samples_split=15, n_estimators=400; total time=   1.6s\n",
            "[CV] END max_depth=10, max_features=sqrt, min_samples_leaf=2, min_samples_split=15, n_estimators=400; total time=   1.6s\n",
            "[CV] END max_depth=10, max_features=sqrt, min_samples_leaf=2, min_samples_split=15, n_estimators=400; total time=   1.6s\n",
            "[CV] END max_depth=10, max_features=sqrt, min_samples_leaf=2, min_samples_split=15, n_estimators=400; total time=   1.6s\n",
            "[CV] END max_depth=15, max_features=auto, min_samples_leaf=5, min_samples_split=100, n_estimators=300; total time=   3.3s\n",
            "[CV] END max_depth=15, max_features=auto, min_samples_leaf=5, min_samples_split=100, n_estimators=300; total time=   3.3s\n",
            "[CV] END max_depth=15, max_features=auto, min_samples_leaf=5, min_samples_split=100, n_estimators=300; total time=   3.4s\n",
            "[CV] END max_depth=15, max_features=auto, min_samples_leaf=5, min_samples_split=100, n_estimators=300; total time=   3.4s\n",
            "[CV] END max_depth=15, max_features=auto, min_samples_leaf=5, min_samples_split=100, n_estimators=300; total time=   3.3s\n",
            "[CV] END max_depth=30, max_features=auto, min_samples_leaf=5, min_samples_split=5, n_estimators=500; total time=   7.7s\n",
            "[CV] END max_depth=30, max_features=auto, min_samples_leaf=5, min_samples_split=5, n_estimators=500; total time=   7.7s\n",
            "[CV] END max_depth=30, max_features=auto, min_samples_leaf=5, min_samples_split=5, n_estimators=500; total time=   7.8s\n",
            "[CV] END max_depth=30, max_features=auto, min_samples_leaf=5, min_samples_split=5, n_estimators=500; total time=   7.8s\n",
            "[CV] END max_depth=30, max_features=auto, min_samples_leaf=5, min_samples_split=5, n_estimators=500; total time=   7.7s\n",
            "[CV] END max_depth=10, max_features=auto, min_samples_leaf=2, min_samples_split=5, n_estimators=800; total time=  10.7s\n",
            "[CV] END max_depth=10, max_features=auto, min_samples_leaf=2, min_samples_split=5, n_estimators=800; total time=  10.8s\n",
            "[CV] END max_depth=10, max_features=auto, min_samples_leaf=2, min_samples_split=5, n_estimators=800; total time=  10.8s\n",
            "[CV] END max_depth=10, max_features=auto, min_samples_leaf=2, min_samples_split=5, n_estimators=800; total time=  10.8s\n",
            "[CV] END max_depth=10, max_features=auto, min_samples_leaf=2, min_samples_split=5, n_estimators=800; total time=  10.8s\n",
            "[CV] END max_depth=25, max_features=auto, min_samples_leaf=10, min_samples_split=15, n_estimators=800; total time=  10.7s\n",
            "[CV] END max_depth=25, max_features=auto, min_samples_leaf=10, min_samples_split=15, n_estimators=800; total time=  10.8s\n",
            "[CV] END max_depth=25, max_features=auto, min_samples_leaf=10, min_samples_split=15, n_estimators=800; total time=  10.9s\n",
            "[CV] END max_depth=25, max_features=auto, min_samples_leaf=10, min_samples_split=15, n_estimators=800; total time=  10.8s\n",
            "[CV] END max_depth=25, max_features=auto, min_samples_leaf=10, min_samples_split=15, n_estimators=800; total time=  10.6s\n",
            "[CV] END max_depth=30, max_features=auto, min_samples_leaf=10, min_samples_split=100, n_estimators=700; total time=   7.5s\n",
            "[CV] END max_depth=30, max_features=auto, min_samples_leaf=10, min_samples_split=100, n_estimators=700; total time=   7.6s\n",
            "[CV] END max_depth=30, max_features=auto, min_samples_leaf=10, min_samples_split=100, n_estimators=700; total time=   7.7s\n",
            "[CV] END max_depth=30, max_features=auto, min_samples_leaf=10, min_samples_split=100, n_estimators=700; total time=   7.6s\n",
            "[CV] END max_depth=30, max_features=auto, min_samples_leaf=10, min_samples_split=100, n_estimators=700; total time=   7.5s\n",
            "[CV] END max_depth=15, max_features=sqrt, min_samples_leaf=2, min_samples_split=10, n_estimators=600; total time=   3.0s\n",
            "[CV] END max_depth=15, max_features=sqrt, min_samples_leaf=2, min_samples_split=10, n_estimators=600; total time=   3.0s\n",
            "[CV] END max_depth=15, max_features=sqrt, min_samples_leaf=2, min_samples_split=10, n_estimators=600; total time=   2.9s\n",
            "[CV] END max_depth=15, max_features=sqrt, min_samples_leaf=2, min_samples_split=10, n_estimators=600; total time=   2.9s\n",
            "[CV] END max_depth=15, max_features=sqrt, min_samples_leaf=2, min_samples_split=10, n_estimators=600; total time=   3.0s\n",
            "[CV] END max_depth=25, max_features=auto, min_samples_leaf=5, min_samples_split=100, n_estimators=500; total time=   5.5s\n",
            "[CV] END max_depth=25, max_features=auto, min_samples_leaf=5, min_samples_split=100, n_estimators=500; total time=   5.6s\n",
            "[CV] END max_depth=25, max_features=auto, min_samples_leaf=5, min_samples_split=100, n_estimators=500; total time=   5.6s\n",
            "[CV] END max_depth=25, max_features=auto, min_samples_leaf=5, min_samples_split=100, n_estimators=500; total time=   5.6s\n",
            "[CV] END max_depth=25, max_features=auto, min_samples_leaf=5, min_samples_split=100, n_estimators=500; total time=   5.5s\n",
            "[CV] END max_depth=25, max_features=auto, min_samples_leaf=1, min_samples_split=10, n_estimators=500; total time=   8.5s\n",
            "[CV] END max_depth=25, max_features=auto, min_samples_leaf=1, min_samples_split=10, n_estimators=500; total time=   8.7s\n",
            "[CV] END max_depth=25, max_features=auto, min_samples_leaf=1, min_samples_split=10, n_estimators=500; total time=   8.7s\n",
            "[CV] END max_depth=25, max_features=auto, min_samples_leaf=1, min_samples_split=10, n_estimators=500; total time=  13.2s\n",
            "[CV] END max_depth=25, max_features=auto, min_samples_leaf=1, min_samples_split=10, n_estimators=500; total time=  12.3s\n"
          ]
        },
        {
          "output_type": "execute_result",
          "data": {
            "text/plain": [
              "{'max_depth': 25,\n",
              " 'max_features': 'auto',\n",
              " 'min_samples_leaf': 1,\n",
              " 'min_samples_split': 10,\n",
              " 'n_estimators': 500}"
            ]
          },
          "metadata": {},
          "execution_count": 139
        }
      ]
    },
    {
      "cell_type": "code",
      "source": [
        "from sklearn.ensemble import RandomForestRegressor\n",
        "\n",
        "#max_depth= 30 ,max_features= 'auto', min_samples_leaf= 2,min_samples_split= 10, n_estimators= 600\n",
        "#max_depth= 10 ,max_features= 'auto', min_samples_leaf= 2,min_samples_split= 5, n_estimators= 1100\n",
        "model_forest_op = RandomForestRegressor(max_depth= 25 ,max_features= 'auto', min_samples_leaf= 1,min_samples_split= 10, n_estimators=500)\n",
        "                            \n",
        "model_forest_op.fit(X_train,y_train)\n",
        "\n",
        "prediction_forest_op = model_forest_op.predict(X_test)"
      ],
      "metadata": {
        "id": "zUgw4WN3VU8l"
      },
      "execution_count": null,
      "outputs": []
    },
    {
      "cell_type": "code",
      "source": [
        "print('RF MAE:', metrics.mean_absolute_error(y_test,prediction_forest_op))\n",
        "print('RF MSE:', metrics.mean_squared_error(y_test, prediction_forest_op))\n",
        "print('RF RMSE:', np.sqrt(metrics.mean_squared_error(y_test,prediction_forest_op)))"
      ],
      "metadata": {
        "colab": {
          "base_uri": "https://localhost:8080/"
        },
        "id": "jIqru9P7Vuhv",
        "outputId": "7cea684f-a5a6-4e8a-864d-617070e8d4c2"
      },
      "execution_count": null,
      "outputs": [
        {
          "output_type": "stream",
          "name": "stdout",
          "text": [
            "RF MAE: 1164.4406875120615\n",
            "RF MSE: 4526670.164261255\n",
            "RF RMSE: 2127.597274923348\n"
          ]
        }
      ]
    },
    {
      "cell_type": "code",
      "source": [
        "metrics.r2_score(y_test, prediction_forest_op)"
      ],
      "metadata": {
        "colab": {
          "base_uri": "https://localhost:8080/"
        },
        "id": "K8oE-2VpV9mp",
        "outputId": "1f02ffd0-0c07-46a2-93bc-3d09d3f50ebf"
      },
      "execution_count": null,
      "outputs": [
        {
          "output_type": "execute_result",
          "data": {
            "text/plain": [
              "0.7829908057186735"
            ]
          },
          "metadata": {},
          "execution_count": 142
        }
      ]
    },
    {
      "cell_type": "code",
      "source": [
        "plt.figure(figsize = (6,6))\n",
        "sns.distplot(y_test-prediction_forest_op)\n",
        "plt.title('Optimised Random Forest Density Plot')\n",
        "plt.show()"
      ],
      "metadata": {
        "colab": {
          "base_uri": "https://localhost:8080/",
          "height": 465
        },
        "id": "qfG2eTdma7Sv",
        "outputId": "4138f856-c321-4057-b743-ba04ec70f924"
      },
      "execution_count": null,
      "outputs": [
        {
          "output_type": "stream",
          "name": "stderr",
          "text": [
            "/usr/local/lib/python3.7/dist-packages/seaborn/distributions.py:2619: FutureWarning: `distplot` is a deprecated function and will be removed in a future version. Please adapt your code to use either `displot` (a figure-level function with similar flexibility) or `histplot` (an axes-level function for histograms).\n",
            "  warnings.warn(msg, FutureWarning)\n"
          ]
        },
        {
          "output_type": "display_data",
          "data": {
            "text/plain": [
              "<Figure size 432x432 with 1 Axes>"
            ],
            "image/png": "[encoded data removed]"
          },
          "metadata": {}
        }
      ]
    },
    {
      "cell_type": "code",
      "source": [
        "plt.figure(figsize = (8,8))\n",
        "plt.scatter(y_test, prediction_forest_op, alpha = 0.5)\n",
        "plt.xlabel(\"y_test\")\n",
        "plt.ylabel(\"y_pred\")\n",
        "plt.title(\"Optimised Random Forest\")\n",
        "plt.show()"
      ],
      "metadata": {
        "colab": {
          "base_uri": "https://localhost:8080/",
          "height": 518
        },
        "id": "9QvagVQAxK-0",
        "outputId": "c11e3b6a-7210-4b73-d5ef-2016056e3b0e"
      },
      "execution_count": null,
      "outputs": [
        {
          "output_type": "display_data",
          "data": {
            "text/plain": [
              "<Figure size 576x576 with 1 Axes>"
            ],
            "image/png": "[encoded data removed]"
          },
          "metadata": {}
        }
      ]
    },
    {
      "cell_type": "code",
      "source": [
        "from sklearn.model_selection import RandomizedSearchCV\n",
        "\n",
        "param_grid_lgm = {\n",
        "   'n_estimators': [100,500,1000,1500] , \n",
        "    'learning_rate': [0.001,0.01,0.1,0.5,1],\n",
        "    'colsample_bytree': [0.6,0.8,1],\n",
        "    \"max_depth\": [5,10,50,100,500]\n",
        "}\n",
        "\n",
        "Random_search = RandomizedSearchCV(estimator = LGBMRegressor(), param_distributions = param_grid_lgm,scoring='r2', n_iter = 20, cv = 5,verbose=2)\n",
        "\n",
        "Random_search.fit(X_train,y_train)\n",
        "\n",
        "Random_search.best_params_"
      ],
      "metadata": {
        "colab": {
          "base_uri": "https://localhost:8080/"
        },
        "id": "cGloTofZTkRu",
        "outputId": "3815f906-a918-410a-e0a9-9229820a2491"
      },
      "execution_count": null,
      "outputs": [
        {
          "output_type": "stream",
          "name": "stdout",
          "text": [
            "Fitting 5 folds for each of 20 candidates, totalling 100 fits\n",
            "[CV] END colsample_bytree=0.6, learning_rate=0.5, max_depth=100, n_estimators=1500; total time=   2.2s\n",
            "[CV] END colsample_bytree=0.6, learning_rate=0.5, max_depth=100, n_estimators=1500; total time=   2.3s\n",
            "[CV] END colsample_bytree=0.6, learning_rate=0.5, max_depth=100, n_estimators=1500; total time=   2.2s\n",
            "[CV] END colsample_bytree=0.6, learning_rate=0.5, max_depth=100, n_estimators=1500; total time=   1.8s\n",
            "[CV] END colsample_bytree=0.6, learning_rate=0.5, max_depth=100, n_estimators=1500; total time=   1.4s\n",
            "[CV] END colsample_bytree=0.6, learning_rate=0.1, max_depth=500, n_estimators=1500; total time=   1.5s\n",
            "[CV] END colsample_bytree=0.6, learning_rate=0.1, max_depth=500, n_estimators=1500; total time=   1.4s\n",
            "[CV] END colsample_bytree=0.6, learning_rate=0.1, max_depth=500, n_estimators=1500; total time=   1.5s\n",
            "[CV] END colsample_bytree=0.6, learning_rate=0.1, max_depth=500, n_estimators=1500; total time=   1.4s\n",
            "[CV] END colsample_bytree=0.6, learning_rate=0.1, max_depth=500, n_estimators=1500; total time=   1.4s\n",
            "[CV] END colsample_bytree=0.8, learning_rate=0.5, max_depth=50, n_estimators=1000; total time=   1.0s\n",
            "[CV] END colsample_bytree=0.8, learning_rate=0.5, max_depth=50, n_estimators=1000; total time=   1.0s\n",
            "[CV] END colsample_bytree=0.8, learning_rate=0.5, max_depth=50, n_estimators=1000; total time=   1.0s\n",
            "[CV] END colsample_bytree=0.8, learning_rate=0.5, max_depth=50, n_estimators=1000; total time=   1.0s\n",
            "[CV] END colsample_bytree=0.8, learning_rate=0.5, max_depth=50, n_estimators=1000; total time=   1.0s\n",
            "[CV] END colsample_bytree=0.6, learning_rate=0.5, max_depth=100, n_estimators=100; total time=   0.1s\n",
            "[CV] END colsample_bytree=0.6, learning_rate=0.5, max_depth=100, n_estimators=100; total time=   0.1s\n",
            "[CV] END colsample_bytree=0.6, learning_rate=0.5, max_depth=100, n_estimators=100; total time=   0.1s\n",
            "[CV] END colsample_bytree=0.6, learning_rate=0.5, max_depth=100, n_estimators=100; total time=   0.1s\n",
            "[CV] END colsample_bytree=0.6, learning_rate=0.5, max_depth=100, n_estimators=100; total time=   0.1s\n",
            "[CV] END colsample_bytree=0.6, learning_rate=0.001, max_depth=50, n_estimators=100; total time=   0.1s\n",
            "[CV] END colsample_bytree=0.6, learning_rate=0.001, max_depth=50, n_estimators=100; total time=   0.1s\n",
            "[CV] END colsample_bytree=0.6, learning_rate=0.001, max_depth=50, n_estimators=100; total time=   0.1s\n",
            "[CV] END colsample_bytree=0.6, learning_rate=0.001, max_depth=50, n_estimators=100; total time=   0.1s\n",
            "[CV] END colsample_bytree=0.6, learning_rate=0.001, max_depth=50, n_estimators=100; total time=   0.1s\n",
            "[CV] END colsample_bytree=1, learning_rate=0.5, max_depth=10, n_estimators=1500; total time=   1.7s\n",
            "[CV] END colsample_bytree=1, learning_rate=0.5, max_depth=10, n_estimators=1500; total time=   1.6s\n",
            "[CV] END colsample_bytree=1, learning_rate=0.5, max_depth=10, n_estimators=1500; total time=   1.6s\n",
            "[CV] END colsample_bytree=1, learning_rate=0.5, max_depth=10, n_estimators=1500; total time=   1.6s\n",
            "[CV] END colsample_bytree=1, learning_rate=0.5, max_depth=10, n_estimators=1500; total time=   1.6s\n",
            "[CV] END colsample_bytree=0.8, learning_rate=0.01, max_depth=10, n_estimators=1000; total time=   1.2s\n",
            "[CV] END colsample_bytree=0.8, learning_rate=0.01, max_depth=10, n_estimators=1000; total time=   1.2s\n",
            "[CV] END colsample_bytree=0.8, learning_rate=0.01, max_depth=10, n_estimators=1000; total time=   1.2s\n",
            "[CV] END colsample_bytree=0.8, learning_rate=0.01, max_depth=10, n_estimators=1000; total time=   1.2s\n",
            "[CV] END colsample_bytree=0.8, learning_rate=0.01, max_depth=10, n_estimators=1000; total time=   1.2s\n",
            "[CV] END colsample_bytree=0.8, learning_rate=0.1, max_depth=100, n_estimators=500; total time=   0.5s\n",
            "[CV] END colsample_bytree=0.8, learning_rate=0.1, max_depth=100, n_estimators=500; total time=   0.5s\n",
            "[CV] END colsample_bytree=0.8, learning_rate=0.1, max_depth=100, n_estimators=500; total time=   0.6s\n",
            "[CV] END colsample_bytree=0.8, learning_rate=0.1, max_depth=100, n_estimators=500; total time=   0.5s\n",
            "[CV] END colsample_bytree=0.8, learning_rate=0.1, max_depth=100, n_estimators=500; total time=   0.6s\n",
            "[CV] END colsample_bytree=1, learning_rate=0.1, max_depth=5, n_estimators=500; total time=   0.5s\n",
            "[CV] END colsample_bytree=1, learning_rate=0.1, max_depth=5, n_estimators=500; total time=   0.4s\n",
            "[CV] END colsample_bytree=1, learning_rate=0.1, max_depth=5, n_estimators=500; total time=   0.5s\n",
            "[CV] END colsample_bytree=1, learning_rate=0.1, max_depth=5, n_estimators=500; total time=   0.4s\n",
            "[CV] END colsample_bytree=1, learning_rate=0.1, max_depth=5, n_estimators=500; total time=   0.5s\n",
            "[CV] END colsample_bytree=1, learning_rate=0.01, max_depth=10, n_estimators=1500; total time=   1.9s\n",
            "[CV] END colsample_bytree=1, learning_rate=0.01, max_depth=10, n_estimators=1500; total time=   1.8s\n",
            "[CV] END colsample_bytree=1, learning_rate=0.01, max_depth=10, n_estimators=1500; total time=   1.8s\n",
            "[CV] END colsample_bytree=1, learning_rate=0.01, max_depth=10, n_estimators=1500; total time=   1.8s\n",
            "[CV] END colsample_bytree=1, learning_rate=0.01, max_depth=10, n_estimators=1500; total time=   1.8s\n",
            "[CV] END colsample_bytree=0.8, learning_rate=0.1, max_depth=50, n_estimators=500; total time=   0.5s\n",
            "[CV] END colsample_bytree=0.8, learning_rate=0.1, max_depth=50, n_estimators=500; total time=   0.5s\n",
            "[CV] END colsample_bytree=0.8, learning_rate=0.1, max_depth=50, n_estimators=500; total time=   0.6s\n",
            "[CV] END colsample_bytree=0.8, learning_rate=0.1, max_depth=50, n_estimators=500; total time=   0.5s\n",
            "[CV] END colsample_bytree=0.8, learning_rate=0.1, max_depth=50, n_estimators=500; total time=   0.6s\n",
            "[CV] END colsample_bytree=1, learning_rate=0.5, max_depth=500, n_estimators=1000; total time=   1.1s\n",
            "[CV] END colsample_bytree=1, learning_rate=0.5, max_depth=500, n_estimators=1000; total time=   1.1s\n",
            "[CV] END colsample_bytree=1, learning_rate=0.5, max_depth=500, n_estimators=1000; total time=   1.1s\n",
            "[CV] END colsample_bytree=1, learning_rate=0.5, max_depth=500, n_estimators=1000; total time=   1.1s\n",
            "[CV] END colsample_bytree=1, learning_rate=0.5, max_depth=500, n_estimators=1000; total time=   1.1s\n",
            "[CV] END colsample_bytree=1, learning_rate=0.1, max_depth=50, n_estimators=500; total time=   0.6s\n",
            "[CV] END colsample_bytree=1, learning_rate=0.1, max_depth=50, n_estimators=500; total time=   0.6s\n",
            "[CV] END colsample_bytree=1, learning_rate=0.1, max_depth=50, n_estimators=500; total time=   0.6s\n",
            "[CV] END colsample_bytree=1, learning_rate=0.1, max_depth=50, n_estimators=500; total time=   0.6s\n",
            "[CV] END colsample_bytree=1, learning_rate=0.1, max_depth=50, n_estimators=500; total time=   0.6s\n",
            "[CV] END colsample_bytree=0.8, learning_rate=0.01, max_depth=100, n_estimators=1000; total time=   1.2s\n",
            "[CV] END colsample_bytree=0.8, learning_rate=0.01, max_depth=100, n_estimators=1000; total time=   1.2s\n",
            "[CV] END colsample_bytree=0.8, learning_rate=0.01, max_depth=100, n_estimators=1000; total time=   1.2s\n",
            "[CV] END colsample_bytree=0.8, learning_rate=0.01, max_depth=100, n_estimators=1000; total time=   1.2s\n",
            "[CV] END colsample_bytree=0.8, learning_rate=0.01, max_depth=100, n_estimators=1000; total time=   1.2s\n",
            "[CV] END colsample_bytree=0.8, learning_rate=0.5, max_depth=50, n_estimators=1500; total time=   1.5s\n",
            "[CV] END colsample_bytree=0.8, learning_rate=0.5, max_depth=50, n_estimators=1500; total time=   1.5s\n",
            "[CV] END colsample_bytree=0.8, learning_rate=0.5, max_depth=50, n_estimators=1500; total time=   1.5s\n",
            "[CV] END colsample_bytree=0.8, learning_rate=0.5, max_depth=50, n_estimators=1500; total time=   1.5s\n",
            "[CV] END colsample_bytree=0.8, learning_rate=0.5, max_depth=50, n_estimators=1500; total time=   1.5s\n",
            "[CV] END colsample_bytree=1, learning_rate=1, max_depth=100, n_estimators=100; total time=   0.1s\n",
            "[CV] END colsample_bytree=1, learning_rate=1, max_depth=100, n_estimators=100; total time=   0.1s\n",
            "[CV] END colsample_bytree=1, learning_rate=1, max_depth=100, n_estimators=100; total time=   0.1s\n",
            "[CV] END colsample_bytree=1, learning_rate=1, max_depth=100, n_estimators=100; total time=   0.1s\n",
            "[CV] END colsample_bytree=1, learning_rate=1, max_depth=100, n_estimators=100; total time=   0.1s\n",
            "[CV] END colsample_bytree=0.6, learning_rate=0.01, max_depth=100, n_estimators=500; total time=   0.6s\n",
            "[CV] END colsample_bytree=0.6, learning_rate=0.01, max_depth=100, n_estimators=500; total time=   0.6s\n",
            "[CV] END colsample_bytree=0.6, learning_rate=0.01, max_depth=100, n_estimators=500; total time=   0.6s\n",
            "[CV] END colsample_bytree=0.6, learning_rate=0.01, max_depth=100, n_estimators=500; total time=   0.6s\n",
            "[CV] END colsample_bytree=0.6, learning_rate=0.01, max_depth=100, n_estimators=500; total time=   0.6s\n",
            "[CV] END colsample_bytree=0.6, learning_rate=0.001, max_depth=5, n_estimators=1500; total time=   1.5s\n",
            "[CV] END colsample_bytree=0.6, learning_rate=0.001, max_depth=5, n_estimators=1500; total time=   1.5s\n",
            "[CV] END colsample_bytree=0.6, learning_rate=0.001, max_depth=5, n_estimators=1500; total time=   1.5s\n",
            "[CV] END colsample_bytree=0.6, learning_rate=0.001, max_depth=5, n_estimators=1500; total time=   1.5s\n",
            "[CV] END colsample_bytree=0.6, learning_rate=0.001, max_depth=5, n_estimators=1500; total time=   1.5s\n",
            "[CV] END colsample_bytree=0.6, learning_rate=1, max_depth=50, n_estimators=1500; total time=   1.6s\n",
            "[CV] END colsample_bytree=0.6, learning_rate=1, max_depth=50, n_estimators=1500; total time=   1.5s\n",
            "[CV] END colsample_bytree=0.6, learning_rate=1, max_depth=50, n_estimators=1500; total time=   1.6s\n",
            "[CV] END colsample_bytree=0.6, learning_rate=1, max_depth=50, n_estimators=1500; total time=   1.5s\n",
            "[CV] END colsample_bytree=0.6, learning_rate=1, max_depth=50, n_estimators=1500; total time=   1.6s\n",
            "[CV] END colsample_bytree=0.8, learning_rate=0.1, max_depth=10, n_estimators=1500; total time=   1.6s\n",
            "[CV] END colsample_bytree=0.8, learning_rate=0.1, max_depth=10, n_estimators=1500; total time=   1.5s\n",
            "[CV] END colsample_bytree=0.8, learning_rate=0.1, max_depth=10, n_estimators=1500; total time=   1.6s\n",
            "[CV] END colsample_bytree=0.8, learning_rate=0.1, max_depth=10, n_estimators=1500; total time=   1.5s\n",
            "[CV] END colsample_bytree=0.8, learning_rate=0.1, max_depth=10, n_estimators=1500; total time=   1.6s\n"
          ]
        },
        {
          "output_type": "execute_result",
          "data": {
            "text/plain": [
              "{'colsample_bytree': 0.8,\n",
              " 'learning_rate': 0.1,\n",
              " 'max_depth': 100,\n",
              " 'n_estimators': 500}"
            ]
          },
          "metadata": {},
          "execution_count": 144
        }
      ]
    },
    {
      "cell_type": "code",
      "source": [
        "from lightgbm import LGBMRegressor\n",
        "\n",
        "model_lgm_op = LGBMRegressor(colsample_bytree= 1,learning_rate= 0.1,max_depth= 100,n_estimators= 500)\n",
        "\n",
        "model_lgm_op.fit(X_train,y_train)\n",
        "\n",
        "prediction_lgm_op = model_lgm_op.predict(X_test)\n",
        "\n"
      ],
      "metadata": {
        "id": "nR5FDxN3Vs5H"
      },
      "execution_count": null,
      "outputs": []
    },
    {
      "cell_type": "code",
      "source": [
        "print('LGM MAE OP:', metrics.mean_absolute_error(y_test, prediction_lgm_op))\n",
        "print('LGM MSE OP:', metrics.mean_squared_error(y_test, prediction_lgm_op))\n",
        "print('LGM RMSE OP:', np.sqrt(metrics.mean_squared_error(y_test, prediction_lgm_op)))"
      ],
      "metadata": {
        "colab": {
          "base_uri": "https://localhost:8080/"
        },
        "id": "8gZayEQMVtx4",
        "outputId": "9030b226-5b41-4795-a6e2-fe3ec2720a3d"
      },
      "execution_count": null,
      "outputs": [
        {
          "output_type": "stream",
          "name": "stdout",
          "text": [
            "LGM MAE OP: 1188.3153093733304\n",
            "LGM MSE OP: 4109919.2661603033\n",
            "LGM RMSE OP: 2027.2935816403858\n"
          ]
        }
      ]
    },
    {
      "cell_type": "code",
      "source": [
        "metrics.r2_score(y_test, prediction_lgm_op )"
      ],
      "metadata": {
        "colab": {
          "base_uri": "https://localhost:8080/"
        },
        "id": "84qPKxV-WAOs",
        "outputId": "b158f110-3fb8-4333-a0c1-fd98c7dd158a"
      },
      "execution_count": null,
      "outputs": [
        {
          "output_type": "execute_result",
          "data": {
            "text/plain": [
              "0.8029699014625903"
            ]
          },
          "metadata": {},
          "execution_count": 156
        }
      ]
    },
    {
      "cell_type": "code",
      "source": [
        "plt.figure(figsize = (6,6))\n",
        "sns.distplot(y_test-prediction_lgm_op)\n",
        "plt.title('Optimised LightGBM Density Plot')\n",
        "plt.show()"
      ],
      "metadata": {
        "colab": {
          "base_uri": "https://localhost:8080/",
          "height": 465
        },
        "id": "o86WdN3TXi9U",
        "outputId": "451784fe-8ee6-4f9c-f44c-273f3f7676fc"
      },
      "execution_count": null,
      "outputs": [
        {
          "output_type": "stream",
          "name": "stderr",
          "text": [
            "/usr/local/lib/python3.7/dist-packages/seaborn/distributions.py:2619: FutureWarning: `distplot` is a deprecated function and will be removed in a future version. Please adapt your code to use either `displot` (a figure-level function with similar flexibility) or `histplot` (an axes-level function for histograms).\n",
            "  warnings.warn(msg, FutureWarning)\n"
          ]
        },
        {
          "output_type": "display_data",
          "data": {
            "text/plain": [
              "<Figure size 432x432 with 1 Axes>"
            ],
            "image/png": "[encoded data removed]"
          },
          "metadata": {}
        }
      ]
    },
    {
      "cell_type": "code",
      "source": [
        "plt.figure(figsize = (8,8))\n",
        "plt.scatter(y_test, prediction_lgm_op, alpha = 0.5)\n",
        "plt.xlabel(\"y_test\")\n",
        "plt.ylabel(\"y_pred\")\n",
        "plt.title(\"Optimised XG Boost\")\n",
        "plt.show()"
      ],
      "metadata": {
        "colab": {
          "base_uri": "https://localhost:8080/",
          "height": 518
        },
        "id": "FgSgnrWYxWD6",
        "outputId": "34964e81-e73a-4fbc-bbf2-8f87e927fda1"
      },
      "execution_count": null,
      "outputs": [
        {
          "output_type": "display_data",
          "data": {
            "text/plain": [
              "<Figure size 576x576 with 1 Axes>"
            ],
            "image/png": "[encoded data removed]"
          },
          "metadata": {}
        }
      ]
    }
  ]
}